{
 "cells": [
  {
   "cell_type": "markdown",
   "id": "046428be-9ccd-4f60-a744-457c4e561dd6",
   "metadata": {},
   "source": [
    "## Web Scraping"
   ]
  },
  {
   "cell_type": "markdown",
   "id": "7db398aa-0e8a-4d7c-bfcb-0451ac737441",
   "metadata": {},
   "source": [
    "For the topic of web scraping, I thought of extracting data from a cricket website which will give rankings of the Top20 countries playing cricket. For this project I have considered One Day International (ODI) rankings of the teams. "
   ]
  },
  {
   "cell_type": "code",
   "execution_count": 140,
   "id": "6d5a8b6c-6c52-469e-bd3b-73fc37bfcaee",
   "metadata": {},
   "outputs": [],
   "source": [
    "# imported required libraries\n",
    "import requests\n",
    "import bs4\n",
    "import pandas as pd\n",
    "import re\n",
    "import matplotlib.pyplot as plt"
   ]
  },
  {
   "cell_type": "code",
   "execution_count": 141,
   "id": "640fb050-c16a-455e-91fa-5ae6611c0e52",
   "metadata": {},
   "outputs": [],
   "source": [
    "# url of the link from where the table is to be imported\n",
    "url = 'https://www.icc-cricket.com/rankings/mens/team-rankings/odi'\n",
    "\n",
    "#Got the text version of the above url\n",
    "response = requests.get(url).text"
   ]
  },
  {
   "cell_type": "markdown",
   "id": "57a97be7-1d59-4847-a3d4-15aaad1ffd32",
   "metadata": {},
   "source": [
    "Converted the text version into soup object"
   ]
  },
  {
   "cell_type": "code",
   "execution_count": 142,
   "id": "231a6d61-ce04-494d-83d6-68832697a7cc",
   "metadata": {
    "collapsed": true,
    "jupyter": {
     "outputs_hidden": true
    },
    "tags": []
   },
   "outputs": [
    {
     "data": {
      "text/plain": [
       "<!DOCTYPE html>\n",
       "\n",
       "<html lang=\"en\">\n",
       "<head>\n",
       "<meta content=\"ICC Ranking for ODI teams International Cricket Council\" name=\"twitter:title\"/>\n",
       "<meta content=\"website\" property=\"og:type\"/>\n",
       "<meta content=\"summary_large_image\" property=\"twitter:card\"/>\n",
       "<meta content=\"Official International Cricket Council ranking for One Day International (ODI) cricket teams. Discover latest ICC rankings table, predict upcoming matches, see points and ratings for all teams.\" name=\"description\"/>\n",
       "<meta content=\"@icc\" property=\"twitter:site\"/>\n",
       "<meta content=\"Official International Cricket Council ranking for One Day International (ODI) cricket teams. Discover latest ICC rankings table, predict upcoming matches, see points and ratings for all teams.\" name=\"twitter:description\"/>\n",
       "<meta content=\"https://www.icc-cricket.com/resources/ver/i/elements/default-thumbnail.jpg\" name=\"twitter:image\"/>\n",
       "<meta content=\"ICC Ranking for ODI teams International Cricket Council\" property=\"og:title\"/>\n",
       "<meta content=\"https://www.icc-cricket.com/resources/ver/i/elements/default-thumbnail.jpg\" property=\"og:image\"/>\n",
       "<title>ICC Ranking for ODI teams International Cricket Council</title>\n",
       "<meta content=\"Official International Cricket Council ranking for One Day International (ODI) cricket teams. Discover latest ICC rankings table, predict upcoming matches, see points and ratings for all teams.\" property=\"og:description\"/>\n",
       "<!-- Designed and built by Pulselive - www.pulselive.com -->\n",
       "<script>\n",
       "\n",
       "    var dataLayer = [{\n",
       "        'user_language':'English',\n",
       "        'web_domain':'www.icc-cricket.com',\n",
       "        'page_type':'/rankings/mens/team-rankings/odi'  \n",
       "    }];\n",
       "\n",
       "</script>\n",
       "<!-- Google Tag Manager -->\n",
       "<script>(function(w,d,s,l,i){w[l]=w[l]||[];w[l].push({'gtm.start':\n",
       "new Date().getTime(),event:'gtm.js'});var f=d.getElementsByTagName(s)[0],\n",
       "j=d.createElement(s),dl=l!='dataLayer'?'&l='+l:'';j.async=true;j.src=\n",
       "'https://www.googletagmanager.com/gtm.js?id='+i+dl;f.parentNode.insertBefore(j,f);\n",
       "})(window,document,'script','dataLayer','GTM-T7DPH24');</script>\n",
       "<!-- End Google Tag Manager -->\n",
       "<meta charset=\"utf-8\"/>\n",
       "<meta content=\"width=device-width, initial-scale=1\" name=\"viewport\"/>\n",
       "<meta content=\"app-id=956440606\" name=\"apple-itunes-app\">\n",
       "<link href=\"/resources/prod/v8.18.18/manifest.json\" rel=\"manifest\"/>\n",
       "<link href=\"/resources/prod/v8.18.18/i/elements/favicon.ico\" rel=\"shortcut icon\">\n",
       "<link href=\"https://plus.google.com/+ICC\" rel=\"publisher\"/>\n",
       "<title>International Cricket Council</title>\n",
       "<!-- google platform library -->\n",
       "<script async=\"\" defer=\"\" src=\"https://apis.google.com/js/api:client.js?onload=startApp\"></script>\n",
       "<script>\n",
       "\n",
       "    var startApp = function() {\n",
       "        gapi.load('auth2', function(){\n",
       "            // Retrieve the singleton for the GoogleAuth library and set up the client.\n",
       "            auth2 = gapi.auth2.init({\n",
       "                client_id: '844310787835-1rirg6e5plp2jou6v701br43iuo0lkcu.apps.googleusercontent.com'\n",
       "                // Request scopes in addition to 'profile' and 'email'\n",
       "                //scope: 'additional_scope'\n",
       "            });\n",
       "        });\n",
       "    };\n",
       "</script>\n",
       "<link href=\"https://fonts.googleapis.com/css?family=Hind+Siliguri:300,400,500,600\" rel=\"stylesheet\"/>\n",
       "<!-- Polyfill service provided by the FT - https://github.com/Financial-Times/polyfill-service -->\n",
       "<script src=\"https://cdn.polyfill.io/v2/polyfill.min.js?features=default,fetch\"></script>\n",
       "<link href=\"/resources/prod/v8.18.18/styles/screen.css\" rel=\"stylesheet\">\n",
       "<script>\n",
       "\t\twindow.RESOURCE_VERSION = 'prod/v8.18.18';\n",
       "\t</script>\n",
       "</link></link></meta></head>\n",
       "<body>\n",
       "<!-- Google Tag Manager (noscript) -->\n",
       "<noscript><iframe height=\"0\" src=\"https://www.googletagmanager.com/ns.html?id=GTM-T7DPH24\" style=\"display:none;visibility:hidden\" width=\"0\"></iframe></noscript>\n",
       "<!-- End Google Tag Manager (noscript) -->\n",
       "<div class=\"u-hide\" data-script=\"icc_analytics-geolocation\" data-widget=\"analytics-geolocation\"></div>\n",
       "<!--\n",
       "    Start of Floodlight Tag: Please do not removeActivity name of this tag: ICC Website - VisitationURL of the webpage where the tag is expected to be placed: This tag must be placed between the <body> and </body> tags, as close as possible to the opening tag. Creation Date: 10/01/2019\n",
       "-->\n",
       "<iframe frameborder=\"0\" height=\"1\" src=\"https://9282652.fls.doubleclick.net/activityi;src=9282652;type=iccre0;cat=iccwe0;u1=[user_language];u2=[user_country];u3=[page_type];u4=[web_domain];dc_lat=;dc_rdid=;tag_for_child_directed_treatment=;tfua=;npa=;ord=[SessionID]?\" style=\"display:none\" width=\"1\"></iframe>\n",
       "<!-- End of Floodlight Tag: Please do not remove -->\n",
       "<script>\n",
       "    window.fbAsyncInit = function() {\n",
       "        FB.init({\n",
       "            appId            : 159513024983374,\n",
       "            autoLogAppEvents : true,\n",
       "            xfbml            : true,\n",
       "            version          : 'v3.0'\n",
       "        });\n",
       "    };\n",
       "\n",
       "    (function(d, s, id){\n",
       "        var js, fjs = d.getElementsByTagName(s)[0];\n",
       "        if (d.getElementById(id)) {return;}\n",
       "        js = d.createElement(s); js.id = id;\n",
       "        js.src = \"https://connect.facebook.net/en_US/sdk.js\";\n",
       "        fjs.parentNode.insertBefore(js, fjs);\n",
       "    }(document, 'script', 'facebook-jssdk'));\n",
       "</script>\n",
       "<div class=\"user-account-overlay js-user-account-overlay\"></div>\n",
       "<section class=\"user-account js-user-account\" data-script=\"sso_user-account\" data-widget=\"user-account\">\n",
       "<div class=\"user-account__wrapper js-panel-account u-hide\">\n",
       "<div class=\"user-account__header\">\n",
       "<div class=\"user-account__close js-account-slider-close-btn\" role=\"button\">\n",
       "<svg class=\"icon\"><use xlink:href=\"/resources/prod/v8.18.18/i/svg-output/icons.svg#icn-close\" xmlns:xlink=\"http://www.w3.org/1999/xlink\"></use></svg>\n",
       "</div>\n",
       "<div class=\"user-account__user-wrapper\">\n",
       "<div class=\"user-account__image\">\n",
       "<img alt=\"User Image\" class=\"u-hide js-account-user-img\" src=\"#\"/>\n",
       "</div>\n",
       "<div class=\"user-account__user-info\">\n",
       "<p class=\"user-account__user-info__text js-account-user\">Name Lastname</p>\n",
       "<p class=\"user-account__user-info__profile js-profile-completion-info u-hide\">\n",
       "<svg class=\"icon\"><use xlink:href=\"/resources/prod/v8.18.18/i/svg-output/icons.svg#icn-alert\" xmlns:xlink=\"http://www.w3.org/1999/xlink\"></use></svg>\n",
       "                        Profile <span class=\"js-profile-completion-percentage\"></span>% Complete\n",
       "                    </p>\n",
       "</div>\n",
       "</div>\n",
       "<div class=\"user-account__tabs-nav js-tabs-wrapper\"></div>\n",
       "</div>\n",
       "<div class=\"account-message js-account-message\"></div>\n",
       "<form autocomplete=\"off\" id=\"user-account\" name=\"user-account\">\n",
       "<div class=\"user-account__tab\" data-ui-tab=\"My Account\">\n",
       "<div class=\"user-account__social-wrapper js-social-wrapper u-hide\"></div>\n",
       "<fieldset>\n",
       "<div class=\"form-group-multiple\">\n",
       "<div class=\"form-group\">\n",
       "<label class=\"form-group__label\" for=\"given_name\">First name *</label>\n",
       "<input class=\"form-group__element\" id=\"given_name\" maxlength=\"50\" name=\"given_name\" pattern=\"^[A-Za-z-\\s]+$\" required=\"\" type=\"text\"/>\n",
       "<p class=\"js-error form-error\"></p>\n",
       "</div>\n",
       "<div class=\"form-group\">\n",
       "<label class=\"form-group__label\" for=\"family_name\">Last name *</label>\n",
       "<input class=\"form-group__element\" id=\"family_name\" maxlength=\"50\" name=\"family_name\" pattern=\"[A-Za-z-\\s]+$\" required=\"\" type=\"text\"/>\n",
       "<p class=\"js-error form-error\"></p>\n",
       "</div>\n",
       "</div>\n",
       "<div class=\"form-group-multiple form-group-multiple--with-button\">\n",
       "<div class=\"form-group is-disabled js-change-email-input\">\n",
       "<label class=\"form-group__label\" for=\"email\">Email address *</label>\n",
       "<input autocomplete=\"off\" class=\"form-group__element\" disabled=\"\" id=\"email\" maxlength=\"50\" name=\"email\" type=\"email\"/>\n",
       "<p class=\"js-error form-error\"></p>\n",
       "<p class=\"js-email-exists form-error form-error--email\">Email address not available.</p>\n",
       "</div>\n",
       "<div class=\"form-group form-group--button\">\n",
       "<button class=\"form-btn form-btn--outlined js-change-email\" novalidate=\"\" type=\"button\">Change Email</button>\n",
       "</div>\n",
       "</div>\n",
       "<div class=\"form-group-multiple form-group-multiple--with-button js-account-password\">\n",
       "<div class=\"form-group is-disabled js-change-password-input\">\n",
       "<label class=\"form-group__label\" for=\"password\">Password *</label>\n",
       "<input autocomplete=\"off\" class=\"form-group__element\" disabled=\"\" id=\"password\" name=\"password\" placeholder=\"******\" type=\"password\"/>\n",
       "<p class=\"js-error form-error\"></p>\n",
       "</div>\n",
       "<div class=\"form-group form-group--button\">\n",
       "<button class=\"form-btn form-btn--outlined js-change-password\" novalidate=\"\" type=\"button\">Change Password</button>\n",
       "</div>\n",
       "</div>\n",
       "<div class=\"form-block form-block\">\n",
       "<div class=\"form-block__label form-block__label--dob\">Date of Birth</div>\n",
       "<div class=\"form-group-multiple\">\n",
       "<div class=\"form-group\">\n",
       "<label class=\"form-group__label\" for=\"day\">Day *</label>\n",
       "<input class=\"form-group__element\" id=\"day\" min=\"0\" name=\"day\" placeholder=\"dd\" required=\"\" type=\"number\"/>\n",
       "<p class=\"js-error form-error\"></p>\n",
       "</div>\n",
       "<div class=\"form-group\">\n",
       "<label class=\"form-group__label\" for=\"month\">Month *</label>\n",
       "<input class=\"form-group__element\" id=\"month\" min=\"0\" name=\"month\" placeholder=\"mm\" required=\"\" type=\"number\"/>\n",
       "<p class=\"js-error form-error\"></p>\n",
       "</div>\n",
       "<div class=\"form-group\">\n",
       "<label class=\"form-group__label\" for=\"year\">Year *</label>\n",
       "<input class=\"form-group__element\" id=\"year\" min=\"0\" name=\"year\" placeholder=\"yyyy\" required=\"\" type=\"number\"/>\n",
       "<p class=\"js-error form-error\"></p>\n",
       "</div>\n",
       "</div>\n",
       "<p class=\"js-date-error form-error form-error--date\">The date of birth is not valid</p>\n",
       "</div>\n",
       "<div class=\"form-block\" data-dropdown-type=\"SSO_COUNTRY\" data-widget=\"form-dropdown\">\n",
       "<div class=\"form-block__label\">Country of residence</div>\n",
       "<div class=\"form-dropdown js-dropdown-wrapper\"></div>\n",
       "</div>\n",
       "</fieldset>\n",
       "</div>\n",
       "<div class=\"user-account__tab\" data-ui-tab=\"My Preferences\">\n",
       "<div class=\"js-account-prefs u-hide\">\n",
       "<fieldset>\n",
       "<div class=\"form-block\" data-dropdown-type=\"SSO_TEAM\" data-widget=\"form-dropdown\">\n",
       "<div class=\"form-block__label\">Your favourite team</div>\n",
       "<div class=\"form-dropdown js-dropdown-wrapper\"></div>\n",
       "</div>\n",
       "<div class=\"js-contact-prefs user-account__contact-prefs-wrapper\">\n",
       "<div class=\"user-account__alert\">\n",
       "<svg class=\"icon\"><use xlink:href=\"/resources/prod/v8.18.18/i/svg-output/icons.svg#icn-alert\" xmlns:xlink=\"http://www.w3.org/1999/xlink\"></use></svg>\n",
       "<span>Sorry, but your contact preferences will take up to 24hrs to update</span>\n",
       "</div>\n",
       "<div class=\"user-account__contact-prefs\">\n",
       "<div class=\"form-block form-block--no-margin\">\n",
       "<div class=\"form-group form-group--checkbox\">\n",
       "<input class=\"form-group__element\" id=\"allow-contacting\" name=\"allow-contacting\" type=\"checkbox\"/>\n",
       "<label class=\"form-group__label\" for=\"allow-contacting\">I'm happy for the ICC to contact me</label>\n",
       "</div>\n",
       "<p class=\"js-error form-error\"></p>\n",
       "</div>\n",
       "<div class=\"form-block form-block--no-margin\">\n",
       "<div class=\"form-group form-group--checkbox\">\n",
       "<input class=\"form-group__element\" id=\"allow-partner-contacting\" name=\"allow-partner-contacting\" type=\"checkbox\"/>\n",
       "<label class=\"form-group__label\" for=\"allow-partner-contacting\">I'm happy for the ICC's partners to contact me</label>\n",
       "</div>\n",
       "<p class=\"js-error form-error\"></p>\n",
       "</div>\n",
       "</div>\n",
       "</div>\n",
       "</fieldset>\n",
       "</div>\n",
       "<div class=\"overlay__loader__small js-loader-prefs\">\n",
       "    Hold on! Loading your preferences <div class=\"loader loader--small\"></div>\n",
       "</div>\n",
       "</div>\n",
       "<div class=\"user-account__buttons-wrapper\">\n",
       "<div class=\"user-account__account-actions js-buttons-wrapper\">\n",
       "<button class=\"form-btn form-btn--grey is-disabled js-cancel\" disabled=\"\">Cancel</button>\n",
       "<button class=\"form-btn is-disabled js-submit\" disabled=\"\" type=\"submit\">Save Changes</button>\n",
       "<div class=\"loader js-loader u-hide\"></div>\n",
       "</div>\n",
       "<button class=\"form-btn form-btn--grey js-account-signout u-show-tablet\">Sign Out<svg class=\"icon\"><use xlink:href=\"/resources/prod/v8.18.18/i/svg-output/icons.svg#icn-sign-out\" xmlns:xlink=\"http://www.w3.org/1999/xlink\"></use></svg></button>\n",
       "</div>\n",
       "</form>\n",
       "</div>\n",
       "<div class=\"user-account__wrapper js-panel-account-password u-hide\">\n",
       "<form id=\"account-edit-password\" name=\"account-edit-password\" novalidate=\"\">\n",
       "<div class=\"user-account__tabs-wrapper\">\n",
       "<h1 class=\"overlay__title\">\n",
       "            Edit your password\n",
       "            <span class=\"overlay__title__option\"><a class=\"form-cta js-cancel-password\" href=\"#\">back</a></span>\n",
       "</h1>\n",
       "<div class=\"form-group form-group--password\">\n",
       "<div class=\"form-group__password-action js-toggle-password\">Show</div>\n",
       "<label class=\"form-group__label\" for=\"current-password\">Current Password *</label>\n",
       "<input class=\"form-group__element\" id=\"current-password\" name=\"current-password\" required=\"\" type=\"password\"/>\n",
       "<p class=\"js-error form-error\"></p>\n",
       "<p class=\"js-current-pwd-error form-error form-error--email\">Invalid current password</p>\n",
       "</div>\n",
       "<a class=\"form-cta form-cta--right\" href=\"/forgot-password\">Forgot password?</a>\n",
       "<div class=\"form-block\">\n",
       "<div class=\"form-group form-group--password\">\n",
       "<div class=\"form-group__password-action js-toggle-password\">Show</div>\n",
       "<label class=\"form-group__label\" for=\"new-password\">New password *</label>\n",
       "<input class=\"form-group__element\" id=\"new-password\" name=\"new-password\" required=\"\" type=\"password\"/>\n",
       "<div class=\"form-block__verify-password form-block__verify-password--slider js-verify-password\">\n",
       "                    Password must include...\n",
       "                    <ul class=\"form-block__verify-list\">\n",
       "<li class=\"js-verify-length\">8 or more characters</li>\n",
       "<li class=\"js-verify-letters\">At least one upper and lower case letter</li>\n",
       "<li class=\"js-verify-number\">At least one number or symbol</li>\n",
       "</ul>\n",
       "</div>\n",
       "<p class=\"js-error form-error\"></p>\n",
       "<p class=\"js-new-pwd-error form-error form-error--email\">The new password needs to be different than the current one.</p>\n",
       "</div>\n",
       "</div>\n",
       "<div class=\"form-group form-group--password\">\n",
       "<div class=\"form-group__password-action js-toggle-password\">Show</div>\n",
       "<label class=\"form-group__label\" for=\"confirm-password\">Confirm new password *</label>\n",
       "<input class=\"form-group__element\" id=\"confirm-password\" name=\"confirm-password\" required=\"\" type=\"password\"/>\n",
       "<p class=\"js-error form-error\"></p>\n",
       "<p class=\"js-confirm-pwd-error form-error form-error--email\">The confirmation does not match your new password</p>\n",
       "</div>\n",
       "</div>\n",
       "<div class=\"user-account__buttons-wrapper\">\n",
       "<div class=\"user-account__account-actions\">\n",
       "<button class=\"form-btn form-btn--grey js-cancel-password\" type=\"button\">Cancel</button>\n",
       "<button class=\"form-btn is-disabled js-submit-password\" disabled=\"\" type=\"submit\">Change Password</button>\n",
       "<div class=\"loader js-password-loader u-hide\"></div>\n",
       "</div>\n",
       "</div>\n",
       "</form>\n",
       "</div>\n",
       "</section>\n",
       "<div class=\"js-mobile-banner mobile-banner\" data-widget=\"mobile-banner\">\n",
       "<div class=\"wrapper\">\n",
       "<div class=\"col-12\">\n",
       "<div class=\"mobile-banner__wrapper\">\n",
       "<p class=\"mobile-banner__header\">Official ICC App</p>\n",
       "<p class=\"mobile-banner__subheader\"><strong>Your App for international cricket.</strong> The official ICC app provides coverage across all of the current international action including fixtures, results, videos, ICC news, rankings and more. Don’t miss a moment and keep up with the latest from around the world of cricket!</p>\n",
       "<div class=\"mobile-banner__app-buttons\">\n",
       "<a class=\"btn\" href=\"https://www.icc-cricket.com/mobile\" target=\"_blank\">Find Out More</a>\n",
       "</div>\n",
       "</div>\n",
       "</div>\n",
       "</div>\n",
       "<a class=\"mobile-banner__close js-mobile-banner-close\">\n",
       "<svg class=\"icon\"><use xlink:href=\"/resources/prod/v8.18.18/i/svg-output/icons.svg#icn-close\" xmlns:xlink=\"http://www.w3.org/1999/xlink\"></use></svg>\n",
       "</a>\n",
       "</div>\n",
       "<div class=\"global-header\">\n",
       "<ul class=\"global-header__list\">\n",
       "<li class=\"global-header__item\">\n",
       "<a class=\"global-header__link\" href=\"http://www.icctravelandtours.com/\"><svg class=\"icon plane\"><use xlink:href=\"/resources/prod/v8.18.18/i/svg-output/icons.svg#icn-plane\" xmlns:xlink=\"http://www.w3.org/1999/xlink\"></use></svg>ICC Travel &amp; Tours</a>\n",
       "</li>\n",
       "<li class=\"global-header__item\">\n",
       "<a class=\"global-header__link\" href=\"https://tickets.t20worldcup.com/content/wt20/home.aspx\"><svg class=\"icon tickets\"><use xlink:href=\"/resources/prod/v8.18.18/i/svg-output/icons.svg#icn-tickets\" xmlns:xlink=\"http://www.w3.org/1999/xlink\"></use></svg>ICC Tickets</a>\n",
       "</li>\n",
       "<li class=\"global-header__item\">\n",
       "<a class=\"global-header__link\" href=\"https://icccricketshop.com/\"><svg class=\"icon shopping-cart\"><use xlink:href=\"/resources/prod/v8.18.18/i/svg-output/icons.svg#icn-shopping-cart\" xmlns:xlink=\"http://www.w3.org/1999/xlink\"></use></svg>ICC Shop</a>\n",
       "</li>\n",
       "</ul>\n",
       "<ul class=\"global-header-social__list\">\n",
       "<li class=\"global-header-social__item\">\n",
       "<a class=\"global-header-social__link global-header-social__link--facebook-f\" href=\"https://www.facebook.com/icc/\" target=\"_blank\">\n",
       "<svg class=\"icon\"><use xlink:href=\"/resources/prod/v8.18.18/i/svg-output/icons.svg#icn-facebook-f\" xmlns:xlink=\"http://www.w3.org/1999/xlink\"></use></svg>\n",
       "</a>\n",
       "</li>\n",
       "<li class=\"global-header-social__item\">\n",
       "<a class=\"global-header-social__link global-header-social__link--twitter\" href=\"https://twitter.com/ICC\" target=\"_blank\">\n",
       "<svg class=\"icon\"><use xlink:href=\"/resources/prod/v8.18.18/i/svg-output/icons.svg#icn-twitter\" xmlns:xlink=\"http://www.w3.org/1999/xlink\"></use></svg>\n",
       "</a>\n",
       "</li>\n",
       "<li class=\"global-header-social__item\">\n",
       "<a class=\"global-header-social__link global-header-social__link--instagram\" href=\"https://www.instagram.com/icc/\" target=\"_blank\">\n",
       "<svg class=\"icon\"><use xlink:href=\"/resources/prod/v8.18.18/i/svg-output/icons.svg#icn-instagram\" xmlns:xlink=\"http://www.w3.org/1999/xlink\"></use></svg>\n",
       "</a>\n",
       "</li>\n",
       "<li class=\"global-header-social__item\">\n",
       "<a class=\"global-header-social__link global-header-social__link--youtube\" href=\"https://www.youtube.com/user/CricketICC\" target=\"_blank\">\n",
       "<svg class=\"icon\"><use xlink:href=\"/resources/prod/v8.18.18/i/svg-output/icons.svg#icn-youtube\" xmlns:xlink=\"http://www.w3.org/1999/xlink\"></use></svg>\n",
       "</a>\n",
       "</li>\n",
       "</ul>\n",
       "<div class=\"global-header__sso\" data-script=\"icc_global-header\" data-widget=\"user-login\">\n",
       "<a class=\"btn btn--account btn--icon js-nav-default is-transitioning\" href=\"/sign-in\">\n",
       "<svg class=\"icon\"><use xlink:href=\"/resources/prod/v8.18.18/i/svg-output/icons.svg#icn-account\" xmlns:xlink=\"http://www.w3.org/1999/xlink\"></use></svg>\n",
       "        Sign In / Create Account\n",
       "        <span class=\"btn__loading-bar\"></span>\n",
       "</a>\n",
       "<div class=\"global-header__sign-in js-nav-signedin u-hide\">\n",
       "<div class=\"global-header__user-message js-nav-user\" role=\"button\" tabindex=\"0\">\n",
       "<div class=\"global-header__image-container\">\n",
       "<img alt=\"User Image\" class=\"u-hide js-nav-user-img\" src=\"#\"/>\n",
       "</div>\n",
       "<div class=\"global-header__username\">Welcome back, <span class=\"js-nav-user-text\"></span></div>\n",
       "</div>\n",
       "<ul class=\"global-header__dropdown global-header__user-dropdown js-dropdown\">\n",
       "<li class=\"global-header__dropdown-item\"><a class=\"js-nav-account\" href=\"#\">Account</a></li>\n",
       "<li class=\"global-header__dropdown-item global-header__dropdown-item--signout\">\n",
       "<a class=\"js-nav-logout\" href=\"#\">Sign Out</a>\n",
       "<svg class=\"icon\"><use xlink:href=\"/resources/prod/v8.18.18/i/svg-output/icons.svg#icn-sign-out\" xmlns:xlink=\"http://www.w3.org/1999/xlink\"></use></svg>\n",
       "</li>\n",
       "</ul>\n",
       "</div>\n",
       "</div>\n",
       "</div>\n",
       "<div class=\"global-navigation\">\n",
       "<div class=\"global-navigation__default-bg\"></div>\n",
       "<div class=\"global-navigation__fixed-container\" data-script=\"icc_global-navigation\" data-widget=\"global-navigation\">\n",
       "<nav class=\"global-navigation__main js-global-navigation is-open\" data-active-class=\"is-fixed\" data-widget=\"scroll-boundary\">\n",
       "<a class=\"global-navigation__branding\" href=\"/home-page\">\n",
       "<div class=\"icn icn-logo-icc\"></div>\n",
       "</a>\n",
       "<div class=\"global-navigation__menu-button js-global-navigation-menu-button\" role=\"button\">\n",
       "<span class=\"global-navigation__menu-button-text global-navigation__menu-button-text--open\">Menu</span>\n",
       "<span class=\"global-navigation__menu-button-text global-navigation__menu-button-text--close\">Close</span>\n",
       "<div class=\"menu-button\">\n",
       "<div></div>\n",
       "<div></div>\n",
       "<div></div>\n",
       "</div>\n",
       "</div>\n",
       "<div class=\"global-navigation__container js-global-navigation-container\">\n",
       "<ul class=\"global-navigation__list\">\n",
       "<li class=\"global-navigation__item js-global-navigation-item #! global-navigation__item--home has-link\" tabindex=\"0\">\n",
       "<div class=\"global-navigation__link\" role=\"button\">\n",
       "<a href=\"/\">Home\n",
       "                </a>\n",
       "</div>\n",
       "</li>\n",
       "<li class=\"global-navigation__item js-global-navigation-item #! global-navigation__item--live has-drop-down\" tabindex=\"0\">\n",
       "<div class=\"global-navigation__link\" role=\"button\">\n",
       "\t\t         Live <svg class=\"icon\"><use xlink:href=\"/resources/prod/v8.18.18/i/svg-output/icons.svg#icn-chevron-down\" xmlns:xlink=\"http://www.w3.org/1999/xlink\"></use></svg>\n",
       "<span class=\"global-navigation__live-counter js-match-counter-nav\"></span>\n",
       "</div>\n",
       "<div class=\"global-navigation__drop-down\">\n",
       "<ul class=\"global-navigation__drop-down-list\">\n",
       "<li class=\"global-navigation__drop-down-item\"><a class=\"global-navigation__drop-down-link js-global-navigation-drop-down-link\" href=\"/live-cricket/live\">Live Scores</a></li>\n",
       "<li class=\"global-navigation__drop-down-item\"><a class=\"global-navigation__drop-down-link js-global-navigation-drop-down-link\" href=\"/live-cricket/mens-results\">Men's Results</a></li>\n",
       "<li class=\"global-navigation__drop-down-item\"><a class=\"global-navigation__drop-down-link js-global-navigation-drop-down-link\" href=\"/live-cricket/womens-results\">Women's Results</a></li>\n",
       "</ul>\n",
       "</div>\n",
       "</li>\n",
       "<li class=\"global-navigation__item js-global-navigation-item #! has-drop-down\" tabindex=\"0\">\n",
       "<div class=\"global-navigation__link\" role=\"button\">\n",
       "\t\t         Fixtures <svg class=\"icon\"><use xlink:href=\"/resources/prod/v8.18.18/i/svg-output/icons.svg#icn-chevron-down\" xmlns:xlink=\"http://www.w3.org/1999/xlink\"></use></svg>\n",
       "</div>\n",
       "<div class=\"global-navigation__drop-down\">\n",
       "<ul class=\"global-navigation__drop-down-list\">\n",
       "<li class=\"global-navigation__drop-down-item\"><a class=\"global-navigation__drop-down-link js-global-navigation-drop-down-link\" href=\"/mens-schedule/list\">Men's Fixtures</a></li>\n",
       "<li class=\"global-navigation__drop-down-item\"><a class=\"global-navigation__drop-down-link js-global-navigation-drop-down-link\" href=\"/womens-schedule/list\">Women's Fixtures</a></li>\n",
       "</ul>\n",
       "</div>\n",
       "</li>\n",
       "<li class=\"global-navigation__item js-global-navigation-item #! has-drop-down\" tabindex=\"0\">\n",
       "<div class=\"global-navigation__link\" role=\"button\">\n",
       "\t\t         ICC Events <svg class=\"icon\"><use xlink:href=\"/resources/prod/v8.18.18/i/svg-output/icons.svg#icn-chevron-down\" xmlns:xlink=\"http://www.w3.org/1999/xlink\"></use></svg>\n",
       "</div>\n",
       "<div class=\"global-navigation__drop-down\">\n",
       "<ul class=\"global-navigation__drop-down-list\">\n",
       "<li class=\"global-navigation__drop-down-item\"><a class=\"global-navigation__drop-down-link js-global-navigation-drop-down-link\" href=\"/u19-world-cup/\">ICC U19 Cricket World Cup</a></li>\n",
       "<li class=\"global-navigation__drop-down-item\"><a class=\"global-navigation__drop-down-link js-global-navigation-drop-down-link\" href=\"/world-test-championship\">ICC World Test Championship</a></li>\n",
       "<li class=\"global-navigation__drop-down-item\"><a class=\"global-navigation__drop-down-link js-global-navigation-drop-down-link\" href=\"/t20-world-cup\">ICC T20 World Cup</a></li>\n",
       "<li class=\"global-navigation__drop-down-item\"><a class=\"global-navigation__drop-down-link js-global-navigation-drop-down-link\" href=\"http://www.cricketworldcup.com\">ICC Men's Cricket World Cup</a></li>\n",
       "<li class=\"global-navigation__drop-down-item\"><a class=\"global-navigation__drop-down-link js-global-navigation-drop-down-link\" href=\"/womens-world-cup/\">ICC Women's Cricket World Cup</a></li>\n",
       "<li class=\"global-navigation__drop-down-item\"><a class=\"global-navigation__drop-down-link js-global-navigation-drop-down-link\" href=\"/cricket-world-cup-super-league/fixtures\">ICC Men's Cricket World Cup Super League</a></li>\n",
       "<li class=\"global-navigation__drop-down-item\"><a class=\"global-navigation__drop-down-link js-global-navigation-drop-down-link\" href=\"/cricket-world-cup-challenge-league/news\">ICC Men's Cricket World Cup Challenge League</a></li>\n",
       "<li class=\"global-navigation__drop-down-item\"><a class=\"global-navigation__drop-down-link js-global-navigation-drop-down-link\" href=\"/cricket-world-cup-league-two/news\">ICC Men's Cricket World Cup League 2</a></li>\n",
       "<li class=\"global-navigation__drop-down-item\"><a class=\"global-navigation__drop-down-link js-global-navigation-drop-down-link\" href=\"/womens-championship\">ICC Women's Championship</a></li>\n",
       "<li class=\"global-navigation__drop-down-item\"><a class=\"global-navigation__drop-down-link js-global-navigation-drop-down-link\" href=\"/event-status\">2021 Event status</a></li>\n",
       "</ul>\n",
       "</div>\n",
       "</li>\n",
       "<li class=\"global-navigation__item js-global-navigation-item #! has-drop-down\" tabindex=\"0\">\n",
       "<div class=\"global-navigation__link\" role=\"button\">\n",
       "\t\t         Rankings <svg class=\"icon\"><use xlink:href=\"/resources/prod/v8.18.18/i/svg-output/icons.svg#icn-chevron-down\" xmlns:xlink=\"http://www.w3.org/1999/xlink\"></use></svg>\n",
       "</div>\n",
       "<div class=\"global-navigation__drop-down global-navigation__drop-down--2-column\">\n",
       "<div class=\"global-navigation__drop-down-column\">\n",
       "<div class=\"global-navigation__drop-down-title\">Men's Rankings</div>\n",
       "<ul class=\"global-navigation__drop-down-list\">\n",
       "<li class=\"global-navigation__drop-down-item\"><a class=\"global-navigation__drop-down-link js-global-navigation-drop-down-link\" href=\"/rankings/mens/overview\">Overview</a></li>\n",
       "<li class=\"global-navigation__drop-down-item\"><a class=\"global-navigation__drop-down-link js-global-navigation-drop-down-link\" href=\"/rankings/mens/team-rankings\">Team Rankings</a></li>\n",
       "<li class=\"global-navigation__drop-down-item\"><a class=\"global-navigation__drop-down-link js-global-navigation-drop-down-link\" href=\"/rankings/mens/player-rankings\">Players Rankings</a></li>\n",
       "<li class=\"global-navigation__drop-down-item\"><a class=\"global-navigation__drop-down-link js-global-navigation-drop-down-link\" href=\"/rankings/mens/player-rankings/comparison\">Player Comparison</a></li>\n",
       "<li class=\"global-navigation__drop-down-item\"><a class=\"global-navigation__drop-down-link js-global-navigation-drop-down-link\" href=\"/rankings/mens/rankings-predictor/test\">Team Rankings Predictor</a></li>\n",
       "<li class=\"global-navigation__drop-down-item\"><a class=\"global-navigation__drop-down-link js-global-navigation-drop-down-link\" href=\"/rankings/about\">About the Rankings</a></li>\n",
       "<li class=\"global-navigation__drop-down-item\"><a class=\"global-navigation__drop-down-link js-global-navigation-drop-down-link\" href=\"/rankings/faqs\">Rankings FAQ</a></li>\n",
       "</ul>\n",
       "</div>\n",
       "<div class=\"global-navigation__drop-down-column\">\n",
       "<div class=\"global-navigation__drop-down-title\">Women's Rankings</div>\n",
       "<ul class=\"global-navigation__drop-down-list\">\n",
       "<li class=\"global-navigation__drop-down-item\"><a class=\"global-navigation__drop-down-link js-global-navigation-drop-down-link\" href=\"/rankings/womens/overview\">Overview</a></li>\n",
       "<li class=\"global-navigation__drop-down-item\"><a class=\"global-navigation__drop-down-link js-global-navigation-drop-down-link\" href=\"/rankings/womens/team-rankings\">Team Rankings</a></li>\n",
       "<li class=\"global-navigation__drop-down-item\"><a class=\"global-navigation__drop-down-link js-global-navigation-drop-down-link\" href=\"/rankings/womens/player-rankings\">Player Rankings</a></li>\n",
       "</ul>\n",
       "</div>\n",
       "</div>\n",
       "</li>\n",
       "<li class=\"global-navigation__item js-global-navigation-item #! has-drop-down\" tabindex=\"0\">\n",
       "<div class=\"global-navigation__link\" role=\"button\">\n",
       "\t\t         Teams <svg class=\"icon\"><use xlink:href=\"/resources/prod/v8.18.18/i/svg-output/icons.svg#icn-chevron-down\" xmlns:xlink=\"http://www.w3.org/1999/xlink\"></use></svg>\n",
       "</div>\n",
       "<div class=\"global-navigation__drop-down\">\n",
       "<ul class=\"global-navigation__drop-down-list\">\n",
       "<li class=\"global-navigation__drop-down-item\"><a class=\"global-navigation__drop-down-link js-global-navigation-drop-down-link\" href=\"https://www.icc-cricket.com/teams/men\">Men</a></li>\n",
       "<li class=\"global-navigation__drop-down-item\"><a class=\"global-navigation__drop-down-link js-global-navigation-drop-down-link\" href=\"https://www.icc-cricket.com/teams/women\">Women</a></li>\n",
       "<li class=\"global-navigation__drop-down-item\"><a class=\"global-navigation__drop-down-link js-global-navigation-drop-down-link\" href=\"https://www.icc-cricket.com/teams/u19\">U19</a></li>\n",
       "</ul>\n",
       "</div>\n",
       "</li>\n",
       "<li class=\"global-navigation__item js-global-navigation-item #! has-drop-down\" tabindex=\"0\">\n",
       "<div class=\"global-navigation__link\" role=\"button\">\n",
       "\t\t         Video <svg class=\"icon\"><use xlink:href=\"/resources/prod/v8.18.18/i/svg-output/icons.svg#icn-chevron-down\" xmlns:xlink=\"http://www.w3.org/1999/xlink\"></use></svg>\n",
       "</div>\n",
       "<div class=\"global-navigation__drop-down\">\n",
       "<ul class=\"global-navigation__drop-down-list\">\n",
       "<li class=\"global-navigation__drop-down-item\"><a class=\"global-navigation__drop-down-link js-global-navigation-drop-down-link\" href=\"/video/vault\">ICC Vault</a></li>\n",
       "<li class=\"global-navigation__drop-down-item\"><a class=\"global-navigation__drop-down-link js-global-navigation-drop-down-link\" href=\"/video\">Video Home</a></li>\n",
       "<li class=\"global-navigation__drop-down-item\"><a class=\"global-navigation__drop-down-link js-global-navigation-drop-down-link\" href=\"/video/by-country\">Videos By Country</a></li>\n",
       "<li class=\"global-navigation__drop-down-item\"><a class=\"global-navigation__drop-down-link js-global-navigation-drop-down-link\" href=\"/video/events\">ICC Events</a></li>\n",
       "<li class=\"global-navigation__drop-down-item\"><a class=\"global-navigation__drop-down-link js-global-navigation-drop-down-link\" href=\"/video/cricket-360\">ICC Cricket 360°</a></li>\n",
       "<li class=\"global-navigation__drop-down-item\"><a class=\"global-navigation__drop-down-link js-global-navigation-drop-down-link\" href=\"/video/what-is-cricket\">What is Cricket?</a></li>\n",
       "</ul>\n",
       "</div>\n",
       "</li>\n",
       "<li class=\"global-navigation__item js-global-navigation-item #! has-drop-down\" tabindex=\"0\">\n",
       "<div class=\"global-navigation__link\" role=\"button\">\n",
       "\t\t         More <svg class=\"icon\"><use xlink:href=\"/resources/prod/v8.18.18/i/svg-output/icons.svg#icn-chevron-down\" xmlns:xlink=\"http://www.w3.org/1999/xlink\"></use></svg>\n",
       "</div>\n",
       "<div class=\"global-navigation__drop-down\">\n",
       "<ul class=\"global-navigation__drop-down-list\">\n",
       "<li class=\"global-navigation__drop-down-item global-nav__item--divider\"><a class=\"global-navigation__drop-down-link js-global-navigation-drop-down-link\" href=\"https://www.icc-cricket.com/about\">About ICC</a></li>\n",
       "<li class=\"global-navigation__drop-down-item\"><a class=\"global-navigation__drop-down-link js-global-navigation-drop-down-link\" href=\"/quiz\">Quiz</a></li>\n",
       "<li class=\"global-navigation__drop-down-item\"><a class=\"global-navigation__drop-down-link js-global-navigation-drop-down-link\" href=\"/awards/overview\">Awards</a></li>\n",
       "<li class=\"global-navigation__drop-down-item\"><a class=\"global-navigation__drop-down-link js-global-navigation-drop-down-link\" href=\"/hall-of-fame\">Hall of Fame</a></li>\n",
       "<li class=\"global-navigation__drop-down-item\"><a class=\"global-navigation__drop-down-link js-global-navigation-drop-down-link\" href=\"/social\">ICC on Social</a></li>\n",
       "<li class=\"global-navigation__drop-down-item\"><a class=\"global-navigation__drop-down-link js-global-navigation-drop-down-link\" href=\"/media-releases\">Media Releases</a></li>\n",
       "<li class=\"global-navigation__drop-down-item\"><a class=\"global-navigation__drop-down-link js-global-navigation-drop-down-link\" href=\"/news\">News</a></li>\n",
       "<li class=\"global-navigation__drop-down-item\"><a class=\"global-navigation__drop-down-link js-global-navigation-drop-down-link\" href=\"/photos\">Photos</a></li>\n",
       "<li class=\"global-navigation__drop-down-item\"><a class=\"global-navigation__drop-down-link js-global-navigation-drop-down-link\" href=\"/cricket-for-good\">Cricket for Good</a></li>\n",
       "<li class=\"global-navigation__drop-down-item\"><a class=\"global-navigation__drop-down-link js-global-navigation-drop-down-link\" href=\"/mobile\">Mobile App</a></li>\n",
       "<li class=\"global-navigation__drop-down-item\"><a class=\"global-navigation__drop-down-link js-global-navigation-drop-down-link\" href=\"/news/318971\">Commercial Opportunities</a></li>\n",
       "<li class=\"global-navigation__drop-down-item\"><a class=\"global-navigation__drop-down-link js-global-navigation-drop-down-link\" href=\"/criiio/\">criiio</a></li>\n",
       "<li class=\"global-navigation__drop-down-item\"><a class=\"global-navigation__drop-down-link js-global-navigation-drop-down-link\" href=\"/100percentcricket\">100% Cricket</a></li>\n",
       "<li class=\"global-navigation__drop-down-item\"><a class=\"global-navigation__drop-down-link js-global-navigation-drop-down-link\" href=\"https://icccricketshop.com/\">ICC Shop</a></li>\n",
       "</ul>\n",
       "</div>\n",
       "</li>\n",
       "</ul>\n",
       "<div class=\"global-navigation-menu u-hide\">\n",
       "<ul class=\"global-navigation-menu__list\">\n",
       "<li class=\"global-navigation-menu__item\">\n",
       "<a class=\"global-navigation-menu__link\" href=\"http://www.icctravelandtours.com/\">\n",
       "<svg class=\"icon plane\"><use xlink:href=\"/resources/prod/v8.18.18/i/svg-output/icons.svg#icn-plane\" xmlns:xlink=\"http://www.w3.org/1999/xlink\"></use></svg>\n",
       "\t\t\t\t\t\t\tICC Travel &amp; Tours\n",
       "\t\t\t\t\t\t</a>\n",
       "</li>\n",
       "<li class=\"global-navigation-menu__item\">\n",
       "<a class=\"global-navigation-menu__link\" href=\"https://tickets.t20worldcup.com/content/wt20/home.aspx\">\n",
       "<svg class=\"icon tickets\"><use xlink:href=\"/resources/prod/v8.18.18/i/svg-output/icons.svg#icn-tickets\" xmlns:xlink=\"http://www.w3.org/1999/xlink\"></use></svg>\n",
       "\t\t\t\t\t\t\tICC Tickets\n",
       "\t\t\t\t\t\t</a>\n",
       "</li>\n",
       "<li class=\"global-navigation-menu__item\">\n",
       "<a class=\"global-navigation-menu__link\" href=\"https://icccricketshop.com/\">\n",
       "<svg class=\"icon shopping-cart\"><use xlink:href=\"/resources/prod/v8.18.18/i/svg-output/icons.svg#icn-shopping-cart\" xmlns:xlink=\"http://www.w3.org/1999/xlink\"></use></svg>\n",
       "\t\t\t\t\t\t\tICC Shop\n",
       "\t\t\t\t\t\t</a>\n",
       "</li>\n",
       "<li class=\"global-navigation-menu__item global-navigation-menu__item--user js-nav-default-mobile\">\n",
       "<a class=\"global-navigation-menu__link\" href=\"/sign-in\">\n",
       "<svg class=\"icon\"><use xlink:href=\"/resources/prod/v8.18.18/i/svg-output/icons.svg#icn-account\" xmlns:xlink=\"http://www.w3.org/1999/xlink\"></use></svg>\n",
       "                    Sign In/Create Account\n",
       "                </a>\n",
       "</li>\n",
       "<li class=\"global-navigation-menu__item global-navigation-menu__item--user js-nav-signedin-mobile u-hide\">\n",
       "<a class=\"global-navigation-menu__link\" href=\"#\">\n",
       "<div class=\"global-navigation-menu__image-container\">\n",
       "<img alt=\"User Image\" class=\"u-hide js-nav-user-img-mobile\" src=\"#\"/>\n",
       "</div>\n",
       "<div class=\"global-navigation-menu__username\">Hi <span class=\"js-nav-user-text-mobile\"></span></div>\n",
       "</a>\n",
       "</li>\n",
       "</ul>\n",
       "</div>\n",
       "</div>\n",
       "<div class=\"global-navigation__search js-global-navigation-search\" role=\"button\" tabindex=\"0\">\n",
       "<svg class=\"global-navigation__search-icon icon\"><use xlink:href=\"/resources/prod/v8.18.18/i/svg-output/icons.svg#icn-search\" xmlns:xlink=\"http://www.w3.org/1999/xlink\"></use></svg>\n",
       "<span class=\"global-navigation__search-text\">Search</span>\n",
       "</div>\n",
       "<a class=\"global-navigation__user js-nav-default-mobile\" href=\"/sign-in\" role=\"button\">\n",
       "<svg class=\"icon\"><use xlink:href=\"/resources/prod/v8.18.18/i/svg-output/icons.svg#icn-account\" xmlns:xlink=\"http://www.w3.org/1999/xlink\"></use></svg>\n",
       "</a>\n",
       "<a class=\"global-navigation__user js-nav-signedin-mobile u-hide\" href=\"#\" role=\"button\">\n",
       "<div class=\"global-navigation__image-container\">\n",
       "<img alt=\"User Image\" class=\"u-hide js-nav-user-img-mobile\" src=\"#\"/>\n",
       "</div>\n",
       "</a>\n",
       "<form action=\"/search\" class=\"global-navigation__search-open js-global-navigation-search-open\" type=\"GET\">\n",
       "<div class=\"global-navigation__search-input\">\n",
       "<input class=\"js-global-navigation-input\" name=\"term\" placeholder=\"Search ICC\" tabindex=\"-1\" type=\"text\"/>\n",
       "</div>\n",
       "<button class=\"global-navigation__search-go js-global-navigation-search-go\" tabindex=\"0\" type=\"submit\">\n",
       "<svg class=\"icon\"><use xlink:href=\"/resources/prod/v8.18.18/i/svg-output/icons.svg#icn-search\" xmlns:xlink=\"http://www.w3.org/1999/xlink\"></use></svg>\n",
       "</button>\n",
       "<div class=\"global-navigation__search-close js-global-navigation-search-close\" tabindex=\"0\">\n",
       "<svg class=\"icon\"><use xlink:href=\"/resources/prod/v8.18.18/i/svg-output/icons.svg#icn-close\" xmlns:xlink=\"http://www.w3.org/1999/xlink\"></use></svg>\n",
       "</div>\n",
       "</form>\n",
       "<div class=\"global-navigation__search-overlay\"></div>\n",
       "</nav>\n",
       "</div>\n",
       "</div>\n",
       "<main id=\"main-content\" tabindex=\"0\">\n",
       "<button class=\"scroll-to-top\" data-script=\"icc_scroll-to-top\" data-widget=\"scroll-to-top\">\n",
       "<svg class=\"scroll-to-top__icon\">\n",
       "<use xlink:href=\"/resources/prod/v8.18.18/i/svg-output/icons.svg#icn-up-arrow\" xmlns:xlink=\"http://www.w3.org/1999/xlink\"></use>\n",
       "</svg>\n",
       "<div aria-hidden=\"true\" class=\"scroll-to-top__mask\">\n",
       "<svg class=\"scroll-to-top__icon\">\n",
       "<use xlink:href=\"/resources/prod/v8.18.18/i/svg-output/icons.svg#icn-up-arrow\" xmlns:xlink=\"http://www.w3.org/1999/xlink\"></use>\n",
       "</svg>\n",
       "</div>\n",
       "<span class=\"u-screen-reader\">Scroll to Top</span>\n",
       "</button>\n",
       "<header class=\"page-header page-header--rankings\">\n",
       "<div class=\"wrapper\">\n",
       "<div class=\"col-12\">\n",
       "<div class=\"page-header__banner\">\n",
       "<a class=\"page-logo\" data-tracking-url=\"https://track.adform.net/adfserve/?bn=20093364;srctype=4;ord=%%ADFRND%%\" data-widget=\"impression-tracker\" href=\"http://track.adform.net/C/?bn=20093364\" target=\"_blank\">\n",
       "<span class=\"icn icn-logo-mrf-rankings\"></span>\n",
       "</a>\n",
       "</div>\n",
       "<div class=\"share share-- share--vertical\" data-widget=\"share\">\n",
       "<div class=\"share__container\">\n",
       "<div class=\"share__btn js-share-btn\">\n",
       "<svg class=\"icon\"><use xlink:href=\"/resources/prod/v8.18.18/i/svg-output/icons.svg#icn-share\" xmlns:xlink=\"http://www.w3.org/1999/xlink\"></use></svg>\n",
       "<div class=\"share__title\">Share</div>\n",
       "</div>\n",
       "<ul class=\"share__list\">\n",
       "<li class=\"share__item share__item--facebook js-social-option\" data-social-service=\"facebook\" role=\"button\" tabindex=\"0\">\n",
       "<svg class=\"icon\"><use xlink:href=\"/resources/prod/v8.18.18/i/svg-output/icons.svg#icn-facebook\" xmlns:xlink=\"http://www.w3.org/1999/xlink\"></use></svg>\n",
       "</li>\n",
       "<li class=\"share__item share__item--twitter js-social-option\" data-social-service=\"twitter\" role=\"button\" tabindex=\"0\">\n",
       "<svg class=\"icon\"><use xlink:href=\"/resources/prod/v8.18.18/i/svg-output/icons.svg#icn-twitter\" xmlns:xlink=\"http://www.w3.org/1999/xlink\"></use></svg>\n",
       "</li>\n",
       "<li class=\"share__item share__item--messenger u-show-tablet js-social-option\" data-social-service=\"facebookMessenger\" role=\"buttn\" tabindex=\"0\">\n",
       "<svg class=\"icon\"><use xlink:href=\"/resources/prod/v8.18.18/i/svg-output/icons.svg#icn-facebook-messenger\" xmlns:xlink=\"http://www.w3.org/1999/xlink\"></use></svg>\n",
       "</li>\n",
       "<li class=\"share__item share__item--whatsapp u-show-tablet js-social-option\" data-social-service=\"whatsapp\" role=\"button\" tabindex=\"0\">\n",
       "<svg class=\"icon\"><use xlink:href=\"/resources/prod/v8.18.18/i/svg-output/icons.svg#icn-whatsapp\" xmlns:xlink=\"http://www.w3.org/1999/xlink\"></use></svg>\n",
       "</li>\n",
       "<li class=\"share__item share__item--url u-hide-tablet js-copy-button\" role=\"button\" tabindex=\"0\">\n",
       "<svg class=\"icon\"><use xlink:href=\"/resources/prod/v8.18.18/i/svg-output/icons.svg#icn-url\" xmlns:xlink=\"http://www.w3.org/1999/xlink\"></use></svg>\n",
       "<div class=\"share__copy-message js-copy-message\">URL Copied</div>\n",
       "</li>\n",
       "</ul>\n",
       "</div>\n",
       "</div>\n",
       "</div>\n",
       "</div>\n",
       "</header>\n",
       "<div class=\"l-sticky-side-nav\">\n",
       "<div class=\"l-sticky-side-nav__nav\">\n",
       "<div class=\"rankings-menu\" data-script=\"icc_rankings-menu\" data-widget=\"rankings-menu\">\n",
       "<div class=\"drop-down-tablet js-drop-down\">\n",
       "<div class=\"drop-down__clickzone js-drop-down-trigger\" role=\"button\" tabindex=\"0\"></div>\n",
       "<div class=\"drop-down__label\">\n",
       "            Men's\n",
       "        </div>\n",
       "<div class=\"drop-down__current\">\n",
       "            Team Rankings\n",
       "            <svg class=\"icon\"><use xlink:href=\"/resources/prod/v8.18.18/i/svg-output/icons.svg#icn-caret-down\" xmlns:xlink=\"http://www.w3.org/1999/xlink\"></use></svg>\n",
       "</div>\n",
       "<div class=\"drop-down__dropdown-list js-drop-down-options\">\n",
       "<div class=\"rankings-menu__tab-container u-hide-tablet\">\n",
       "<nav class=\"content-tabs\">\n",
       "<ul class=\"block-list-2 u-no-font-size\" role=\"tablist\">\n",
       "<li class=\"u-no-padding u-no-margin\">\n",
       "<a class=\"content-tabs__tab content-tabs__tab--active\" href=\"/rankings/mens/overview\">Men's</a>\n",
       "</li>\n",
       "<li class=\"u-no-padding u-no-margin\">\n",
       "<a class=\"content-tabs__tab\" href=\"/rankings/womens/overview\">Women's</a>\n",
       "</li>\n",
       "</ul>\n",
       "</nav>\n",
       "</div>\n",
       "<div class=\"active tab-content\">\n",
       "<h3 class=\"rankings-menu__title\">Men's</h3>\n",
       "<ul class=\"rankings-menu__list\">\n",
       "<li class=\"rankings-menu__item rankings-menu__item--user-selection js-team-btn\">\n",
       "<a class=\"rankings-menu__link js-fav-team-link\" href=\"#\">Select your team</a>\n",
       "<svg class=\"icon\"><use xlink:href=\"/resources/prod/v8.18.18/i/svg-output/icons.svg#icn-chevron-right\" xmlns:xlink=\"http://www.w3.org/1999/xlink\"></use></svg>\n",
       "<div class=\"rankings-menu__notch js-notch\"></div>\n",
       "<svg class=\"rankings-menu__notch-icon icon\"><use xlink:href=\"/resources/prod/v8.18.18/i/svg-output/icons.svg#icn-star\" xmlns:xlink=\"http://www.w3.org/1999/xlink\"></use></svg>\n",
       "<li class=\"rankings-menu__item\">\n",
       "<a class=\"rankings-menu__link\" href=\"/rankings/mens/overview\">Overview<svg class=\"icon\"><use xlink:href=\"/resources/prod/v8.18.18/i/svg-output/icons.svg#icn-chevron-right\" xmlns:xlink=\"http://www.w3.org/1999/xlink\"></use></svg></a>\n",
       "</li>\n",
       "<li class=\"rankings-menu__item\">\n",
       "<a class=\"rankings-menu__link\" href=\"/rankings/mens/team-rankings\">Team Rankings<svg class=\"icon\"><use xlink:href=\"/resources/prod/v8.18.18/i/svg-output/icons.svg#icn-chevron-right\" xmlns:xlink=\"http://www.w3.org/1999/xlink\"></use></svg></a>\n",
       "</li>\n",
       "<li class=\"rankings-menu__item\">\n",
       "<a class=\"rankings-menu__link\" href=\"/rankings/mens/player-rankings\">Player Rankings<svg class=\"icon\"><use xlink:href=\"/resources/prod/v8.18.18/i/svg-output/icons.svg#icn-chevron-right\" xmlns:xlink=\"http://www.w3.org/1999/xlink\"></use></svg></a>\n",
       "</li>\n",
       "<li class=\"rankings-menu__item\">\n",
       "<a class=\"rankings-menu__link\" href=\"/rankings/mens/player-rankings/comparison\">Player Comparison<svg class=\"icon\"><use xlink:href=\"/resources/prod/v8.18.18/i/svg-output/icons.svg#icn-chevron-right\" xmlns:xlink=\"http://www.w3.org/1999/xlink\"></use></svg></a>\n",
       "</li>\n",
       "<li class=\"rankings-menu__item\">\n",
       "<a class=\"rankings-menu__link\" href=\"/rankings/mens/rankings-predictor/\">Team Rankings Predictor<svg class=\"icon\"><use xlink:href=\"/resources/prod/v8.18.18/i/svg-output/icons.svg#icn-chevron-right\" xmlns:xlink=\"http://www.w3.org/1999/xlink\"></use></svg></a>\n",
       "</li>\n",
       "<li class=\"rankings-menu__item\">\n",
       "<a class=\"rankings-menu__link\" href=\"/rankings/about\">About the Rankings<svg class=\"icon\"><use xlink:href=\"/resources/prod/v8.18.18/i/svg-output/icons.svg#icn-chevron-right\" xmlns:xlink=\"http://www.w3.org/1999/xlink\"></use></svg></a>\n",
       "</li>\n",
       "<li class=\"rankings-menu__item\">\n",
       "<a class=\"rankings-menu__link\" href=\"/rankings/faqs\">Player Rankings FAQs<svg class=\"icon\"><use xlink:href=\"/resources/prod/v8.18.18/i/svg-output/icons.svg#icn-chevron-right\" xmlns:xlink=\"http://www.w3.org/1999/xlink\"></use></svg></a>\n",
       "</li>\n",
       "</li></ul>\n",
       "</div>\n",
       "<div class=\"tab-content\">\n",
       "<h3 class=\"rankings-menu__title\">Women's</h3>\n",
       "<ul class=\"rankings-menu__list\">\n",
       "<li class=\"rankings-menu__item\">\n",
       "<a class=\"rankings-menu__link\" href=\"/rankings/womens/overview\">Overview<svg class=\"icon\"><use xlink:href=\"/resources/prod/v8.18.18/i/svg-output/icons.svg#icn-chevron-right\" xmlns:xlink=\"http://www.w3.org/1999/xlink\"></use></svg></a>\n",
       "</li>\n",
       "<li class=\"rankings-menu__item\">\n",
       "<a class=\"rankings-menu__link\" href=\"/rankings/womens/team-rankings\">Team Rankings<svg class=\"icon\"><use xlink:href=\"/resources/prod/v8.18.18/i/svg-output/icons.svg#icn-chevron-right\" xmlns:xlink=\"http://www.w3.org/1999/xlink\"></use></svg></a>\n",
       "</li>\n",
       "<li class=\"rankings-menu__item\">\n",
       "<a class=\"rankings-menu__link\" href=\"/rankings/womens/player-rankings\">Player Rankings<svg class=\"icon\"><use xlink:href=\"/resources/prod/v8.18.18/i/svg-output/icons.svg#icn-chevron-right\" xmlns:xlink=\"http://www.w3.org/1999/xlink\"></use></svg></a>\n",
       "</li>\n",
       "<li class=\"rankings-menu__item\">\n",
       "<a class=\"rankings-menu__link\" href=\"/rankings/about\">About the Rankings<svg class=\"icon\"><use xlink:href=\"/resources/prod/v8.18.18/i/svg-output/icons.svg#icn-chevron-right\" xmlns:xlink=\"http://www.w3.org/1999/xlink\"></use></svg></a>\n",
       "</li>\n",
       "<li class=\"rankings-menu__item\">\n",
       "<a class=\"rankings-menu__link\" href=\"/rankings/faqs\">Player Rankings FAQs<svg class=\"icon\"><use xlink:href=\"/resources/prod/v8.18.18/i/svg-output/icons.svg#icn-chevron-right\" xmlns:xlink=\"http://www.w3.org/1999/xlink\"></use></svg></a>\n",
       "</li>\n",
       "<li class=\"rankings-menu__item\">\n",
       "<a class=\"rankings-menu__link\" href=\"/rankings/womens-t20i-faq\">T20I Team Rankings FAQs<svg class=\"icon\"><use xlink:href=\"/resources/prod/v8.18.18/i/svg-output/icons.svg#icn-chevron-right\" xmlns:xlink=\"http://www.w3.org/1999/xlink\"></use></svg></a>\n",
       "</li>\n",
       "</ul>\n",
       "</div>\n",
       "</div>\n",
       "</div>\n",
       "</div>\n",
       "</div>\n",
       "<div class=\"l-sticky-side-nav__content\">\n",
       "<section class=\"ranking-format-menu\">\n",
       "<div class=\"wrapper wrapper--sticky\">\n",
       "<div class=\"col-12\">\n",
       "<div class=\"content-tabs\">\n",
       "<ul class=\"inline-list\">\n",
       "<li class=\"ranking-format-menu__item\">\n",
       "<a class=\"content-tabs__tab\" href=\"test\">Test</a>\n",
       "</li>\n",
       "<li class=\"ranking-format-menu__item\">\n",
       "<a class=\"content-tabs__tab content-tabs__tab--active\" href=\"odi\">ODI</a>\n",
       "</li>\n",
       "<li class=\"ranking-format-menu__item\">\n",
       "<a class=\"content-tabs__tab\" href=\"t20i\">T20I</a>\n",
       "</li>\n",
       "</ul>\n",
       "</div>\n",
       "</div>\n",
       "</div>\n",
       "</section>\n",
       "<div class=\"wrapper wrapper--sticky\">\n",
       "<div class=\"col-12\">\n",
       "<div class=\"content-ad content-ad--rankings u-center\">\n",
       "<!-- Adform publisher tag -->\n",
       "<!-- Generic Banner - Homepage (mobile 320x50) placement -->\n",
       "<div class=\"content-ad--mobile\">\n",
       "<script data-adfscript=\"adx.adform.net/adx/?mid=653000\"></script> <script async=\"\" defer=\"\" src=\"//s1.adform.net/banners/scripts/adx.js\"></script>\n",
       "</div>\n",
       "<!-- Adform publisher tag -->\n",
       "<!-- Generic Banner - Homepage (desktop 728x90) placement -->\n",
       "<div class=\"content-ad--desktop\">\n",
       "<script data-adfscript=\"adx.adform.net/adx/?mid=652998\"></script> <script async=\"\" defer=\"\" src=\"//s1.adform.net/banners/scripts/adx.js\"></script>\n",
       "</div>\n",
       "</div>\n",
       "<section class=\"widget rankings-widget\" data-script=\"icc_rankings\" data-widget=\"full-team-rankings\">\n",
       "<div class=\"rankings-block__title-container\">\n",
       "<div class=\"rankings-block__type t-odi\">odi</div>\n",
       "<h4>Men's ODI Team Rankings</h4>\n",
       "</div>\n",
       "<div class=\"rankings-block__meta-container\">\n",
       "<div class=\"rankings-table__last-updated\">Last updated (GMT) - 07 Jun 2021</div>\n",
       "<div class=\"rankings-table__last-updated\">Developed by David Kendix</div>\n",
       "</div>\n",
       "<div class=\"rankings-block__container full rankings-table\">\n",
       "<table class=\"table\">\n",
       "<thead>\n",
       "<tr class=\"table-head\">\n",
       "<th class=\"table-head__cell u-text-right\">Pos</th>\n",
       "<th class=\"table-head__cell rankings-table__team\">\n",
       "<span class=\"u-hide-mobile\">Team</span>\n",
       "<span class=\"u-show-mobile\">T</span>\n",
       "</th>\n",
       "<th class=\"table-head__cell u-center-text\">\n",
       "<span class=\"u-hide-mobile\">Matches</span>\n",
       "<span class=\"u-show-mobile\">M</span>\n",
       "</th>\n",
       "<th class=\"table-head__cell u-center-text\">\n",
       "<span class=\"u-hide-mobile\">Points</span>\n",
       "<span class=\"u-show-mobile\">P</span>\n",
       "</th>\n",
       "<th class=\"table-head__cell u-text-right rating\">\n",
       "<span class=\"u-hide-mobile\">Rating</span>\n",
       "<span class=\"u-show-mobile\">R</span>\n",
       "</th>\n",
       "</tr>\n",
       "</thead>\n",
       "<tbody>\n",
       "<tr class=\"rankings-block__banner\">\n",
       "<td class=\"rankings-block__banner--pos\">1</td>\n",
       "<td class=\"rankings-block__banner--team-name\">\n",
       "<span class=\"flag-30 rankings-block__banner--flag NZ\"></span>\n",
       "<span class=\"u-hide-phablet\">New Zealand</span>\n",
       "<span class=\"u-show-phablet\">NZ</span>\n",
       "</td>\n",
       "<td class=\"rankings-block__banner--matches\">17</td>\n",
       "<td class=\"rankings-block__banner--points\">2,054</td>\n",
       "<td class=\"rankings-block__banner--rating u-text-right\">\n",
       "                            121\n",
       "                            <span class=\"circle-branding circle-branding--top\"></span>\n",
       "<span class=\"circle-branding circle-branding--bottom\"></span>\n",
       "</td>\n",
       "</tr>\n",
       "<tr class=\"table-body\" data-team-id=\"15\">\n",
       "<td class=\"table-body__cell table-body__cell--position u-text-right\">2</td>\n",
       "<td class=\"table-body__cell rankings-table__team\">\n",
       "<span class=\"flag-15 table-body_logo AUS\"></span>\n",
       "<span class=\"u-hide-phablet\">Australia</span>\n",
       "<span class=\"u-show-phablet\">AUS</span>\n",
       "</td>\n",
       "<td class=\"table-body__cell u-center-text\">25</td>\n",
       "<td class=\"table-body__cell u-center-text\">2,945</td>\n",
       "<td class=\"table-body__cell u-text-right rating\">118</td>\n",
       "</tr>\n",
       "<tr class=\"table-body\" data-team-id=\"14\">\n",
       "<td class=\"table-body__cell table-body__cell--position u-text-right\">3</td>\n",
       "<td class=\"table-body__cell rankings-table__team\">\n",
       "<span class=\"flag-15 table-body_logo IND\"></span>\n",
       "<span class=\"u-hide-phablet\">India</span>\n",
       "<span class=\"u-show-phablet\">IND</span>\n",
       "</td>\n",
       "<td class=\"table-body__cell u-center-text\">29</td>\n",
       "<td class=\"table-body__cell u-center-text\">3,344</td>\n",
       "<td class=\"table-body__cell u-text-right rating\">115</td>\n",
       "</tr>\n",
       "<tr class=\"table-body\" data-team-id=\"11\">\n",
       "<td class=\"table-body__cell table-body__cell--position u-text-right\">4</td>\n",
       "<td class=\"table-body__cell rankings-table__team\">\n",
       "<span class=\"flag-15 table-body_logo ENG\"></span>\n",
       "<span class=\"u-hide-phablet\">England</span>\n",
       "<span class=\"u-show-phablet\">ENG</span>\n",
       "</td>\n",
       "<td class=\"table-body__cell u-center-text\">27</td>\n",
       "<td class=\"table-body__cell u-center-text\">3,100</td>\n",
       "<td class=\"table-body__cell u-text-right rating\">115</td>\n",
       "</tr>\n",
       "<tr class=\"table-body\" data-team-id=\"19\">\n",
       "<td class=\"table-body__cell table-body__cell--position u-text-right\">5</td>\n",
       "<td class=\"table-body__cell rankings-table__team\">\n",
       "<span class=\"flag-15 table-body_logo SA\"></span>\n",
       "<span class=\"u-hide-phablet\">South Africa</span>\n",
       "<span class=\"u-show-phablet\">SA</span>\n",
       "</td>\n",
       "<td class=\"table-body__cell u-center-text\">20</td>\n",
       "<td class=\"table-body__cell u-center-text\">2,137</td>\n",
       "<td class=\"table-body__cell u-text-right rating\">107</td>\n",
       "</tr>\n",
       "<tr class=\"table-body\" data-team-id=\"20\">\n",
       "<td class=\"table-body__cell table-body__cell--position u-text-right\">6</td>\n",
       "<td class=\"table-body__cell rankings-table__team\">\n",
       "<span class=\"flag-15 table-body_logo PAK\"></span>\n",
       "<span class=\"u-hide-phablet\">Pakistan</span>\n",
       "<span class=\"u-show-phablet\">PAK</span>\n",
       "</td>\n",
       "<td class=\"table-body__cell u-center-text\">24</td>\n",
       "<td class=\"table-body__cell u-center-text\">2,323</td>\n",
       "<td class=\"table-body__cell u-text-right rating\">97</td>\n",
       "</tr>\n",
       "<tr class=\"table-body\" data-team-id=\"22\">\n",
       "<td class=\"table-body__cell table-body__cell--position u-text-right\">7</td>\n",
       "<td class=\"table-body__cell rankings-table__team\">\n",
       "<span class=\"flag-15 table-body_logo BAN\"></span>\n",
       "<span class=\"u-hide-phablet\">Bangladesh</span>\n",
       "<span class=\"u-show-phablet\">BAN</span>\n",
       "</td>\n",
       "<td class=\"table-body__cell u-center-text\">27</td>\n",
       "<td class=\"table-body__cell u-center-text\">2,438</td>\n",
       "<td class=\"table-body__cell u-text-right rating\">90</td>\n",
       "</tr>\n",
       "<tr class=\"table-body\" data-team-id=\"21\">\n",
       "<td class=\"table-body__cell table-body__cell--position u-text-right\">8</td>\n",
       "<td class=\"table-body__cell rankings-table__team\">\n",
       "<span class=\"flag-15 table-body_logo WI\"></span>\n",
       "<span class=\"u-hide-phablet\">West Indies</span>\n",
       "<span class=\"u-show-phablet\">WI</span>\n",
       "</td>\n",
       "<td class=\"table-body__cell u-center-text\">27</td>\n",
       "<td class=\"table-body__cell u-center-text\">2,222</td>\n",
       "<td class=\"table-body__cell u-text-right rating\">82</td>\n",
       "</tr>\n",
       "<tr class=\"table-body\" data-team-id=\"13\">\n",
       "<td class=\"table-body__cell table-body__cell--position u-text-right\">9</td>\n",
       "<td class=\"table-body__cell rankings-table__team\">\n",
       "<span class=\"flag-15 table-body_logo SL\"></span>\n",
       "<span class=\"u-hide-phablet\">Sri Lanka</span>\n",
       "<span class=\"u-show-phablet\">SL</span>\n",
       "</td>\n",
       "<td class=\"table-body__cell u-center-text\">24</td>\n",
       "<td class=\"table-body__cell u-center-text\">1,876</td>\n",
       "<td class=\"table-body__cell u-text-right rating\">78</td>\n",
       "</tr>\n",
       "<tr class=\"table-body\" data-team-id=\"17\">\n",
       "<td class=\"table-body__cell table-body__cell--position u-text-right\">10</td>\n",
       "<td class=\"table-body__cell rankings-table__team\">\n",
       "<span class=\"flag-15 table-body_logo AFG\"></span>\n",
       "<span class=\"u-hide-phablet\">Afghanistan</span>\n",
       "<span class=\"u-show-phablet\">AFG</span>\n",
       "</td>\n",
       "<td class=\"table-body__cell u-center-text\">17</td>\n",
       "<td class=\"table-body__cell u-center-text\">1,054</td>\n",
       "<td class=\"table-body__cell u-text-right rating\">62</td>\n",
       "</tr>\n",
       "<tr class=\"table-body\" data-team-id=\"68\">\n",
       "<td class=\"table-body__cell table-body__cell--position u-text-right\">11</td>\n",
       "<td class=\"table-body__cell rankings-table__team\">\n",
       "<span class=\"flag-15 table-body_logo NED\"></span>\n",
       "<span class=\"u-hide-phablet\">Netherlands</span>\n",
       "<span class=\"u-show-phablet\">NED</span>\n",
       "</td>\n",
       "<td class=\"table-body__cell u-center-text\">7</td>\n",
       "<td class=\"table-body__cell u-center-text\">336</td>\n",
       "<td class=\"table-body__cell u-text-right rating\">48</td>\n",
       "</tr>\n",
       "<tr class=\"table-body\" data-team-id=\"12\">\n",
       "<td class=\"table-body__cell table-body__cell--position u-text-right\">12</td>\n",
       "<td class=\"table-body__cell rankings-table__team\">\n",
       "<span class=\"flag-15 table-body_logo IRE\"></span>\n",
       "<span class=\"u-hide-phablet\">Ireland</span>\n",
       "<span class=\"u-show-phablet\">IRE</span>\n",
       "</td>\n",
       "<td class=\"table-body__cell u-center-text\">21</td>\n",
       "<td class=\"table-body__cell u-center-text\">897</td>\n",
       "<td class=\"table-body__cell u-text-right rating\">43</td>\n",
       "</tr>\n",
       "<tr class=\"table-body\" data-team-id=\"18\">\n",
       "<td class=\"table-body__cell table-body__cell--position u-text-right\">13</td>\n",
       "<td class=\"table-body__cell rankings-table__team\">\n",
       "<span class=\"flag-15 table-body_logo ZIM\"></span>\n",
       "<span class=\"u-hide-phablet\">Zimbabwe</span>\n",
       "<span class=\"u-show-phablet\">ZIM</span>\n",
       "</td>\n",
       "<td class=\"table-body__cell u-center-text\">15</td>\n",
       "<td class=\"table-body__cell u-center-text\">588</td>\n",
       "<td class=\"table-body__cell u-text-right rating\">39</td>\n",
       "</tr>\n",
       "<tr class=\"table-body\" data-team-id=\"69\">\n",
       "<td class=\"table-body__cell table-body__cell--position u-text-right\">14</td>\n",
       "<td class=\"table-body__cell rankings-table__team\">\n",
       "<span class=\"flag-15 table-body_logo SCO\"></span>\n",
       "<span class=\"u-hide-phablet\">Scotland</span>\n",
       "<span class=\"u-show-phablet\">SCO</span>\n",
       "</td>\n",
       "<td class=\"table-body__cell u-center-text\">7</td>\n",
       "<td class=\"table-body__cell u-center-text\">258</td>\n",
       "<td class=\"table-body__cell u-text-right rating\">37</td>\n",
       "</tr>\n",
       "<tr class=\"table-body\" data-team-id=\"128\">\n",
       "<td class=\"table-body__cell table-body__cell--position u-text-right\">15</td>\n",
       "<td class=\"table-body__cell rankings-table__team\">\n",
       "<span class=\"flag-15 table-body_logo OMA\"></span>\n",
       "<span class=\"u-hide-phablet\">Oman</span>\n",
       "<span class=\"u-show-phablet\">OMA</span>\n",
       "</td>\n",
       "<td class=\"table-body__cell u-center-text\">7</td>\n",
       "<td class=\"table-body__cell u-center-text\">240</td>\n",
       "<td class=\"table-body__cell u-text-right rating\">34</td>\n",
       "</tr>\n",
       "<tr class=\"table-body\" data-team-id=\"125\">\n",
       "<td class=\"table-body__cell table-body__cell--position u-text-right\">16</td>\n",
       "<td class=\"table-body__cell rankings-table__team\">\n",
       "<span class=\"flag-15 table-body_logo NEP\"></span>\n",
       "<span class=\"u-hide-phablet\">Nepal</span>\n",
       "<span class=\"u-show-phablet\">NEP</span>\n",
       "</td>\n",
       "<td class=\"table-body__cell u-center-text\">5</td>\n",
       "<td class=\"table-body__cell u-center-text\">119</td>\n",
       "<td class=\"table-body__cell u-text-right rating\">24</td>\n",
       "</tr>\n",
       "<tr class=\"table-body\" data-team-id=\"155\">\n",
       "<td class=\"table-body__cell table-body__cell--position u-text-right\">17</td>\n",
       "<td class=\"table-body__cell rankings-table__team\">\n",
       "<span class=\"flag-15 table-body_logo UAE\"></span>\n",
       "<span class=\"u-hide-phablet\">UAE</span>\n",
       "<span class=\"u-show-phablet\">UAE</span>\n",
       "</td>\n",
       "<td class=\"table-body__cell u-center-text\">9</td>\n",
       "<td class=\"table-body__cell u-center-text\">190</td>\n",
       "<td class=\"table-body__cell u-text-right rating\">21</td>\n",
       "</tr>\n",
       "<tr class=\"table-body\" data-team-id=\"124\">\n",
       "<td class=\"table-body__cell table-body__cell--position u-text-right\">18</td>\n",
       "<td class=\"table-body__cell rankings-table__team\">\n",
       "<span class=\"flag-15 table-body_logo NAM\"></span>\n",
       "<span class=\"u-hide-phablet\">Namibia</span>\n",
       "<span class=\"u-show-phablet\">NAM</span>\n",
       "</td>\n",
       "<td class=\"table-body__cell u-center-text\">6</td>\n",
       "<td class=\"table-body__cell u-center-text\">97</td>\n",
       "<td class=\"table-body__cell u-text-right rating\">16</td>\n",
       "</tr>\n",
       "<tr class=\"table-body\" data-team-id=\"157\">\n",
       "<td class=\"table-body__cell table-body__cell--position u-text-right\">19</td>\n",
       "<td class=\"table-body__cell rankings-table__team\">\n",
       "<span class=\"flag-15 table-body_logo USA\"></span>\n",
       "<span class=\"u-hide-phablet\">United States</span>\n",
       "<span class=\"u-show-phablet\">USA</span>\n",
       "</td>\n",
       "<td class=\"table-body__cell u-center-text\">8</td>\n",
       "<td class=\"table-body__cell u-center-text\">93</td>\n",
       "<td class=\"table-body__cell u-text-right rating\">12</td>\n",
       "</tr>\n",
       "<tr class=\"table-body\" data-team-id=\"133\">\n",
       "<td class=\"table-body__cell table-body__cell--position u-text-right\">20</td>\n",
       "<td class=\"table-body__cell rankings-table__team\">\n",
       "<span class=\"flag-15 table-body_logo PNG\"></span>\n",
       "<span class=\"u-hide-phablet\">Papua New Guinea</span>\n",
       "<span class=\"u-show-phablet\">PNG</span>\n",
       "</td>\n",
       "<td class=\"table-body__cell u-center-text\">5</td>\n",
       "<td class=\"table-body__cell u-center-text\">0</td>\n",
       "<td class=\"table-body__cell u-text-right rating\">0</td>\n",
       "</tr>\n",
       "</tbody>\n",
       "</table>\n",
       "</div>\n",
       "</section>\n",
       "<div class=\"promo promo--full rankings-table\">\n",
       "<div class=\"promo__image-container\">\n",
       "<picture class=\"promo__image\">\n",
       "<source media=\"(max-width: 500px)\" srcset=\"https://resources.pulse.icc-cricket.com/ICC/photo/2017/02/07/2fb1280c-5d1b-4dee-93d4-c586996065cf/GettyImages-468776142.jpg, https://resources.pulse.icc-cricket.com/ICC/photo/2017/02/07/bc292450-c3fa-4345-9244-66fbe0179709/GettyImages-468776142.jpg 2x\"/>\n",
       "<source srcset=\"https://resources.pulse.icc-cricket.com/ICC/photo/2017/02/07/10013c12-da7d-4c41-b261-1c9f626da0c8/GettyImages-468776142.jpg, https://resources.pulse.icc-cricket.com/ICC/photo/2017/02/07/f20245f7-3ffb-4f6d-8a18-d25804e1c809/GettyImages-468776142.jpg 2x\"/>\n",
       "<img alt=\"Play the MRF Tyres ICC Rankings Predictor\" class=\"poly-object-fit\" src=\"https://resources.pulse.icc-cricket.com/ICC/photo/2017/02/07/10013c12-da7d-4c41-b261-1c9f626da0c8/GettyImages-468776142.jpg\">\n",
       "</img></picture>\n",
       "</div>\n",
       "<div class=\"promo__text-container promo__text-container--with-image\">\n",
       "<h3 class=\"promo__title\">Play the MRF Tyres ICC Rankings Predictor</h3>\n",
       "<p class=\"promo__text\">Predict the outcome of upcoming ODI cricket fixtures and see how the MRF Tyres ICC Rankings change.</p>\n",
       "<a class=\"promo__cta btn\" href=\"/rankings/mens/rankings-predictor/odi\">Play Now</a>\n",
       "</div>\n",
       "</div>\n",
       "</div>\n",
       "</div>\n",
       "</div>\n",
       "</div>\n",
       "</main>\n",
       "<footer class=\"footer\" role=\"contentinfo\">\n",
       "<div class=\"wrapper\">\n",
       "<section class=\"footer-partners\">\n",
       "<div class=\"footer-partners__list u-show-desktop\">\n",
       "<section class=\"footer-partners__group\">\n",
       "<h5 class=\"footer-partners__subtitle\">Partners</h5>\n",
       "<div class=\"footer-partners__inline-list\">\n",
       "<div class=\"footer-partners__item\">\n",
       "<a aria-label=\"Oppo\" class=\"footer-partners__link\" data-tracking-url=\"https://track.adform.net/adfserve/?bn=18236015;srctype=4;ord=%%ADFRND%%\" data-widget=\"impression-tracker\" href=\"http://track.adform.net/C/?bn=18236015\" target=\"_blank\" title=\"Oppo\">\n",
       "<img alt=\"Oppo\" class=\"footer-partners__image\" src=\"https://resources.pulse.icc-cricket.com/photo-resources/2021/06/09/bdd8888b-7427-48c0-a528-fb30a121638e/Asset-25.png?width=135\">\n",
       "</img></a>\n",
       "</div>\n",
       "<div class=\"footer-partners__item\">\n",
       "<a aria-label=\"MRF Tyres\" class=\"footer-partners__link\" data-tracking-url=\"https://track.adform.net/adfserve/?bn=18235782;srctype=4;ord=%%ADFRND%%\" data-widget=\"impression-tracker\" href=\"http://track.adform.net/C/?bn=18235782\" target=\"_blank\" title=\"MRF Tyres\">\n",
       "<img alt=\"MRF Tyres\" class=\"footer-partners__image\" src=\"https://resources.pulse.icc-cricket.com/photo-resources/2021/06/09/3528d7da-c25d-4187-9364-4289940cf049/Asset-22.png?width=135\">\n",
       "</img></a>\n",
       "</div>\n",
       "<div class=\"footer-partners__item\">\n",
       "<a aria-label=\"Booking\" class=\"footer-partners__link\" href=\"https://www.booking.com/\" target=\"_blank\" title=\"Booking\">\n",
       "<img alt=\"Booking\" class=\"footer-partners__image\" src=\"https://resources.pulse.icc-cricket.com/photo-resources/2021/06/09/4c2d8f90-a83b-44af-9e24-759d17482850/Asset-23.png?width=135\">\n",
       "</img></a>\n",
       "</div>\n",
       "<div class=\"footer-partners__item\">\n",
       "<a aria-label=\"BYJU's\" class=\"footer-partners__link\" href=\"https://byjus.com/\" target=\"_blank\" title=\"BYJU's\">\n",
       "<img alt=\"BYJU\" class=\"footer-partners__image\" src=\"https://resources.pulse.icc-cricket.com/photo-resources/2021/06/09/66af1d74-94b2-4a93-a7ff-276619ecb515/Asset-24.png?width=135\"/>\n",
       "</a>\n",
       "</div>\n",
       "<div class=\"footer-partners__item\">\n",
       "<a aria-label=\"BharatPe\" class=\"footer-partners__link\" href=\"https://bharatpe.com/\" title=\"BharatPe\">\n",
       "<img alt=\"BharatPe\" class=\"footer-partners__image\" src=\"https://resources.pulse.icc-cricket.com/photo-resources/2021/06/09/6a0de96a-6442-4042-9d65-0cc3190cbf3e/Asset-19.png?width=135\"/>\n",
       "</a>\n",
       "</div>\n",
       "<div class=\"footer-partners__item\">\n",
       "<a aria-label=\"Emirates\" class=\"footer-partners__link\" data-tracking-url=\"https://track.adform.net/adfserve/?bn=18236184;srctype=4;ord=%%ADFRND%%\" data-widget=\"impression-tracker\" href=\"http://track.adform.net/C/?bn=18236184\" target=\"_blank\" title=\"Emirates\">\n",
       "<img alt=\"Emirates\" class=\"footer-partners__image\" src=\"https://resources.pulse.icc-cricket.com/photo-resources/2021/06/09/1edde664-e17e-4abe-a6ab-cf03ae234816/Asset-21.png?width=135\"/>\n",
       "</a>\n",
       "</div>\n",
       "</div>\n",
       "</section>\n",
       "</div>\n",
       "<section class=\"footer-partners__list footer-partners__list--double u-hide-desktop\">\n",
       "<div class=\"footer-partners__top-row-item\">\n",
       "<section class=\"footer-partners__group\">\n",
       "<h5 class=\"footer-partners__subtitle\">Partners</h5>\n",
       "<div class=\"footer-partners__inline-list\">\n",
       "<div class=\"footer-partners__item\">\n",
       "<a aria-label=\"Oppo\" class=\"footer-partners__link\" data-tracking-url=\"https://track.adform.net/adfserve/?bn=18236015;srctype=4;ord=%%ADFRND%%\" data-widget=\"impression-tracker\" href=\"http://track.adform.net/C/?bn=18236015\" target=\"_blank\" title=\"Oppo\">\n",
       "<img alt=\"Oppo\" class=\"footer-partners__image\" src=\"https://resources.pulse.icc-cricket.com/photo-resources/2021/06/09/bdd8888b-7427-48c0-a528-fb30a121638e/Asset-25.png?width=135\"/>\n",
       "</a>\n",
       "</div>\n",
       "<div class=\"footer-partners__item\">\n",
       "<a aria-label=\"MRF Tyres\" class=\"footer-partners__link\" data-tracking-url=\"https://track.adform.net/adfserve/?bn=18235782;srctype=4;ord=%%ADFRND%%\" data-widget=\"impression-tracker\" href=\"http://track.adform.net/C/?bn=18235782\" target=\"_blank\" title=\"MRF Tyres\">\n",
       "<img alt=\"MRF Tyres\" class=\"footer-partners__image\" src=\"https://resources.pulse.icc-cricket.com/photo-resources/2021/06/09/3528d7da-c25d-4187-9364-4289940cf049/Asset-22.png?width=135\"/>\n",
       "</a>\n",
       "</div>\n",
       "<div class=\"footer-partners__item\">\n",
       "<a aria-label=\"Booking\" class=\"footer-partners__link\" href=\"https://www.booking.com/\" target=\"_blank\" title=\"Booking\">\n",
       "<img alt=\"Booking\" class=\"footer-partners__image\" src=\"https://resources.pulse.icc-cricket.com/photo-resources/2021/06/09/4c2d8f90-a83b-44af-9e24-759d17482850/Asset-23.png?width=135\"/>\n",
       "</a>\n",
       "</div>\n",
       "<div class=\"footer-partners__item\">\n",
       "<a aria-label=\"BYJU's\" class=\"footer-partners__link\" href=\"https://byjus.com/\" target=\"_blank\" title=\"BYJU's\">\n",
       "<img alt=\"BYJU\" class=\"footer-partners__image\" src=\"https://resources.pulse.icc-cricket.com/photo-resources/2021/06/09/66af1d74-94b2-4a93-a7ff-276619ecb515/Asset-24.png?width=135\"/>\n",
       "</a>\n",
       "</div>\n",
       "<div class=\"footer-partners__item\">\n",
       "<a aria-label=\"BharatPe\" class=\"footer-partners__link\" href=\"https://bharatpe.com/\" title=\"BharatPe\">\n",
       "<img alt=\"BharatPe\" class=\"footer-partners__image\" src=\"https://resources.pulse.icc-cricket.com/photo-resources/2021/06/09/6a0de96a-6442-4042-9d65-0cc3190cbf3e/Asset-19.png?width=135\"/>\n",
       "</a>\n",
       "</div>\n",
       "<div class=\"footer-partners__item\">\n",
       "<a aria-label=\"Emirates\" class=\"footer-partners__link\" data-tracking-url=\"https://track.adform.net/adfserve/?bn=18236184;srctype=4;ord=%%ADFRND%%\" data-widget=\"impression-tracker\" href=\"http://track.adform.net/C/?bn=18236184\" target=\"_blank\" title=\"Emirates\">\n",
       "<img alt=\"Emirates\" class=\"footer-partners__image\" src=\"https://resources.pulse.icc-cricket.com/photo-resources/2021/06/09/1edde664-e17e-4abe-a6ab-cf03ae234816/Asset-21.png?width=135\"/>\n",
       "</a>\n",
       "</div>\n",
       "</div>\n",
       "</section>\n",
       "</div>\n",
       "<div class=\"footer-partners__top-row-item\">\n",
       "<section class=\"footer-partners__group\">\n",
       "<h5 class=\"footer-partners__subtitle\">Broadcast Partner</h5>\n",
       "<div class=\"footer-partners__inline-list\">\n",
       "<div class=\"footer-partners__item\">\n",
       "<a aria-label=\"Star Sports\" class=\"footer-partners__link\" data-tracking-url=\"https://track.adform.net/adfserve/?bn=18238489;srctype=4;ord=%%ADFRND%%\" data-widget=\"impression-tracker\" href=\"http://track.adform.net/C/?bn=18238489\" target=\"_blank\" title=\"Star Sports\">\n",
       "<img alt=\"Star Sports\" class=\"footer-partners__image\" src=\"https://resources.pulse.icc-cricket.com/photo-resources/2021/06/09/f75af1ff-9901-496d-baf3-3f467111ab8d/Asset-33.png?width=135\"/>\n",
       "</a>\n",
       "</div>\n",
       "</div>\n",
       "</section>\n",
       "</div>\n",
       "</section>\n",
       "<div class=\"footer-partners__list footer-partners__list--broadcast u-show-desktop\">\n",
       "<section class=\"footer-partners__group\">\n",
       "<h5 class=\"footer-partners__subtitle\">Broadcast Partner</h5>\n",
       "<div class=\"footer-partners__inline-list\">\n",
       "<div class=\"footer-partners__item\">\n",
       "<a aria-label=\"Star Sports\" class=\"footer-partners__link\" data-tracking-url=\"https://track.adform.net/adfserve/?bn=18238489;srctype=4;ord=%%ADFRND%%\" data-widget=\"impression-tracker\" href=\"http://track.adform.net/C/?bn=18238489\" target=\"_blank\" title=\"Star Sports\">\n",
       "<img alt=\"Star Sports\" class=\"footer-partners__image\" src=\"https://resources.pulse.icc-cricket.com/photo-resources/2021/06/09/f75af1ff-9901-496d-baf3-3f467111ab8d/Asset-33.png?width=135\"/>\n",
       "</a>\n",
       "</div>\n",
       "</div>\n",
       "</section>\n",
       "</div>\n",
       "<div class=\"footer-partners__list\">\n",
       "<section class=\"footer-partners__group\">\n",
       "<div class=\"footer-partners__inline-list\">\n",
       "<div class=\"footer-partners__item\">\n",
       "<a aria-label=\"Bira 91\" class=\"footer-partners__link\" href=\"https://www.bira91.com/\" target=\"_blank\" title=\"Bira 91\">\n",
       "<img alt=\"Bira 91\" class=\"footer-partners__image\" src=\"https://resources.pulse.icc-cricket.com/photo-resources/2021/06/09/1f4d2a85-b195-43e1-9f5d-5938e922b159/Asset-29.png?width=120\"/>\n",
       "</a>\n",
       "</div>\n",
       "<div class=\"footer-partners__item\">\n",
       "<img alt=\"Shyam Steel\" class=\"footer-partners__image\" src=\"https://resources.pulse.icc-cricket.com/photo-resources/2021/06/14/42895751-f75a-4875-bdfb-cf7d1da69631/Shylam-Steel-130px.png?width=120\"/>\n",
       "</div>\n",
       "<div class=\"footer-partners__item\">\n",
       "<a aria-label=\"Coca Cola\" class=\"footer-partners__link\" href=\"https://www.coca-colaindia.com/\" target=\"_blank\" title=\"Coca Cola\">\n",
       "<img alt=\"Coca Cola\" class=\"footer-partners__image\" src=\"https://resources.pulse.icc-cricket.com/photo-resources/2021/06/09/7565cfb6-378f-46a3-8551-4aab3a6466fa/Asset-28.png?width=120\"/>\n",
       "</a>\n",
       "</div>\n",
       "<div class=\"footer-partners__item\">\n",
       "<a aria-label=\"Upstox\" class=\"footer-partners__link\" href=\"https://upstox.com/\" target=\"_blank\" title=\"Upstox\">\n",
       "<img alt=\"Upstox\" class=\"footer-partners__image\" src=\"https://resources.pulse.icc-cricket.com/photo-resources/2021/06/09/a06a2a15-62dc-48df-af45-c878abffc8ec/Asset-31.png?width=120\"/>\n",
       "</a>\n",
       "</div>\n",
       "<div class=\"footer-partners__item\">\n",
       "<a aria-label=\"Nissan\" class=\"footer-partners__link\" data-tracking-url=\"https://track.adform.net/adfserve/?bn=18235072;srctype=4;ord=%%ADFRND%%\" data-widget=\"impression-tracker\" href=\"http://track.adform.net/C/?bn=18235072\" target=\"_blank\" title=\"Nissan\">\n",
       "<img alt=\"Nissan\" class=\"footer-partners__image\" src=\"https://resources.pulse.icc-cricket.com/photo-resources/2021/06/09/8f4837e1-ee14-411e-8a2d-44e18cafcb36/Asset-30.png?width=120\"/>\n",
       "</a>\n",
       "</div>\n",
       "<div class=\"footer-partners__item\">\n",
       "<a aria-label=\"GoDaddy\" class=\"footer-partners__link\" href=\"https://uk.godaddy.com/offers/godaddy?isc=coukuk1&amp;countryview=1¤cyType=GBP&amp;gclid=Cj0KCQjwzYGGBhCTARIsAHdMTQwWq_UajLT52lg1STcRW2MbF9p1rdh2NcEgY1GL23ce7koqvvoCIfIaAqf3EALw_wcB&amp;gclsrc=aw.ds\" target=\"_blank\" title=\"GoDaddy\">\n",
       "<img alt=\"GoDaddy\" class=\"footer-partners__image\" src=\"https://resources.pulse.icc-cricket.com/photo-resources/2021/06/09/b2e29b72-c22a-4677-a641-c43fa67a80f5/Asset-18.png?width=120\"/>\n",
       "</a>\n",
       "</div>\n",
       "</div>\n",
       "</section>\n",
       "</div>\n",
       "<div class=\"footer-partners__list\">\n",
       "<section class=\"footer-partners__group\">\n",
       "<div class=\"footer-partners__inline-list\">\n",
       "<div class=\"footer-partners__item\">\n",
       "<a aria-label=\"Royal Stag\" class=\"footer-partners__link\" href=\"https://www.pernod-ricard.com/en/brands/our-brands/royal-stag/\" target=\"_blank\" title=\"Royal Stag\">\n",
       "<img alt=\"Royal Stag\" class=\"footer-partners__image\" src=\"https://resources.pulse.icc-cricket.com/photo-resources/2021/06/09/e55560fc-cb00-4966-aa42-0fd135cf1b1e/Asset-27.png?width=105\"/>\n",
       "</a>\n",
       "</div>\n",
       "<div class=\"footer-partners__item\">\n",
       "<a aria-label=\"Dream11\" class=\"footer-partners__link\" href=\"https://www.dream11.com/\" target=\"_blank\" title=\"Dream11\">\n",
       "<img alt=\"Dream11\" class=\"footer-partners__image\" src=\"https://resources.pulse.icc-cricket.com/photo-resources/2021/06/09/501937f7-2a50-40db-9f8c-67d9bdfb9bfa/Asset-26.png?width=105\"/>\n",
       "</a>\n",
       "</div>\n",
       "<div class=\"footer-partners__item\">\n",
       "<a aria-label=\"Jacobs Creek\" class=\"footer-partners__link\" href=\"https://www.jacobscreek.com/en-gb\" target=\"_blank\" title=\"Jacobs Creek\">\n",
       "<img alt=\"Jacobs Creek\" class=\"footer-partners__image\" src=\"https://resources.pulse.icc-cricket.com/photo-resources/2021/06/09/dcef1fc6-ed7d-4594-b913-38195111a11b/Asset-20.png?width=105\"/>\n",
       "</a>\n",
       "</div>\n",
       "</div>\n",
       "</section>\n",
       "</div>\n",
       "<div class=\"footer-partners__list\">\n",
       "<section class=\"footer-partners__group\">\n",
       "<h5 class=\"footer-partners__subtitle\">Social Responsibility</h5>\n",
       "<div class=\"footer-partners__inline-list\">\n",
       "<div class=\"footer-partners__item\">\n",
       "<a aria-label=\"Cricket for Good\" class=\"footer-partners__link\" href=\"https://www.icc-cricket.com/about/the-icc/cricket-for-good\" target=\"_blank\" title=\"Cricket for Good\">\n",
       "<img alt=\"Cricket for Good\" class=\"footer-partners__image\" src=\"https://resources.pulse.icc-cricket.com/photo-resources/2020/09/24/c69c5b5f-7ccf-40e2-8277-c19e42dda23e/partner-cricket4good.png?width=126\"/>\n",
       "</a>\n",
       "</div>\n",
       "</div>\n",
       "</section>\n",
       "</div>\n",
       "</section>\n",
       "</div>\n",
       "<div class=\"global-footer\">\n",
       "<div class=\"wrapper\">\n",
       "<div class=\"col-12\">\n",
       "<div class=\"global-footer__social-container\">\n",
       "<ul class=\"social-follow-footer\">\n",
       "<h5 class=\"social-follow-footer__subtitle\">Follow <span class=\"u-italics\">ICC</span> On social</h5>\n",
       "<li class=\"social-follow-footer__item\">\n",
       "<a class=\"social-follow-footer__link facebook\" href=\"https://www.facebook.com/icc/\" target=\"_blank\">\n",
       "<span class=\"icn icn-facebook-circle u-hide-phablet\"></span>\n",
       "<span class=\"icn icn-facebook-circle-small u-show-phablet\"></span>\n",
       "</a>\n",
       "</li>\n",
       "<li class=\"social-follow-footer__item\">\n",
       "<a class=\"social-follow-footer__link twitter\" href=\"https://twitter.com/ICC\" target=\"_blank\">\n",
       "<span class=\"icn icn-twitter-circle u-hide-phablet\"></span>\n",
       "<span class=\"icn icn-twitter-circle-small u-show-phablet\"></span>\n",
       "</a>\n",
       "</li>\n",
       "<li class=\"social-follow-footer__item\">\n",
       "<a class=\"social-follow-footer__link instagram\" href=\"https://www.instagram.com/icc/\" target=\"_blank\">\n",
       "<span class=\"icn icn-instagram-circle u-hide-phablet\"></span>\n",
       "<span class=\"icn icn-instagram-circle-small u-show-phablet\"></span>\n",
       "</a>\n",
       "</li>\n",
       "<li class=\"social-follow-footer__item\">\n",
       "<a class=\"social-follow-footer__link youtube\" href=\"https://www.youtube.com/user/CricketICC\" target=\"_blank\">\n",
       "<span class=\"icn icn-youtube-circle u-hide-phablet\"></span>\n",
       "<span class=\"icn icn-youtube-circle-small u-show-phablet\"></span>\n",
       "</a>\n",
       "</li>\n",
       "<li class=\"social-follow-footer__item\">\n",
       "<a class=\"social-follow-footer__link tiktok\" href=\"https://www.tiktok.com/@icc\" target=\"_blank\">\n",
       "<span class=\"icn icn-tiktok-circle u-hide-phablet\"></span>\n",
       "<span class=\"icn icn-tiktok-circle-small u-show-phablet\"></span>\n",
       "</a>\n",
       "</li>\n",
       "</ul>\n",
       "</div>\n",
       "<div class=\"global-footer__branding\">\n",
       "<a class=\"global-footer__branding-link\" href=\"/\"><div class=\"icn icn-logo-icc-footer\"></div></a>\n",
       "</div>\n",
       "<div class=\"global-footer__lists\">\n",
       "<ul class=\"global-footer__list\">\n",
       "<h4 class=\"global-footer__title\">Cricket</h4>\n",
       "<li class=\"global-footer__item\"><a class=\"global-footer__link\" href=\"http://www.icc-cricket.com/live-cricket/live\">\n",
       "                    \tLive Scores Index\n",
       "                \t</a></li>\n",
       "<li class=\"global-footer__item\"><a class=\"global-footer__link\" href=\"http://www.icc-cricket.com/live-cricket/mens-results\">\n",
       "                    \tMen's Results\n",
       "                \t</a></li>\n",
       "<li class=\"global-footer__item\"><a class=\"global-footer__link\" href=\"http://www.icc-cricket.com/live-cricket/womens-results\">\n",
       "                    \tWomen's Results\n",
       "                \t</a></li>\n",
       "</ul>\n",
       "<ul class=\"global-footer__list\">\n",
       "<h4 class=\"global-footer__title\">ICC Events</h4>\n",
       "<li class=\"global-footer__item\"><a class=\"global-footer__link\" href=\"http://www.icc-cricket.com/u19-world-cup/index.html\">\n",
       "                    \tICC U19 Cricket World Cup\n",
       "                \t</a></li>\n",
       "<li class=\"global-footer__item\"><a class=\"global-footer__link\" href=\"http://www.icc-cricket.com/cricket-world-cup/index.html\">\n",
       "                    \tICC Cricket World Cup\n",
       "                \t</a></li>\n",
       "<li class=\"global-footer__item\"><a class=\"global-footer__link\" href=\"https://www.icc-cricket.com/t20-world-cup\">\n",
       "                    \tICC T20 World Cup\n",
       "                \t</a></li>\n",
       "<li class=\"global-footer__item\"><a class=\"global-footer__link\" href=\"http://www.icc-cricket.com/champions-trophy\">\n",
       "                    \tICC Champions Trophy\n",
       "                \t</a></li>\n",
       "<li class=\"global-footer__item\"><a class=\"global-footer__link\" href=\"http://www.icc-cricket.com/womens-world-cup\">\n",
       "                    \tICC Women's World Cup\n",
       "                \t</a></li>\n",
       "<li class=\"global-footer__item\"><a class=\"global-footer__link\" href=\"http://www.icc-cricket.com/womens-championship\">\n",
       "                    \tICC Women's Championship\n",
       "                \t</a></li>\n",
       "</ul>\n",
       "<ul class=\"global-footer__list\">\n",
       "<h4 class=\"global-footer__title\">Rankings</h4>\n",
       "<li class=\"global-footer__item\"><a class=\"global-footer__link\" href=\"http://www.icc-cricket.com/rankings/mens/overview\">\n",
       "                    \tOverview\n",
       "                \t</a></li>\n",
       "<li class=\"global-footer__item\"><a class=\"global-footer__link\" href=\"http://www.icc-cricket.com/rankings/mens/team-rankings/test\">\n",
       "                    \tTeam Rankings\n",
       "                \t</a></li>\n",
       "<li class=\"global-footer__item\"><a class=\"global-footer__link\" href=\"https://www.icc-cricket.com/rankings/mens/player-rankings/\">\n",
       "                    \tPlayer Rankings\n",
       "                \t</a></li>\n",
       "<li class=\"global-footer__item\"><a class=\"global-footer__link\" href=\"http://www.icc-cricket.com/rankings/mens/rankings-predictor/\">\n",
       "                    \tRankings Predictor\n",
       "                \t</a></li>\n",
       "<li class=\"global-footer__item\"><a class=\"global-footer__link\" href=\"http://www.icc-cricket.com/rankings/about\">\n",
       "                    \tAbout the Rankings\n",
       "                \t</a></li>\n",
       "<li class=\"global-footer__item\"><a class=\"global-footer__link\" href=\"http://www.icc-cricket.com/rankings/faqs\">\n",
       "                    \tRankings FAQs\n",
       "                \t</a></li>\n",
       "</ul>\n",
       "<ul class=\"global-footer__list\">\n",
       "<h4 class=\"global-footer__title\">News and Video</h4>\n",
       "<li class=\"global-footer__item\"><a class=\"global-footer__link\" href=\"http://www.icc-cricket.com/news\">\n",
       "                    \tNews Index\n",
       "                \t</a></li>\n",
       "<li class=\"global-footer__item\"><a class=\"global-footer__link\" href=\"http://www.icc-cricket.com/media-releases\">\n",
       "                    \tMedia Releases\n",
       "                \t</a></li>\n",
       "<li class=\"global-footer__item\"><a class=\"global-footer__link\" href=\"http://www.icc-cricket.com/video\">\n",
       "                    \tVideo Home\n",
       "                \t</a></li>\n",
       "<li class=\"global-footer__item\"><a class=\"global-footer__link\" href=\"http://www.icc-cricket.com/photos\">\n",
       "                    \tPhotos\n",
       "                \t</a></li>\n",
       "</ul>\n",
       "<ul class=\"global-footer__list\">\n",
       "<h4 class=\"global-footer__title\">More</h4>\n",
       "<li class=\"global-footer__item\"><a class=\"global-footer__link\" href=\"http://www.icc-cricket.com/social\">\n",
       "                    \tICC on Social\n",
       "                \t</a></li>\n",
       "<li class=\"global-footer__item\"><a class=\"global-footer__link\" href=\"http://www.icc-cricket.com/awards/overview\">\n",
       "                    \tAwards\n",
       "                \t</a></li>\n",
       "<li class=\"global-footer__item\"><a class=\"global-footer__link\" href=\"http://www.icc-cricket.com/hall-of-fame\">\n",
       "                    \tHall of Fame\n",
       "                \t</a></li>\n",
       "<li class=\"global-footer__item\"><a class=\"global-footer__link\" href=\"http://www.icc-cricket.com/mobile\">\n",
       "                    \tICC on Mobile\n",
       "                \t</a></li>\n",
       "<li class=\"global-footer__item\"><a class=\"global-footer__link\" href=\"http://www.icc-cricket.com/about\" target=\"_blank\">\n",
       "<svg class=\"icon\"><use xlink:href=\"/resources/prod/v8.18.18/i/svg-output/icons.svg#icn-link-external\" xmlns:xlink=\"http://www.w3.org/1999/xlink\"></use></svg>\n",
       "                    \tAbout ICC\n",
       "                \t</a></li>\n",
       "<li class=\"global-footer__item\"><a class=\"global-footer__link\" href=\"http://www.icc-cricket.com/media-zone/\" target=\"_blank\">\n",
       "<svg class=\"icon\"><use xlink:href=\"/resources/prod/v8.18.18/i/svg-output/icons.svg#icn-link-external\" xmlns:xlink=\"http://www.w3.org/1999/xlink\"></use></svg>\n",
       "                    \tMediaZone\n",
       "                \t</a></li>\n",
       "<li class=\"global-footer__item\"><a class=\"global-footer__link\" href=\"https://www.t20worldcupshop.com/\" target=\"_blank\">\n",
       "<svg class=\"icon\"><use xlink:href=\"/resources/prod/v8.18.18/i/svg-output/icons.svg#icn-link-external\" xmlns:xlink=\"http://www.w3.org/1999/xlink\"></use></svg>\n",
       "                    \tT20 Shop\n",
       "                \t</a></li>\n",
       "</ul>\n",
       "</div>\n",
       "</div>\n",
       "</div>\n",
       "<nav aria-label=\"footer policy links\" class=\"global-footer-corporate\" role=\"navigation\">\n",
       "<ul class=\"global-footer-corporate__list\">\n",
       "<li class=\"global-footer-corporate__item\" role=\"menuitem\">\n",
       "<a class=\"global-footer-corporate__link\" href=\"http://www.icc-cricket.com/about/the-icc/legal-notices/website-terms-of-use\">\n",
       "                        Legal Notice\n",
       "                    </a>\n",
       "</li>\n",
       "<li class=\"global-footer-corporate__item\" role=\"menuitem\">\n",
       "<a class=\"global-footer-corporate__link\" href=\"http://www.icc-cricket.com/about/the-icc/legal-notices/privacy-policy\">\n",
       "                        Privacy Policy\n",
       "                    </a>\n",
       "</li>\n",
       "<li class=\"global-footer-corporate__item\">2021 © International Cricket Council FZ LLC</li>\n",
       "</ul>\n",
       "</nav>\n",
       "</div>\n",
       "</footer></body>\n",
       "</html>\n",
       "\n",
       "<script src=\"/resources/prod/v8.18.18/scripts/vendors.min.js\"></script>\n",
       "<script src=\"/resources/prod/v8.18.18/scripts/client.min.js\"></script>\n",
       "<!--[if IE]> -->\n",
       "<script type=\"text/javascript\">\n",
       "        svg4everybody();\n",
       "    </script>\n",
       "<!-- <![endif]-->\n",
       "\n"
      ]
     },
     "execution_count": 142,
     "metadata": {},
     "output_type": "execute_result"
    }
   ],
   "source": [
    "soup_rankings = bs4.BeautifulSoup(response)\n",
    "soup_rankings"
   ]
  },
  {
   "cell_type": "markdown",
   "id": "e168be47-3c6e-4704-ae39-88f34e36464d",
   "metadata": {},
   "source": [
    "From the soup rankings object found the table containing the statistics ] table. Checked the contents of the table"
   ]
  },
  {
   "cell_type": "code",
   "execution_count": 143,
   "id": "6e11500a-81b8-4a1b-bdfd-0fb6feb1b26f",
   "metadata": {
    "collapsed": true,
    "jupyter": {
     "outputs_hidden": true
    },
    "tags": []
   },
   "outputs": [
    {
     "data": {
      "text/plain": [
       "['\\n',\n",
       " <thead>\n",
       " <tr class=\"table-head\">\n",
       " <th class=\"table-head__cell u-text-right\">Pos</th>\n",
       " <th class=\"table-head__cell rankings-table__team\">\n",
       " <span class=\"u-hide-mobile\">Team</span>\n",
       " <span class=\"u-show-mobile\">T</span>\n",
       " </th>\n",
       " <th class=\"table-head__cell u-center-text\">\n",
       " <span class=\"u-hide-mobile\">Matches</span>\n",
       " <span class=\"u-show-mobile\">M</span>\n",
       " </th>\n",
       " <th class=\"table-head__cell u-center-text\">\n",
       " <span class=\"u-hide-mobile\">Points</span>\n",
       " <span class=\"u-show-mobile\">P</span>\n",
       " </th>\n",
       " <th class=\"table-head__cell u-text-right rating\">\n",
       " <span class=\"u-hide-mobile\">Rating</span>\n",
       " <span class=\"u-show-mobile\">R</span>\n",
       " </th>\n",
       " </tr>\n",
       " </thead>,\n",
       " '\\n',\n",
       " <tbody>\n",
       " <tr class=\"rankings-block__banner\">\n",
       " <td class=\"rankings-block__banner--pos\">1</td>\n",
       " <td class=\"rankings-block__banner--team-name\">\n",
       " <span class=\"flag-30 rankings-block__banner--flag NZ\"></span>\n",
       " <span class=\"u-hide-phablet\">New Zealand</span>\n",
       " <span class=\"u-show-phablet\">NZ</span>\n",
       " </td>\n",
       " <td class=\"rankings-block__banner--matches\">17</td>\n",
       " <td class=\"rankings-block__banner--points\">2,054</td>\n",
       " <td class=\"rankings-block__banner--rating u-text-right\">\n",
       "                             121\n",
       "                             <span class=\"circle-branding circle-branding--top\"></span>\n",
       " <span class=\"circle-branding circle-branding--bottom\"></span>\n",
       " </td>\n",
       " </tr>\n",
       " <tr class=\"table-body\" data-team-id=\"15\">\n",
       " <td class=\"table-body__cell table-body__cell--position u-text-right\">2</td>\n",
       " <td class=\"table-body__cell rankings-table__team\">\n",
       " <span class=\"flag-15 table-body_logo AUS\"></span>\n",
       " <span class=\"u-hide-phablet\">Australia</span>\n",
       " <span class=\"u-show-phablet\">AUS</span>\n",
       " </td>\n",
       " <td class=\"table-body__cell u-center-text\">25</td>\n",
       " <td class=\"table-body__cell u-center-text\">2,945</td>\n",
       " <td class=\"table-body__cell u-text-right rating\">118</td>\n",
       " </tr>\n",
       " <tr class=\"table-body\" data-team-id=\"14\">\n",
       " <td class=\"table-body__cell table-body__cell--position u-text-right\">3</td>\n",
       " <td class=\"table-body__cell rankings-table__team\">\n",
       " <span class=\"flag-15 table-body_logo IND\"></span>\n",
       " <span class=\"u-hide-phablet\">India</span>\n",
       " <span class=\"u-show-phablet\">IND</span>\n",
       " </td>\n",
       " <td class=\"table-body__cell u-center-text\">29</td>\n",
       " <td class=\"table-body__cell u-center-text\">3,344</td>\n",
       " <td class=\"table-body__cell u-text-right rating\">115</td>\n",
       " </tr>\n",
       " <tr class=\"table-body\" data-team-id=\"11\">\n",
       " <td class=\"table-body__cell table-body__cell--position u-text-right\">4</td>\n",
       " <td class=\"table-body__cell rankings-table__team\">\n",
       " <span class=\"flag-15 table-body_logo ENG\"></span>\n",
       " <span class=\"u-hide-phablet\">England</span>\n",
       " <span class=\"u-show-phablet\">ENG</span>\n",
       " </td>\n",
       " <td class=\"table-body__cell u-center-text\">27</td>\n",
       " <td class=\"table-body__cell u-center-text\">3,100</td>\n",
       " <td class=\"table-body__cell u-text-right rating\">115</td>\n",
       " </tr>\n",
       " <tr class=\"table-body\" data-team-id=\"19\">\n",
       " <td class=\"table-body__cell table-body__cell--position u-text-right\">5</td>\n",
       " <td class=\"table-body__cell rankings-table__team\">\n",
       " <span class=\"flag-15 table-body_logo SA\"></span>\n",
       " <span class=\"u-hide-phablet\">South Africa</span>\n",
       " <span class=\"u-show-phablet\">SA</span>\n",
       " </td>\n",
       " <td class=\"table-body__cell u-center-text\">20</td>\n",
       " <td class=\"table-body__cell u-center-text\">2,137</td>\n",
       " <td class=\"table-body__cell u-text-right rating\">107</td>\n",
       " </tr>\n",
       " <tr class=\"table-body\" data-team-id=\"20\">\n",
       " <td class=\"table-body__cell table-body__cell--position u-text-right\">6</td>\n",
       " <td class=\"table-body__cell rankings-table__team\">\n",
       " <span class=\"flag-15 table-body_logo PAK\"></span>\n",
       " <span class=\"u-hide-phablet\">Pakistan</span>\n",
       " <span class=\"u-show-phablet\">PAK</span>\n",
       " </td>\n",
       " <td class=\"table-body__cell u-center-text\">24</td>\n",
       " <td class=\"table-body__cell u-center-text\">2,323</td>\n",
       " <td class=\"table-body__cell u-text-right rating\">97</td>\n",
       " </tr>\n",
       " <tr class=\"table-body\" data-team-id=\"22\">\n",
       " <td class=\"table-body__cell table-body__cell--position u-text-right\">7</td>\n",
       " <td class=\"table-body__cell rankings-table__team\">\n",
       " <span class=\"flag-15 table-body_logo BAN\"></span>\n",
       " <span class=\"u-hide-phablet\">Bangladesh</span>\n",
       " <span class=\"u-show-phablet\">BAN</span>\n",
       " </td>\n",
       " <td class=\"table-body__cell u-center-text\">27</td>\n",
       " <td class=\"table-body__cell u-center-text\">2,438</td>\n",
       " <td class=\"table-body__cell u-text-right rating\">90</td>\n",
       " </tr>\n",
       " <tr class=\"table-body\" data-team-id=\"21\">\n",
       " <td class=\"table-body__cell table-body__cell--position u-text-right\">8</td>\n",
       " <td class=\"table-body__cell rankings-table__team\">\n",
       " <span class=\"flag-15 table-body_logo WI\"></span>\n",
       " <span class=\"u-hide-phablet\">West Indies</span>\n",
       " <span class=\"u-show-phablet\">WI</span>\n",
       " </td>\n",
       " <td class=\"table-body__cell u-center-text\">27</td>\n",
       " <td class=\"table-body__cell u-center-text\">2,222</td>\n",
       " <td class=\"table-body__cell u-text-right rating\">82</td>\n",
       " </tr>\n",
       " <tr class=\"table-body\" data-team-id=\"13\">\n",
       " <td class=\"table-body__cell table-body__cell--position u-text-right\">9</td>\n",
       " <td class=\"table-body__cell rankings-table__team\">\n",
       " <span class=\"flag-15 table-body_logo SL\"></span>\n",
       " <span class=\"u-hide-phablet\">Sri Lanka</span>\n",
       " <span class=\"u-show-phablet\">SL</span>\n",
       " </td>\n",
       " <td class=\"table-body__cell u-center-text\">24</td>\n",
       " <td class=\"table-body__cell u-center-text\">1,876</td>\n",
       " <td class=\"table-body__cell u-text-right rating\">78</td>\n",
       " </tr>\n",
       " <tr class=\"table-body\" data-team-id=\"17\">\n",
       " <td class=\"table-body__cell table-body__cell--position u-text-right\">10</td>\n",
       " <td class=\"table-body__cell rankings-table__team\">\n",
       " <span class=\"flag-15 table-body_logo AFG\"></span>\n",
       " <span class=\"u-hide-phablet\">Afghanistan</span>\n",
       " <span class=\"u-show-phablet\">AFG</span>\n",
       " </td>\n",
       " <td class=\"table-body__cell u-center-text\">17</td>\n",
       " <td class=\"table-body__cell u-center-text\">1,054</td>\n",
       " <td class=\"table-body__cell u-text-right rating\">62</td>\n",
       " </tr>\n",
       " <tr class=\"table-body\" data-team-id=\"68\">\n",
       " <td class=\"table-body__cell table-body__cell--position u-text-right\">11</td>\n",
       " <td class=\"table-body__cell rankings-table__team\">\n",
       " <span class=\"flag-15 table-body_logo NED\"></span>\n",
       " <span class=\"u-hide-phablet\">Netherlands</span>\n",
       " <span class=\"u-show-phablet\">NED</span>\n",
       " </td>\n",
       " <td class=\"table-body__cell u-center-text\">7</td>\n",
       " <td class=\"table-body__cell u-center-text\">336</td>\n",
       " <td class=\"table-body__cell u-text-right rating\">48</td>\n",
       " </tr>\n",
       " <tr class=\"table-body\" data-team-id=\"12\">\n",
       " <td class=\"table-body__cell table-body__cell--position u-text-right\">12</td>\n",
       " <td class=\"table-body__cell rankings-table__team\">\n",
       " <span class=\"flag-15 table-body_logo IRE\"></span>\n",
       " <span class=\"u-hide-phablet\">Ireland</span>\n",
       " <span class=\"u-show-phablet\">IRE</span>\n",
       " </td>\n",
       " <td class=\"table-body__cell u-center-text\">21</td>\n",
       " <td class=\"table-body__cell u-center-text\">897</td>\n",
       " <td class=\"table-body__cell u-text-right rating\">43</td>\n",
       " </tr>\n",
       " <tr class=\"table-body\" data-team-id=\"18\">\n",
       " <td class=\"table-body__cell table-body__cell--position u-text-right\">13</td>\n",
       " <td class=\"table-body__cell rankings-table__team\">\n",
       " <span class=\"flag-15 table-body_logo ZIM\"></span>\n",
       " <span class=\"u-hide-phablet\">Zimbabwe</span>\n",
       " <span class=\"u-show-phablet\">ZIM</span>\n",
       " </td>\n",
       " <td class=\"table-body__cell u-center-text\">15</td>\n",
       " <td class=\"table-body__cell u-center-text\">588</td>\n",
       " <td class=\"table-body__cell u-text-right rating\">39</td>\n",
       " </tr>\n",
       " <tr class=\"table-body\" data-team-id=\"69\">\n",
       " <td class=\"table-body__cell table-body__cell--position u-text-right\">14</td>\n",
       " <td class=\"table-body__cell rankings-table__team\">\n",
       " <span class=\"flag-15 table-body_logo SCO\"></span>\n",
       " <span class=\"u-hide-phablet\">Scotland</span>\n",
       " <span class=\"u-show-phablet\">SCO</span>\n",
       " </td>\n",
       " <td class=\"table-body__cell u-center-text\">7</td>\n",
       " <td class=\"table-body__cell u-center-text\">258</td>\n",
       " <td class=\"table-body__cell u-text-right rating\">37</td>\n",
       " </tr>\n",
       " <tr class=\"table-body\" data-team-id=\"128\">\n",
       " <td class=\"table-body__cell table-body__cell--position u-text-right\">15</td>\n",
       " <td class=\"table-body__cell rankings-table__team\">\n",
       " <span class=\"flag-15 table-body_logo OMA\"></span>\n",
       " <span class=\"u-hide-phablet\">Oman</span>\n",
       " <span class=\"u-show-phablet\">OMA</span>\n",
       " </td>\n",
       " <td class=\"table-body__cell u-center-text\">7</td>\n",
       " <td class=\"table-body__cell u-center-text\">240</td>\n",
       " <td class=\"table-body__cell u-text-right rating\">34</td>\n",
       " </tr>\n",
       " <tr class=\"table-body\" data-team-id=\"125\">\n",
       " <td class=\"table-body__cell table-body__cell--position u-text-right\">16</td>\n",
       " <td class=\"table-body__cell rankings-table__team\">\n",
       " <span class=\"flag-15 table-body_logo NEP\"></span>\n",
       " <span class=\"u-hide-phablet\">Nepal</span>\n",
       " <span class=\"u-show-phablet\">NEP</span>\n",
       " </td>\n",
       " <td class=\"table-body__cell u-center-text\">5</td>\n",
       " <td class=\"table-body__cell u-center-text\">119</td>\n",
       " <td class=\"table-body__cell u-text-right rating\">24</td>\n",
       " </tr>\n",
       " <tr class=\"table-body\" data-team-id=\"155\">\n",
       " <td class=\"table-body__cell table-body__cell--position u-text-right\">17</td>\n",
       " <td class=\"table-body__cell rankings-table__team\">\n",
       " <span class=\"flag-15 table-body_logo UAE\"></span>\n",
       " <span class=\"u-hide-phablet\">UAE</span>\n",
       " <span class=\"u-show-phablet\">UAE</span>\n",
       " </td>\n",
       " <td class=\"table-body__cell u-center-text\">9</td>\n",
       " <td class=\"table-body__cell u-center-text\">190</td>\n",
       " <td class=\"table-body__cell u-text-right rating\">21</td>\n",
       " </tr>\n",
       " <tr class=\"table-body\" data-team-id=\"124\">\n",
       " <td class=\"table-body__cell table-body__cell--position u-text-right\">18</td>\n",
       " <td class=\"table-body__cell rankings-table__team\">\n",
       " <span class=\"flag-15 table-body_logo NAM\"></span>\n",
       " <span class=\"u-hide-phablet\">Namibia</span>\n",
       " <span class=\"u-show-phablet\">NAM</span>\n",
       " </td>\n",
       " <td class=\"table-body__cell u-center-text\">6</td>\n",
       " <td class=\"table-body__cell u-center-text\">97</td>\n",
       " <td class=\"table-body__cell u-text-right rating\">16</td>\n",
       " </tr>\n",
       " <tr class=\"table-body\" data-team-id=\"157\">\n",
       " <td class=\"table-body__cell table-body__cell--position u-text-right\">19</td>\n",
       " <td class=\"table-body__cell rankings-table__team\">\n",
       " <span class=\"flag-15 table-body_logo USA\"></span>\n",
       " <span class=\"u-hide-phablet\">United States</span>\n",
       " <span class=\"u-show-phablet\">USA</span>\n",
       " </td>\n",
       " <td class=\"table-body__cell u-center-text\">8</td>\n",
       " <td class=\"table-body__cell u-center-text\">93</td>\n",
       " <td class=\"table-body__cell u-text-right rating\">12</td>\n",
       " </tr>\n",
       " <tr class=\"table-body\" data-team-id=\"133\">\n",
       " <td class=\"table-body__cell table-body__cell--position u-text-right\">20</td>\n",
       " <td class=\"table-body__cell rankings-table__team\">\n",
       " <span class=\"flag-15 table-body_logo PNG\"></span>\n",
       " <span class=\"u-hide-phablet\">Papua New Guinea</span>\n",
       " <span class=\"u-show-phablet\">PNG</span>\n",
       " </td>\n",
       " <td class=\"table-body__cell u-center-text\">5</td>\n",
       " <td class=\"table-body__cell u-center-text\">0</td>\n",
       " <td class=\"table-body__cell u-text-right rating\">0</td>\n",
       " </tr>\n",
       " </tbody>,\n",
       " '\\n']"
      ]
     },
     "execution_count": 143,
     "metadata": {},
     "output_type": "execute_result"
    }
   ],
   "source": [
    "scorecard_table = soup_rankings.find('table')\n",
    "\n",
    "scorecard_table.contents"
   ]
  },
  {
   "cell_type": "markdown",
   "id": "59615a90-b101-4518-9d5a-b1ab8d08a504",
   "metadata": {},
   "source": [
    "From the scorecard_table contents and by inspecting the html file we understand that the rows of the table are in between \\<tr>. So tried to find all the rows that is in between \\<tr>"
   ]
  },
  {
   "cell_type": "code",
   "execution_count": 144,
   "id": "daaed339-2145-4258-a0c4-102832fd3cf2",
   "metadata": {
    "collapsed": true,
    "jupyter": {
     "outputs_hidden": true
    },
    "tags": []
   },
   "outputs": [
    {
     "name": "stdout",
     "output_type": "stream",
     "text": [
      "[<tr class=\"table-head\">\n",
      "<th class=\"table-head__cell u-text-right\">Pos</th>\n",
      "<th class=\"table-head__cell rankings-table__team\">\n",
      "<span class=\"u-hide-mobile\">Team</span>\n",
      "<span class=\"u-show-mobile\">T</span>\n",
      "</th>\n",
      "<th class=\"table-head__cell u-center-text\">\n",
      "<span class=\"u-hide-mobile\">Matches</span>\n",
      "<span class=\"u-show-mobile\">M</span>\n",
      "</th>\n",
      "<th class=\"table-head__cell u-center-text\">\n",
      "<span class=\"u-hide-mobile\">Points</span>\n",
      "<span class=\"u-show-mobile\">P</span>\n",
      "</th>\n",
      "<th class=\"table-head__cell u-text-right rating\">\n",
      "<span class=\"u-hide-mobile\">Rating</span>\n",
      "<span class=\"u-show-mobile\">R</span>\n",
      "</th>\n",
      "</tr>, <tr class=\"rankings-block__banner\">\n",
      "<td class=\"rankings-block__banner--pos\">1</td>\n",
      "<td class=\"rankings-block__banner--team-name\">\n",
      "<span class=\"flag-30 rankings-block__banner--flag NZ\"></span>\n",
      "<span class=\"u-hide-phablet\">New Zealand</span>\n",
      "<span class=\"u-show-phablet\">NZ</span>\n",
      "</td>\n",
      "<td class=\"rankings-block__banner--matches\">17</td>\n",
      "<td class=\"rankings-block__banner--points\">2,054</td>\n",
      "<td class=\"rankings-block__banner--rating u-text-right\">\n",
      "                            121\n",
      "                            <span class=\"circle-branding circle-branding--top\"></span>\n",
      "<span class=\"circle-branding circle-branding--bottom\"></span>\n",
      "</td>\n",
      "</tr>, <tr class=\"table-body\" data-team-id=\"15\">\n",
      "<td class=\"table-body__cell table-body__cell--position u-text-right\">2</td>\n",
      "<td class=\"table-body__cell rankings-table__team\">\n",
      "<span class=\"flag-15 table-body_logo AUS\"></span>\n",
      "<span class=\"u-hide-phablet\">Australia</span>\n",
      "<span class=\"u-show-phablet\">AUS</span>\n",
      "</td>\n",
      "<td class=\"table-body__cell u-center-text\">25</td>\n",
      "<td class=\"table-body__cell u-center-text\">2,945</td>\n",
      "<td class=\"table-body__cell u-text-right rating\">118</td>\n",
      "</tr>, <tr class=\"table-body\" data-team-id=\"14\">\n",
      "<td class=\"table-body__cell table-body__cell--position u-text-right\">3</td>\n",
      "<td class=\"table-body__cell rankings-table__team\">\n",
      "<span class=\"flag-15 table-body_logo IND\"></span>\n",
      "<span class=\"u-hide-phablet\">India</span>\n",
      "<span class=\"u-show-phablet\">IND</span>\n",
      "</td>\n",
      "<td class=\"table-body__cell u-center-text\">29</td>\n",
      "<td class=\"table-body__cell u-center-text\">3,344</td>\n",
      "<td class=\"table-body__cell u-text-right rating\">115</td>\n",
      "</tr>, <tr class=\"table-body\" data-team-id=\"11\">\n",
      "<td class=\"table-body__cell table-body__cell--position u-text-right\">4</td>\n",
      "<td class=\"table-body__cell rankings-table__team\">\n",
      "<span class=\"flag-15 table-body_logo ENG\"></span>\n",
      "<span class=\"u-hide-phablet\">England</span>\n",
      "<span class=\"u-show-phablet\">ENG</span>\n",
      "</td>\n",
      "<td class=\"table-body__cell u-center-text\">27</td>\n",
      "<td class=\"table-body__cell u-center-text\">3,100</td>\n",
      "<td class=\"table-body__cell u-text-right rating\">115</td>\n",
      "</tr>, <tr class=\"table-body\" data-team-id=\"19\">\n",
      "<td class=\"table-body__cell table-body__cell--position u-text-right\">5</td>\n",
      "<td class=\"table-body__cell rankings-table__team\">\n",
      "<span class=\"flag-15 table-body_logo SA\"></span>\n",
      "<span class=\"u-hide-phablet\">South Africa</span>\n",
      "<span class=\"u-show-phablet\">SA</span>\n",
      "</td>\n",
      "<td class=\"table-body__cell u-center-text\">20</td>\n",
      "<td class=\"table-body__cell u-center-text\">2,137</td>\n",
      "<td class=\"table-body__cell u-text-right rating\">107</td>\n",
      "</tr>, <tr class=\"table-body\" data-team-id=\"20\">\n",
      "<td class=\"table-body__cell table-body__cell--position u-text-right\">6</td>\n",
      "<td class=\"table-body__cell rankings-table__team\">\n",
      "<span class=\"flag-15 table-body_logo PAK\"></span>\n",
      "<span class=\"u-hide-phablet\">Pakistan</span>\n",
      "<span class=\"u-show-phablet\">PAK</span>\n",
      "</td>\n",
      "<td class=\"table-body__cell u-center-text\">24</td>\n",
      "<td class=\"table-body__cell u-center-text\">2,323</td>\n",
      "<td class=\"table-body__cell u-text-right rating\">97</td>\n",
      "</tr>, <tr class=\"table-body\" data-team-id=\"22\">\n",
      "<td class=\"table-body__cell table-body__cell--position u-text-right\">7</td>\n",
      "<td class=\"table-body__cell rankings-table__team\">\n",
      "<span class=\"flag-15 table-body_logo BAN\"></span>\n",
      "<span class=\"u-hide-phablet\">Bangladesh</span>\n",
      "<span class=\"u-show-phablet\">BAN</span>\n",
      "</td>\n",
      "<td class=\"table-body__cell u-center-text\">27</td>\n",
      "<td class=\"table-body__cell u-center-text\">2,438</td>\n",
      "<td class=\"table-body__cell u-text-right rating\">90</td>\n",
      "</tr>, <tr class=\"table-body\" data-team-id=\"21\">\n",
      "<td class=\"table-body__cell table-body__cell--position u-text-right\">8</td>\n",
      "<td class=\"table-body__cell rankings-table__team\">\n",
      "<span class=\"flag-15 table-body_logo WI\"></span>\n",
      "<span class=\"u-hide-phablet\">West Indies</span>\n",
      "<span class=\"u-show-phablet\">WI</span>\n",
      "</td>\n",
      "<td class=\"table-body__cell u-center-text\">27</td>\n",
      "<td class=\"table-body__cell u-center-text\">2,222</td>\n",
      "<td class=\"table-body__cell u-text-right rating\">82</td>\n",
      "</tr>, <tr class=\"table-body\" data-team-id=\"13\">\n",
      "<td class=\"table-body__cell table-body__cell--position u-text-right\">9</td>\n",
      "<td class=\"table-body__cell rankings-table__team\">\n",
      "<span class=\"flag-15 table-body_logo SL\"></span>\n",
      "<span class=\"u-hide-phablet\">Sri Lanka</span>\n",
      "<span class=\"u-show-phablet\">SL</span>\n",
      "</td>\n",
      "<td class=\"table-body__cell u-center-text\">24</td>\n",
      "<td class=\"table-body__cell u-center-text\">1,876</td>\n",
      "<td class=\"table-body__cell u-text-right rating\">78</td>\n",
      "</tr>, <tr class=\"table-body\" data-team-id=\"17\">\n",
      "<td class=\"table-body__cell table-body__cell--position u-text-right\">10</td>\n",
      "<td class=\"table-body__cell rankings-table__team\">\n",
      "<span class=\"flag-15 table-body_logo AFG\"></span>\n",
      "<span class=\"u-hide-phablet\">Afghanistan</span>\n",
      "<span class=\"u-show-phablet\">AFG</span>\n",
      "</td>\n",
      "<td class=\"table-body__cell u-center-text\">17</td>\n",
      "<td class=\"table-body__cell u-center-text\">1,054</td>\n",
      "<td class=\"table-body__cell u-text-right rating\">62</td>\n",
      "</tr>, <tr class=\"table-body\" data-team-id=\"68\">\n",
      "<td class=\"table-body__cell table-body__cell--position u-text-right\">11</td>\n",
      "<td class=\"table-body__cell rankings-table__team\">\n",
      "<span class=\"flag-15 table-body_logo NED\"></span>\n",
      "<span class=\"u-hide-phablet\">Netherlands</span>\n",
      "<span class=\"u-show-phablet\">NED</span>\n",
      "</td>\n",
      "<td class=\"table-body__cell u-center-text\">7</td>\n",
      "<td class=\"table-body__cell u-center-text\">336</td>\n",
      "<td class=\"table-body__cell u-text-right rating\">48</td>\n",
      "</tr>, <tr class=\"table-body\" data-team-id=\"12\">\n",
      "<td class=\"table-body__cell table-body__cell--position u-text-right\">12</td>\n",
      "<td class=\"table-body__cell rankings-table__team\">\n",
      "<span class=\"flag-15 table-body_logo IRE\"></span>\n",
      "<span class=\"u-hide-phablet\">Ireland</span>\n",
      "<span class=\"u-show-phablet\">IRE</span>\n",
      "</td>\n",
      "<td class=\"table-body__cell u-center-text\">21</td>\n",
      "<td class=\"table-body__cell u-center-text\">897</td>\n",
      "<td class=\"table-body__cell u-text-right rating\">43</td>\n",
      "</tr>, <tr class=\"table-body\" data-team-id=\"18\">\n",
      "<td class=\"table-body__cell table-body__cell--position u-text-right\">13</td>\n",
      "<td class=\"table-body__cell rankings-table__team\">\n",
      "<span class=\"flag-15 table-body_logo ZIM\"></span>\n",
      "<span class=\"u-hide-phablet\">Zimbabwe</span>\n",
      "<span class=\"u-show-phablet\">ZIM</span>\n",
      "</td>\n",
      "<td class=\"table-body__cell u-center-text\">15</td>\n",
      "<td class=\"table-body__cell u-center-text\">588</td>\n",
      "<td class=\"table-body__cell u-text-right rating\">39</td>\n",
      "</tr>, <tr class=\"table-body\" data-team-id=\"69\">\n",
      "<td class=\"table-body__cell table-body__cell--position u-text-right\">14</td>\n",
      "<td class=\"table-body__cell rankings-table__team\">\n",
      "<span class=\"flag-15 table-body_logo SCO\"></span>\n",
      "<span class=\"u-hide-phablet\">Scotland</span>\n",
      "<span class=\"u-show-phablet\">SCO</span>\n",
      "</td>\n",
      "<td class=\"table-body__cell u-center-text\">7</td>\n",
      "<td class=\"table-body__cell u-center-text\">258</td>\n",
      "<td class=\"table-body__cell u-text-right rating\">37</td>\n",
      "</tr>, <tr class=\"table-body\" data-team-id=\"128\">\n",
      "<td class=\"table-body__cell table-body__cell--position u-text-right\">15</td>\n",
      "<td class=\"table-body__cell rankings-table__team\">\n",
      "<span class=\"flag-15 table-body_logo OMA\"></span>\n",
      "<span class=\"u-hide-phablet\">Oman</span>\n",
      "<span class=\"u-show-phablet\">OMA</span>\n",
      "</td>\n",
      "<td class=\"table-body__cell u-center-text\">7</td>\n",
      "<td class=\"table-body__cell u-center-text\">240</td>\n",
      "<td class=\"table-body__cell u-text-right rating\">34</td>\n",
      "</tr>, <tr class=\"table-body\" data-team-id=\"125\">\n",
      "<td class=\"table-body__cell table-body__cell--position u-text-right\">16</td>\n",
      "<td class=\"table-body__cell rankings-table__team\">\n",
      "<span class=\"flag-15 table-body_logo NEP\"></span>\n",
      "<span class=\"u-hide-phablet\">Nepal</span>\n",
      "<span class=\"u-show-phablet\">NEP</span>\n",
      "</td>\n",
      "<td class=\"table-body__cell u-center-text\">5</td>\n",
      "<td class=\"table-body__cell u-center-text\">119</td>\n",
      "<td class=\"table-body__cell u-text-right rating\">24</td>\n",
      "</tr>, <tr class=\"table-body\" data-team-id=\"155\">\n",
      "<td class=\"table-body__cell table-body__cell--position u-text-right\">17</td>\n",
      "<td class=\"table-body__cell rankings-table__team\">\n",
      "<span class=\"flag-15 table-body_logo UAE\"></span>\n",
      "<span class=\"u-hide-phablet\">UAE</span>\n",
      "<span class=\"u-show-phablet\">UAE</span>\n",
      "</td>\n",
      "<td class=\"table-body__cell u-center-text\">9</td>\n",
      "<td class=\"table-body__cell u-center-text\">190</td>\n",
      "<td class=\"table-body__cell u-text-right rating\">21</td>\n",
      "</tr>, <tr class=\"table-body\" data-team-id=\"124\">\n",
      "<td class=\"table-body__cell table-body__cell--position u-text-right\">18</td>\n",
      "<td class=\"table-body__cell rankings-table__team\">\n",
      "<span class=\"flag-15 table-body_logo NAM\"></span>\n",
      "<span class=\"u-hide-phablet\">Namibia</span>\n",
      "<span class=\"u-show-phablet\">NAM</span>\n",
      "</td>\n",
      "<td class=\"table-body__cell u-center-text\">6</td>\n",
      "<td class=\"table-body__cell u-center-text\">97</td>\n",
      "<td class=\"table-body__cell u-text-right rating\">16</td>\n",
      "</tr>, <tr class=\"table-body\" data-team-id=\"157\">\n",
      "<td class=\"table-body__cell table-body__cell--position u-text-right\">19</td>\n",
      "<td class=\"table-body__cell rankings-table__team\">\n",
      "<span class=\"flag-15 table-body_logo USA\"></span>\n",
      "<span class=\"u-hide-phablet\">United States</span>\n",
      "<span class=\"u-show-phablet\">USA</span>\n",
      "</td>\n",
      "<td class=\"table-body__cell u-center-text\">8</td>\n",
      "<td class=\"table-body__cell u-center-text\">93</td>\n",
      "<td class=\"table-body__cell u-text-right rating\">12</td>\n",
      "</tr>, <tr class=\"table-body\" data-team-id=\"133\">\n",
      "<td class=\"table-body__cell table-body__cell--position u-text-right\">20</td>\n",
      "<td class=\"table-body__cell rankings-table__team\">\n",
      "<span class=\"flag-15 table-body_logo PNG\"></span>\n",
      "<span class=\"u-hide-phablet\">Papua New Guinea</span>\n",
      "<span class=\"u-show-phablet\">PNG</span>\n",
      "</td>\n",
      "<td class=\"table-body__cell u-center-text\">5</td>\n",
      "<td class=\"table-body__cell u-center-text\">0</td>\n",
      "<td class=\"table-body__cell u-text-right rating\">0</td>\n",
      "</tr>]\n"
     ]
    }
   ],
   "source": [
    "scorecard_table_rows = scorecard_table.find_all('tr')\n",
    "print(scorecard_table_rows[:50])"
   ]
  },
  {
   "cell_type": "markdown",
   "id": "7687aa48-4f31-4dee-afe8-a9e3b5444bb7",
   "metadata": {},
   "source": [
    "First row of the all the rows in scorecard_table_rows is the header row which is at index 0. Extracted 1st row from scorecard_table_rows and named it as header_row"
   ]
  },
  {
   "cell_type": "code",
   "execution_count": 145,
   "id": "e317b85d-ef4e-418d-9afc-1ef7c30a5ca2",
   "metadata": {
    "tags": []
   },
   "outputs": [
    {
     "data": {
      "text/plain": [
       "<tr class=\"table-head\">\n",
       "<th class=\"table-head__cell u-text-right\">Pos</th>\n",
       "<th class=\"table-head__cell rankings-table__team\">\n",
       "<span class=\"u-hide-mobile\">Team</span>\n",
       "<span class=\"u-show-mobile\">T</span>\n",
       "</th>\n",
       "<th class=\"table-head__cell u-center-text\">\n",
       "<span class=\"u-hide-mobile\">Matches</span>\n",
       "<span class=\"u-show-mobile\">M</span>\n",
       "</th>\n",
       "<th class=\"table-head__cell u-center-text\">\n",
       "<span class=\"u-hide-mobile\">Points</span>\n",
       "<span class=\"u-show-mobile\">P</span>\n",
       "</th>\n",
       "<th class=\"table-head__cell u-text-right rating\">\n",
       "<span class=\"u-hide-mobile\">Rating</span>\n",
       "<span class=\"u-show-mobile\">R</span>\n",
       "</th>\n",
       "</tr>"
      ]
     },
     "execution_count": 145,
     "metadata": {},
     "output_type": "execute_result"
    }
   ],
   "source": [
    "header_row = scorecard_table_rows[0]\n",
    "header_row"
   ]
  },
  {
   "cell_type": "markdown",
   "id": "9ac7c209-2172-47e5-b36c-6af961c05422",
   "metadata": {},
   "source": [
    "To extract header of individual columns we found all the values in between \\<th>. Used strip and regex pattern to get the right column names"
   ]
  },
  {
   "cell_type": "code",
   "execution_count": 146,
   "id": "54807d61-18d6-4f2a-b986-c9eaab13ae92",
   "metadata": {
    "tags": []
   },
   "outputs": [
    {
     "data": {
      "text/plain": [
       "[<th class=\"table-head__cell u-text-right\">Pos</th>,\n",
       " <th class=\"table-head__cell rankings-table__team\">\n",
       " <span class=\"u-hide-mobile\">Team</span>\n",
       " <span class=\"u-show-mobile\">T</span>\n",
       " </th>,\n",
       " <th class=\"table-head__cell u-center-text\">\n",
       " <span class=\"u-hide-mobile\">Matches</span>\n",
       " <span class=\"u-show-mobile\">M</span>\n",
       " </th>,\n",
       " <th class=\"table-head__cell u-center-text\">\n",
       " <span class=\"u-hide-mobile\">Points</span>\n",
       " <span class=\"u-show-mobile\">P</span>\n",
       " </th>,\n",
       " <th class=\"table-head__cell u-text-right rating\">\n",
       " <span class=\"u-hide-mobile\">Rating</span>\n",
       " <span class=\"u-show-mobile\">R</span>\n",
       " </th>]"
      ]
     },
     "execution_count": 146,
     "metadata": {},
     "output_type": "execute_result"
    }
   ],
   "source": [
    "ths = header_row.find_all(\"th\")\n",
    "ths"
   ]
  },
  {
   "cell_type": "code",
   "execution_count": 147,
   "id": "9dc04ab5-a81b-4144-a797-1b23bfec9360",
   "metadata": {},
   "outputs": [
    {
     "name": "stdout",
     "output_type": "stream",
     "text": [
      "['Pos', 'Team', 'Matches', 'Points', 'Rating']\n",
      "5\n"
     ]
    }
   ],
   "source": [
    "header = [th.text.strip() for th in ths]\n",
    "header = [re.sub(r'\\n[A-z]','', file) for file in header]\n",
    "print(header)\n",
    "print(len(header))"
   ]
  },
  {
   "cell_type": "markdown",
   "id": "d52abfde-abdb-4229-9bf4-731e89feb4c9",
   "metadata": {},
   "source": [
    "Now to extract all the rows of the table. Created an empty list and added all rows in between\\<td>. Again, used strip and regex function to get the appropriate format."
   ]
  },
  {
   "cell_type": "code",
   "execution_count": 148,
   "id": "74c340a6-7f9e-4e1a-b116-0d605825dfda",
   "metadata": {},
   "outputs": [
    {
     "data": {
      "text/plain": [
       "[['1', 'New Zealand', '17', '2054', '121'],\n",
       " ['2', 'Australia', '25', '2945', '118'],\n",
       " ['3', 'India', '29', '3344', '115'],\n",
       " ['4', 'England', '27', '3100', '115'],\n",
       " ['5', 'South Africa', '20', '2137', '107'],\n",
       " ['6', 'Pakistan', '24', '2323', '97'],\n",
       " ['7', 'Bangladesh', '27', '2438', '90'],\n",
       " ['8', 'West Indies', '27', '2222', '82'],\n",
       " ['9', 'Sri Lanka', '24', '1876', '78'],\n",
       " ['10', 'Afghanistan', '17', '1054', '62'],\n",
       " ['11', 'Netherlands', '7', '336', '48'],\n",
       " ['12', 'Ireland', '21', '897', '43'],\n",
       " ['13', 'Zimbabwe', '15', '588', '39'],\n",
       " ['14', 'Scotland', '7', '258', '37'],\n",
       " ['15', 'Oman', '7', '240', '34'],\n",
       " ['16', 'Nepal', '5', '119', '24'],\n",
       " ['17', 'UAE', '9', '190', '21'],\n",
       " ['18', 'Namibia', '6', '97', '16'],\n",
       " ['19', 'United States', '8', '93', '12'],\n",
       " ['20', 'Papua New Guinea', '5', '0', '0']]"
      ]
     },
     "execution_count": 148,
     "metadata": {},
     "output_type": "execute_result"
    }
   ],
   "source": [
    "ranking_data_rows = []\n",
    "for tr in scorecard_table_rows:\n",
    "    tds = tr.find_all('td')\n",
    "    row = [td.text.strip() for td in tds]\n",
    "    row = [re.sub(r'\\n[A-Z]\\w+','', t) for t in row]\n",
    "    row = [re.sub(r',','', t) for t in row]\n",
    "    if row:\n",
    "        ranking_data_rows.append(row)\n",
    "\n",
    "ranking_data_rows"
   ]
  },
  {
   "cell_type": "markdown",
   "id": "d5aabe36-b3c0-4599-aeb6-6b59d1784072",
   "metadata": {},
   "source": [
    "Created a dataframe with column names extracted from header list"
   ]
  },
  {
   "cell_type": "code",
   "execution_count": 149,
   "id": "551a877b-82cc-472a-b9d1-39069d1f37ca",
   "metadata": {},
   "outputs": [
    {
     "data": {
      "text/html": [
       "<div>\n",
       "<style scoped>\n",
       "    .dataframe tbody tr th:only-of-type {\n",
       "        vertical-align: middle;\n",
       "    }\n",
       "\n",
       "    .dataframe tbody tr th {\n",
       "        vertical-align: top;\n",
       "    }\n",
       "\n",
       "    .dataframe thead th {\n",
       "        text-align: right;\n",
       "    }\n",
       "</style>\n",
       "<table border=\"1\" class=\"dataframe\">\n",
       "  <thead>\n",
       "    <tr style=\"text-align: right;\">\n",
       "      <th></th>\n",
       "      <th>Pos</th>\n",
       "      <th>Team</th>\n",
       "      <th>Matches</th>\n",
       "      <th>Points</th>\n",
       "      <th>Rating</th>\n",
       "    </tr>\n",
       "  </thead>\n",
       "  <tbody>\n",
       "    <tr>\n",
       "      <th>0</th>\n",
       "      <td>1</td>\n",
       "      <td>New Zealand</td>\n",
       "      <td>17</td>\n",
       "      <td>2054</td>\n",
       "      <td>121</td>\n",
       "    </tr>\n",
       "    <tr>\n",
       "      <th>1</th>\n",
       "      <td>2</td>\n",
       "      <td>Australia</td>\n",
       "      <td>25</td>\n",
       "      <td>2945</td>\n",
       "      <td>118</td>\n",
       "    </tr>\n",
       "    <tr>\n",
       "      <th>2</th>\n",
       "      <td>3</td>\n",
       "      <td>India</td>\n",
       "      <td>29</td>\n",
       "      <td>3344</td>\n",
       "      <td>115</td>\n",
       "    </tr>\n",
       "    <tr>\n",
       "      <th>3</th>\n",
       "      <td>4</td>\n",
       "      <td>England</td>\n",
       "      <td>27</td>\n",
       "      <td>3100</td>\n",
       "      <td>115</td>\n",
       "    </tr>\n",
       "    <tr>\n",
       "      <th>4</th>\n",
       "      <td>5</td>\n",
       "      <td>South Africa</td>\n",
       "      <td>20</td>\n",
       "      <td>2137</td>\n",
       "      <td>107</td>\n",
       "    </tr>\n",
       "    <tr>\n",
       "      <th>5</th>\n",
       "      <td>6</td>\n",
       "      <td>Pakistan</td>\n",
       "      <td>24</td>\n",
       "      <td>2323</td>\n",
       "      <td>97</td>\n",
       "    </tr>\n",
       "    <tr>\n",
       "      <th>6</th>\n",
       "      <td>7</td>\n",
       "      <td>Bangladesh</td>\n",
       "      <td>27</td>\n",
       "      <td>2438</td>\n",
       "      <td>90</td>\n",
       "    </tr>\n",
       "    <tr>\n",
       "      <th>7</th>\n",
       "      <td>8</td>\n",
       "      <td>West Indies</td>\n",
       "      <td>27</td>\n",
       "      <td>2222</td>\n",
       "      <td>82</td>\n",
       "    </tr>\n",
       "    <tr>\n",
       "      <th>8</th>\n",
       "      <td>9</td>\n",
       "      <td>Sri Lanka</td>\n",
       "      <td>24</td>\n",
       "      <td>1876</td>\n",
       "      <td>78</td>\n",
       "    </tr>\n",
       "    <tr>\n",
       "      <th>9</th>\n",
       "      <td>10</td>\n",
       "      <td>Afghanistan</td>\n",
       "      <td>17</td>\n",
       "      <td>1054</td>\n",
       "      <td>62</td>\n",
       "    </tr>\n",
       "    <tr>\n",
       "      <th>10</th>\n",
       "      <td>11</td>\n",
       "      <td>Netherlands</td>\n",
       "      <td>7</td>\n",
       "      <td>336</td>\n",
       "      <td>48</td>\n",
       "    </tr>\n",
       "    <tr>\n",
       "      <th>11</th>\n",
       "      <td>12</td>\n",
       "      <td>Ireland</td>\n",
       "      <td>21</td>\n",
       "      <td>897</td>\n",
       "      <td>43</td>\n",
       "    </tr>\n",
       "    <tr>\n",
       "      <th>12</th>\n",
       "      <td>13</td>\n",
       "      <td>Zimbabwe</td>\n",
       "      <td>15</td>\n",
       "      <td>588</td>\n",
       "      <td>39</td>\n",
       "    </tr>\n",
       "    <tr>\n",
       "      <th>13</th>\n",
       "      <td>14</td>\n",
       "      <td>Scotland</td>\n",
       "      <td>7</td>\n",
       "      <td>258</td>\n",
       "      <td>37</td>\n",
       "    </tr>\n",
       "    <tr>\n",
       "      <th>14</th>\n",
       "      <td>15</td>\n",
       "      <td>Oman</td>\n",
       "      <td>7</td>\n",
       "      <td>240</td>\n",
       "      <td>34</td>\n",
       "    </tr>\n",
       "    <tr>\n",
       "      <th>15</th>\n",
       "      <td>16</td>\n",
       "      <td>Nepal</td>\n",
       "      <td>5</td>\n",
       "      <td>119</td>\n",
       "      <td>24</td>\n",
       "    </tr>\n",
       "    <tr>\n",
       "      <th>16</th>\n",
       "      <td>17</td>\n",
       "      <td>UAE</td>\n",
       "      <td>9</td>\n",
       "      <td>190</td>\n",
       "      <td>21</td>\n",
       "    </tr>\n",
       "    <tr>\n",
       "      <th>17</th>\n",
       "      <td>18</td>\n",
       "      <td>Namibia</td>\n",
       "      <td>6</td>\n",
       "      <td>97</td>\n",
       "      <td>16</td>\n",
       "    </tr>\n",
       "    <tr>\n",
       "      <th>18</th>\n",
       "      <td>19</td>\n",
       "      <td>United States</td>\n",
       "      <td>8</td>\n",
       "      <td>93</td>\n",
       "      <td>12</td>\n",
       "    </tr>\n",
       "    <tr>\n",
       "      <th>19</th>\n",
       "      <td>20</td>\n",
       "      <td>Papua New Guinea</td>\n",
       "      <td>5</td>\n",
       "      <td>0</td>\n",
       "      <td>0</td>\n",
       "    </tr>\n",
       "  </tbody>\n",
       "</table>\n",
       "</div>"
      ],
      "text/plain": [
       "   Pos              Team Matches Points Rating\n",
       "0    1       New Zealand      17   2054    121\n",
       "1    2         Australia      25   2945    118\n",
       "2    3             India      29   3344    115\n",
       "3    4           England      27   3100    115\n",
       "4    5      South Africa      20   2137    107\n",
       "5    6          Pakistan      24   2323     97\n",
       "6    7        Bangladesh      27   2438     90\n",
       "7    8       West Indies      27   2222     82\n",
       "8    9         Sri Lanka      24   1876     78\n",
       "9   10       Afghanistan      17   1054     62\n",
       "10  11       Netherlands       7    336     48\n",
       "11  12           Ireland      21    897     43\n",
       "12  13          Zimbabwe      15    588     39\n",
       "13  14          Scotland       7    258     37\n",
       "14  15              Oman       7    240     34\n",
       "15  16             Nepal       5    119     24\n",
       "16  17               UAE       9    190     21\n",
       "17  18           Namibia       6     97     16\n",
       "18  19     United States       8     93     12\n",
       "19  20  Papua New Guinea       5      0      0"
      ]
     },
     "execution_count": 149,
     "metadata": {},
     "output_type": "execute_result"
    }
   ],
   "source": [
    "cricket_stats_odi_df = pd.DataFrame(ranking_data_rows, columns = header)\n",
    "cricket_stats_odi_df"
   ]
  },
  {
   "cell_type": "markdown",
   "id": "f95f71a8-800c-40c2-950e-16b4a3f75486",
   "metadata": {},
   "source": [
    "Analyzed the dataframe using the info function"
   ]
  },
  {
   "cell_type": "code",
   "execution_count": 150,
   "id": "3998493d-0909-4855-b7c3-0486496ff932",
   "metadata": {},
   "outputs": [
    {
     "name": "stdout",
     "output_type": "stream",
     "text": [
      "<class 'pandas.core.frame.DataFrame'>\n",
      "RangeIndex: 20 entries, 0 to 19\n",
      "Data columns (total 5 columns):\n",
      " #   Column   Non-Null Count  Dtype \n",
      "---  ------   --------------  ----- \n",
      " 0   Pos      20 non-null     object\n",
      " 1   Team     20 non-null     object\n",
      " 2   Matches  20 non-null     object\n",
      " 3   Points   20 non-null     object\n",
      " 4   Rating   20 non-null     object\n",
      "dtypes: object(5)\n",
      "memory usage: 928.0+ bytes\n"
     ]
    }
   ],
   "source": [
    "cricket_stats_odi_df.info()"
   ]
  },
  {
   "cell_type": "markdown",
   "id": "7e72ace2-48e4-48fe-91c0-03596668c398",
   "metadata": {},
   "source": [
    "On checking the data frame, we understand that the columns Matches, Points and Ratings are imported as string. Converted these variables as integer and float columns"
   ]
  },
  {
   "cell_type": "code",
   "execution_count": 151,
   "id": "3607010f-1d8f-4953-a76f-a0a0b2131898",
   "metadata": {},
   "outputs": [],
   "source": [
    "# data type conversion \n",
    "cricket_stats_odi_df['Matches']=  cricket_stats_odi_df['Matches'].astype(int)\n",
    "cricket_stats_odi_df['Rating'] = cricket_stats_odi_df['Rating'].astype(int)\n",
    "cricket_stats_odi_df['Points'] = cricket_stats_odi_df['Points'].astype(float)"
   ]
  },
  {
   "cell_type": "markdown",
   "id": "f1b2635f-282a-46b8-96cd-441ef3c81b80",
   "metadata": {},
   "source": [
    "While reading about web scrapping on cricket I learnt that python also has specific package like `espncricinfo` which can help us analyze many more statistics  related to cricket.Installed the package and imported require libraries to learn more about this library"
   ]
  },
  {
   "cell_type": "code",
   "execution_count": 152,
   "id": "69f5d515-509a-4692-9e44-7cb2c26ed35b",
   "metadata": {
    "tags": []
   },
   "outputs": [],
   "source": [
    "# pip install python-espncricinfo"
   ]
  },
  {
   "cell_type": "markdown",
   "id": "38df49e0-b35d-406d-bf24-46d6cc3e036b",
   "metadata": {},
   "source": [
    "imported summary and match library from the package"
   ]
  },
  {
   "cell_type": "code",
   "execution_count": 153,
   "id": "f593d1d2-74e3-4883-bbf6-821969cc3922",
   "metadata": {},
   "outputs": [],
   "source": [
    "from espncricinfo.summary import Summary\n",
    "from espncricinfo.match import Match"
   ]
  },
  {
   "cell_type": "code",
   "execution_count": 154,
   "id": "b02d13a9-dde3-402f-9b78-4e3166dd4719",
   "metadata": {},
   "outputs": [
    {
     "data": {
      "text/plain": [
       "'ICC World Test Championship, Final: India v New Zealand at Southampton, Jun 18-23, 2021'"
      ]
     },
     "execution_count": 154,
     "metadata": {},
     "output_type": "execute_result"
    }
   ],
   "source": [
    "Match('1249875').description"
   ]
  },
  {
   "cell_type": "markdown",
   "id": "8fb5c505-d8d7-4ec7-a906-8d2927c732c3",
   "metadata": {},
   "source": [
    "Using the espncricinfo library we can exhibit many more statics like individual player stats, team scores, specific match statistics."
   ]
  },
  {
   "cell_type": "markdown",
   "id": "9e82b289-9483-434b-ba15-686c247c42b5",
   "metadata": {},
   "source": [
    "Using Python we can also get the live scores of a match of our interest. For this example I am considering a live match score"
   ]
  },
  {
   "cell_type": "code",
   "execution_count": 155,
   "id": "6520702a-9f75-455b-ad91-1d28bc9b7793",
   "metadata": {},
   "outputs": [
    {
     "name": "stdout",
     "output_type": "stream",
     "text": [
      "\n",
      "\n",
      "WTC\n",
      "ICC World Test ChampionshipFinal\n",
      "\n",
      "\n",
      "Hampshire Bowl, Southampton, England\n",
      "\n",
      "\n",
      "    India 2nd Innings Complete\n",
      "\n",
      "New Zealand 2nd Innings to come next\n",
      "\n",
      "\n",
      "\n",
      "\n",
      "India -\n",
      "    \n",
      "            217 & 170\n",
      "    \n",
      "73 ov\n",
      "CRR: 2.32\n",
      "\n",
      "\n",
      "\n",
      "\n",
      "\n",
      "\n",
      "New Zealand -\n",
      "    \n",
      "            249\n"
     ]
    }
   ],
   "source": [
    "url1 = 'https://www.icc-cricket.com/match/23531#scorecard'\n",
    "   \n",
    "response1 = requests.get(url1).text\n",
    "soup_score = bs4.BeautifulSoup(response1)\n",
    "scorecard = soup_score.select('div.js-scorebox')\n",
    "\n",
    "for i in scorecard:\n",
    "    print(i.getText().rstrip())"
   ]
  },
  {
   "cell_type": "markdown",
   "id": "ed1ebfcf-47f1-40f3-a5b1-8ade673d65a2",
   "metadata": {},
   "source": [
    "Using the ratings data from data frame `cricket_stats_odi_df`, created some interactive data visualization  techniques. Used plotly and interactive widgets to understand a basic data trend."
   ]
  },
  {
   "cell_type": "code",
   "execution_count": 156,
   "id": "829e692f-fb4e-4011-8fae-039be864997d",
   "metadata": {},
   "outputs": [],
   "source": [
    "# imported required libraries\n",
    "import ipywidgets as widgets"
   ]
  },
  {
   "cell_type": "code",
   "execution_count": 157,
   "id": "1f7ee13d-156d-4bfb-9d5b-0a3f1be64289",
   "metadata": {},
   "outputs": [],
   "source": [
    "#creates a list which contains all the columns of the data frame cricket_stats_odi_df. Removed columns which will not be helpful in dropdown\n",
    "data_cols =cricket_stats_odi_df.columns.to_list()\n",
    "cols_removed = cricket_stats_odi_df.iloc[:,0:2]\n",
    "data_cols= [col for col in data_cols if col not in cols_removed]"
   ]
  },
  {
   "cell_type": "code",
   "execution_count": 158,
   "id": "ae7e0e9d-e99d-4a88-a609-838dd8edac99",
   "metadata": {},
   "outputs": [],
   "source": [
    "# created dropdown using column names \n",
    "pick_col = widgets.Dropdown(\n",
    "    options=data_cols,\n",
    "    description='Column',)"
   ]
  },
  {
   "cell_type": "raw",
   "id": "bbfd7e20-6d3c-4281-9061-d25bbb1cf117",
   "metadata": {},
   "source": [
    "Created a function to plot a bar chart of the team names Vs their performance parameter"
   ]
  },
  {
   "cell_type": "code",
   "execution_count": 165,
   "id": "76004039-bf8a-4a0d-8002-cc94631db613",
   "metadata": {},
   "outputs": [],
   "source": [
    "def create_bar(col):\n",
    "      \n",
    "    plt.barh(range(len(cricket_stats_odi_df[col])), cricket_stats_odi_df[col], color=\"brown\")\n",
    "    plt.yticks(range(len(cricket_stats_odi_df[col])), cricket_stats_odi_df['Team'])\n",
    "    plt.title(\"Team Rankings\");"
   ]
  },
  {
   "cell_type": "code",
   "execution_count": 166,
   "id": "125557c1-6c01-4eb9-aac6-aa2bcb9de3e1",
   "metadata": {},
   "outputs": [
    {
     "data": {
      "application/vnd.jupyter.widget-view+json": {
       "model_id": "7e99cb76d59a486a87969094a69bfc5b",
       "version_major": 2,
       "version_minor": 0
      },
      "text/plain": [
       "interactive(children=(Dropdown(description='Column', options=('Matches', 'Points', 'Rating'), value='Matches')…"
      ]
     },
     "metadata": {},
     "output_type": "display_data"
    }
   ],
   "source": [
    "widgets.interact(create_bar, col = pick_col, Title = \"Team Rankings by {}\".format(pick_col));"
   ]
  },
  {
   "cell_type": "markdown",
   "id": "9e331692-923b-41ce-8d2b-68cfdf2c4c6a",
   "metadata": {},
   "source": [
    "### Plotly\n",
    "\n",
    "Used plotly library to create interactive plots with cricket ratings data"
   ]
  },
  {
   "cell_type": "code",
   "execution_count": 167,
   "id": "d3b1d938-9169-44e8-bcfb-5e8d0a7e60c7",
   "metadata": {},
   "outputs": [],
   "source": [
    "#  imported required librarie\n",
    "import plotly.express as px\n",
    "import plotly.graph_objects as go\n",
    "import chart_studio.plotly as py"
   ]
  },
  {
   "cell_type": "markdown",
   "id": "f67c4929-8efb-4dc7-b56c-827ea7857aa4",
   "metadata": {},
   "source": [
    "Created a scatter plot to understand the relation between the number of matches played by a team to the points scored"
   ]
  },
  {
   "cell_type": "code",
   "execution_count": 168,
   "id": "7ec7510d-7dc2-4deb-b2b0-2f2467a4b135",
   "metadata": {},
   "outputs": [
    {
     "data": {
      "application/vnd.plotly.v1+json": {
       "config": {
        "plotlyServerURL": "https://plot.ly"
       },
       "data": [
        {
         "hovertemplate": "Matches=%{x}<br>Points=%{y}<extra></extra>",
         "legendgroup": "",
         "marker": {
          "color": "#636efa",
          "symbol": "circle"
         },
         "mode": "markers",
         "name": "",
         "orientation": "v",
         "showlegend": false,
         "type": "scatter",
         "x": [
          17,
          25,
          29,
          27,
          20,
          24,
          27,
          27,
          24,
          17,
          7,
          21,
          15,
          7,
          7,
          5,
          9,
          6,
          8,
          5
         ],
         "xaxis": "x",
         "y": [
          2054,
          2945,
          3344,
          3100,
          2137,
          2323,
          2438,
          2222,
          1876,
          1054,
          336,
          897,
          588,
          258,
          240,
          119,
          190,
          97,
          93,
          0
         ],
         "yaxis": "y"
        }
       ],
       "layout": {
        "autosize": true,
        "legend": {
         "tracegroupgap": 0
        },
        "margin": {
         "t": 60
        },
        "template": {
         "data": {
          "bar": [
           {
            "error_x": {
             "color": "#2a3f5f"
            },
            "error_y": {
             "color": "#2a3f5f"
            },
            "marker": {
             "line": {
              "color": "#E5ECF6",
              "width": 0.5
             },
             "pattern": {
              "fillmode": "overlay",
              "size": 10,
              "solidity": 0.2
             }
            },
            "type": "bar"
           }
          ],
          "barpolar": [
           {
            "marker": {
             "line": {
              "color": "#E5ECF6",
              "width": 0.5
             },
             "pattern": {
              "fillmode": "overlay",
              "size": 10,
              "solidity": 0.2
             }
            },
            "type": "barpolar"
           }
          ],
          "carpet": [
           {
            "aaxis": {
             "endlinecolor": "#2a3f5f",
             "gridcolor": "white",
             "linecolor": "white",
             "minorgridcolor": "white",
             "startlinecolor": "#2a3f5f"
            },
            "baxis": {
             "endlinecolor": "#2a3f5f",
             "gridcolor": "white",
             "linecolor": "white",
             "minorgridcolor": "white",
             "startlinecolor": "#2a3f5f"
            },
            "type": "carpet"
           }
          ],
          "choropleth": [
           {
            "colorbar": {
             "outlinewidth": 0,
             "ticks": ""
            },
            "type": "choropleth"
           }
          ],
          "contour": [
           {
            "colorbar": {
             "outlinewidth": 0,
             "ticks": ""
            },
            "colorscale": [
             [
              0,
              "#0d0887"
             ],
             [
              0.1111111111111111,
              "#46039f"
             ],
             [
              0.2222222222222222,
              "#7201a8"
             ],
             [
              0.3333333333333333,
              "#9c179e"
             ],
             [
              0.4444444444444444,
              "#bd3786"
             ],
             [
              0.5555555555555556,
              "#d8576b"
             ],
             [
              0.6666666666666666,
              "#ed7953"
             ],
             [
              0.7777777777777778,
              "#fb9f3a"
             ],
             [
              0.8888888888888888,
              "#fdca26"
             ],
             [
              1,
              "#f0f921"
             ]
            ],
            "type": "contour"
           }
          ],
          "contourcarpet": [
           {
            "colorbar": {
             "outlinewidth": 0,
             "ticks": ""
            },
            "type": "contourcarpet"
           }
          ],
          "heatmap": [
           {
            "colorbar": {
             "outlinewidth": 0,
             "ticks": ""
            },
            "colorscale": [
             [
              0,
              "#0d0887"
             ],
             [
              0.1111111111111111,
              "#46039f"
             ],
             [
              0.2222222222222222,
              "#7201a8"
             ],
             [
              0.3333333333333333,
              "#9c179e"
             ],
             [
              0.4444444444444444,
              "#bd3786"
             ],
             [
              0.5555555555555556,
              "#d8576b"
             ],
             [
              0.6666666666666666,
              "#ed7953"
             ],
             [
              0.7777777777777778,
              "#fb9f3a"
             ],
             [
              0.8888888888888888,
              "#fdca26"
             ],
             [
              1,
              "#f0f921"
             ]
            ],
            "type": "heatmap"
           }
          ],
          "heatmapgl": [
           {
            "colorbar": {
             "outlinewidth": 0,
             "ticks": ""
            },
            "colorscale": [
             [
              0,
              "#0d0887"
             ],
             [
              0.1111111111111111,
              "#46039f"
             ],
             [
              0.2222222222222222,
              "#7201a8"
             ],
             [
              0.3333333333333333,
              "#9c179e"
             ],
             [
              0.4444444444444444,
              "#bd3786"
             ],
             [
              0.5555555555555556,
              "#d8576b"
             ],
             [
              0.6666666666666666,
              "#ed7953"
             ],
             [
              0.7777777777777778,
              "#fb9f3a"
             ],
             [
              0.8888888888888888,
              "#fdca26"
             ],
             [
              1,
              "#f0f921"
             ]
            ],
            "type": "heatmapgl"
           }
          ],
          "histogram": [
           {
            "marker": {
             "pattern": {
              "fillmode": "overlay",
              "size": 10,
              "solidity": 0.2
             }
            },
            "type": "histogram"
           }
          ],
          "histogram2d": [
           {
            "colorbar": {
             "outlinewidth": 0,
             "ticks": ""
            },
            "colorscale": [
             [
              0,
              "#0d0887"
             ],
             [
              0.1111111111111111,
              "#46039f"
             ],
             [
              0.2222222222222222,
              "#7201a8"
             ],
             [
              0.3333333333333333,
              "#9c179e"
             ],
             [
              0.4444444444444444,
              "#bd3786"
             ],
             [
              0.5555555555555556,
              "#d8576b"
             ],
             [
              0.6666666666666666,
              "#ed7953"
             ],
             [
              0.7777777777777778,
              "#fb9f3a"
             ],
             [
              0.8888888888888888,
              "#fdca26"
             ],
             [
              1,
              "#f0f921"
             ]
            ],
            "type": "histogram2d"
           }
          ],
          "histogram2dcontour": [
           {
            "colorbar": {
             "outlinewidth": 0,
             "ticks": ""
            },
            "colorscale": [
             [
              0,
              "#0d0887"
             ],
             [
              0.1111111111111111,
              "#46039f"
             ],
             [
              0.2222222222222222,
              "#7201a8"
             ],
             [
              0.3333333333333333,
              "#9c179e"
             ],
             [
              0.4444444444444444,
              "#bd3786"
             ],
             [
              0.5555555555555556,
              "#d8576b"
             ],
             [
              0.6666666666666666,
              "#ed7953"
             ],
             [
              0.7777777777777778,
              "#fb9f3a"
             ],
             [
              0.8888888888888888,
              "#fdca26"
             ],
             [
              1,
              "#f0f921"
             ]
            ],
            "type": "histogram2dcontour"
           }
          ],
          "mesh3d": [
           {
            "colorbar": {
             "outlinewidth": 0,
             "ticks": ""
            },
            "type": "mesh3d"
           }
          ],
          "parcoords": [
           {
            "line": {
             "colorbar": {
              "outlinewidth": 0,
              "ticks": ""
             }
            },
            "type": "parcoords"
           }
          ],
          "pie": [
           {
            "automargin": true,
            "type": "pie"
           }
          ],
          "scatter": [
           {
            "marker": {
             "colorbar": {
              "outlinewidth": 0,
              "ticks": ""
             }
            },
            "type": "scatter"
           }
          ],
          "scatter3d": [
           {
            "line": {
             "colorbar": {
              "outlinewidth": 0,
              "ticks": ""
             }
            },
            "marker": {
             "colorbar": {
              "outlinewidth": 0,
              "ticks": ""
             }
            },
            "type": "scatter3d"
           }
          ],
          "scattercarpet": [
           {
            "marker": {
             "colorbar": {
              "outlinewidth": 0,
              "ticks": ""
             }
            },
            "type": "scattercarpet"
           }
          ],
          "scattergeo": [
           {
            "marker": {
             "colorbar": {
              "outlinewidth": 0,
              "ticks": ""
             }
            },
            "type": "scattergeo"
           }
          ],
          "scattergl": [
           {
            "marker": {
             "colorbar": {
              "outlinewidth": 0,
              "ticks": ""
             }
            },
            "type": "scattergl"
           }
          ],
          "scattermapbox": [
           {
            "marker": {
             "colorbar": {
              "outlinewidth": 0,
              "ticks": ""
             }
            },
            "type": "scattermapbox"
           }
          ],
          "scatterpolar": [
           {
            "marker": {
             "colorbar": {
              "outlinewidth": 0,
              "ticks": ""
             }
            },
            "type": "scatterpolar"
           }
          ],
          "scatterpolargl": [
           {
            "marker": {
             "colorbar": {
              "outlinewidth": 0,
              "ticks": ""
             }
            },
            "type": "scatterpolargl"
           }
          ],
          "scatterternary": [
           {
            "marker": {
             "colorbar": {
              "outlinewidth": 0,
              "ticks": ""
             }
            },
            "type": "scatterternary"
           }
          ],
          "surface": [
           {
            "colorbar": {
             "outlinewidth": 0,
             "ticks": ""
            },
            "colorscale": [
             [
              0,
              "#0d0887"
             ],
             [
              0.1111111111111111,
              "#46039f"
             ],
             [
              0.2222222222222222,
              "#7201a8"
             ],
             [
              0.3333333333333333,
              "#9c179e"
             ],
             [
              0.4444444444444444,
              "#bd3786"
             ],
             [
              0.5555555555555556,
              "#d8576b"
             ],
             [
              0.6666666666666666,
              "#ed7953"
             ],
             [
              0.7777777777777778,
              "#fb9f3a"
             ],
             [
              0.8888888888888888,
              "#fdca26"
             ],
             [
              1,
              "#f0f921"
             ]
            ],
            "type": "surface"
           }
          ],
          "table": [
           {
            "cells": {
             "fill": {
              "color": "#EBF0F8"
             },
             "line": {
              "color": "white"
             }
            },
            "header": {
             "fill": {
              "color": "#C8D4E3"
             },
             "line": {
              "color": "white"
             }
            },
            "type": "table"
           }
          ]
         },
         "layout": {
          "annotationdefaults": {
           "arrowcolor": "#2a3f5f",
           "arrowhead": 0,
           "arrowwidth": 1
          },
          "autotypenumbers": "strict",
          "coloraxis": {
           "colorbar": {
            "outlinewidth": 0,
            "ticks": ""
           }
          },
          "colorscale": {
           "diverging": [
            [
             0,
             "#8e0152"
            ],
            [
             0.1,
             "#c51b7d"
            ],
            [
             0.2,
             "#de77ae"
            ],
            [
             0.3,
             "#f1b6da"
            ],
            [
             0.4,
             "#fde0ef"
            ],
            [
             0.5,
             "#f7f7f7"
            ],
            [
             0.6,
             "#e6f5d0"
            ],
            [
             0.7,
             "#b8e186"
            ],
            [
             0.8,
             "#7fbc41"
            ],
            [
             0.9,
             "#4d9221"
            ],
            [
             1,
             "#276419"
            ]
           ],
           "sequential": [
            [
             0,
             "#0d0887"
            ],
            [
             0.1111111111111111,
             "#46039f"
            ],
            [
             0.2222222222222222,
             "#7201a8"
            ],
            [
             0.3333333333333333,
             "#9c179e"
            ],
            [
             0.4444444444444444,
             "#bd3786"
            ],
            [
             0.5555555555555556,
             "#d8576b"
            ],
            [
             0.6666666666666666,
             "#ed7953"
            ],
            [
             0.7777777777777778,
             "#fb9f3a"
            ],
            [
             0.8888888888888888,
             "#fdca26"
            ],
            [
             1,
             "#f0f921"
            ]
           ],
           "sequentialminus": [
            [
             0,
             "#0d0887"
            ],
            [
             0.1111111111111111,
             "#46039f"
            ],
            [
             0.2222222222222222,
             "#7201a8"
            ],
            [
             0.3333333333333333,
             "#9c179e"
            ],
            [
             0.4444444444444444,
             "#bd3786"
            ],
            [
             0.5555555555555556,
             "#d8576b"
            ],
            [
             0.6666666666666666,
             "#ed7953"
            ],
            [
             0.7777777777777778,
             "#fb9f3a"
            ],
            [
             0.8888888888888888,
             "#fdca26"
            ],
            [
             1,
             "#f0f921"
            ]
           ]
          },
          "colorway": [
           "#636efa",
           "#EF553B",
           "#00cc96",
           "#ab63fa",
           "#FFA15A",
           "#19d3f3",
           "#FF6692",
           "#B6E880",
           "#FF97FF",
           "#FECB52"
          ],
          "font": {
           "color": "#2a3f5f"
          },
          "geo": {
           "bgcolor": "white",
           "lakecolor": "white",
           "landcolor": "#E5ECF6",
           "showlakes": true,
           "showland": true,
           "subunitcolor": "white"
          },
          "hoverlabel": {
           "align": "left"
          },
          "hovermode": "closest",
          "mapbox": {
           "style": "light"
          },
          "paper_bgcolor": "white",
          "plot_bgcolor": "#E5ECF6",
          "polar": {
           "angularaxis": {
            "gridcolor": "white",
            "linecolor": "white",
            "ticks": ""
           },
           "bgcolor": "#E5ECF6",
           "radialaxis": {
            "gridcolor": "white",
            "linecolor": "white",
            "ticks": ""
           }
          },
          "scene": {
           "xaxis": {
            "backgroundcolor": "#E5ECF6",
            "gridcolor": "white",
            "gridwidth": 2,
            "linecolor": "white",
            "showbackground": true,
            "ticks": "",
            "zerolinecolor": "white"
           },
           "yaxis": {
            "backgroundcolor": "#E5ECF6",
            "gridcolor": "white",
            "gridwidth": 2,
            "linecolor": "white",
            "showbackground": true,
            "ticks": "",
            "zerolinecolor": "white"
           },
           "zaxis": {
            "backgroundcolor": "#E5ECF6",
            "gridcolor": "white",
            "gridwidth": 2,
            "linecolor": "white",
            "showbackground": true,
            "ticks": "",
            "zerolinecolor": "white"
           }
          },
          "shapedefaults": {
           "line": {
            "color": "#2a3f5f"
           }
          },
          "ternary": {
           "aaxis": {
            "gridcolor": "white",
            "linecolor": "white",
            "ticks": ""
           },
           "baxis": {
            "gridcolor": "white",
            "linecolor": "white",
            "ticks": ""
           },
           "bgcolor": "#E5ECF6",
           "caxis": {
            "gridcolor": "white",
            "linecolor": "white",
            "ticks": ""
           }
          },
          "title": {
           "x": 0.05
          },
          "xaxis": {
           "automargin": true,
           "gridcolor": "white",
           "linecolor": "white",
           "ticks": "",
           "title": {
            "standoff": 15
           },
           "zerolinecolor": "white",
           "zerolinewidth": 2
          },
          "yaxis": {
           "automargin": true,
           "gridcolor": "white",
           "linecolor": "white",
           "ticks": "",
           "title": {
            "standoff": 15
           },
           "zerolinecolor": "white",
           "zerolinewidth": 2
          }
         }
        },
        "xaxis": {
         "anchor": "y",
         "autorange": true,
         "domain": [
          0,
          1
         ],
         "range": [
          3.601752677702045,
          30.398247322297955
         ],
         "title": {
          "text": "Matches"
         },
         "type": "linear"
        },
        "yaxis": {
         "anchor": "x",
         "autorange": true,
         "domain": [
          0,
          1
         ],
         "range": [
          -258.91863517060364,
          3602.9186351706035
         ],
         "title": {
          "text": "Points"
         },
         "type": "linear"
        }
       }
      },
      "image/png": "[encoded data removed]",
      "text/html": [
       "<div>                            <div id=\"b3d5b6e9-2114-41c7-8c1e-54a0e1d2a99e\" class=\"plotly-graph-div\" style=\"height:525px; width:100%;\"></div>            <script type=\"text/javascript\">                require([\"plotly\"], function(Plotly) {                    window.PLOTLYENV=window.PLOTLYENV || {};                                    if (document.getElementById(\"b3d5b6e9-2114-41c7-8c1e-54a0e1d2a99e\")) {                    Plotly.newPlot(                        \"b3d5b6e9-2114-41c7-8c1e-54a0e1d2a99e\",                        [{\"hovertemplate\":\"Matches=%{x}<br>Points=%{y}<extra></extra>\",\"legendgroup\":\"\",\"marker\":{\"color\":\"#636efa\",\"symbol\":\"circle\"},\"mode\":\"markers\",\"name\":\"\",\"orientation\":\"v\",\"showlegend\":false,\"type\":\"scatter\",\"x\":[17,25,29,27,20,24,27,27,24,17,7,21,15,7,7,5,9,6,8,5],\"xaxis\":\"x\",\"y\":[2054.0,2945.0,3344.0,3100.0,2137.0,2323.0,2438.0,2222.0,1876.0,1054.0,336.0,897.0,588.0,258.0,240.0,119.0,190.0,97.0,93.0,0.0],\"yaxis\":\"y\"}],                        {\"legend\":{\"tracegroupgap\":0},\"margin\":{\"t\":60},\"template\":{\"data\":{\"bar\":[{\"error_x\":{\"color\":\"#2a3f5f\"},\"error_y\":{\"color\":\"#2a3f5f\"},\"marker\":{\"line\":{\"color\":\"#E5ECF6\",\"width\":0.5},\"pattern\":{\"fillmode\":\"overlay\",\"size\":10,\"solidity\":0.2}},\"type\":\"bar\"}],\"barpolar\":[{\"marker\":{\"line\":{\"color\":\"#E5ECF6\",\"width\":0.5},\"pattern\":{\"fillmode\":\"overlay\",\"size\":10,\"solidity\":0.2}},\"type\":\"barpolar\"}],\"carpet\":[{\"aaxis\":{\"endlinecolor\":\"#2a3f5f\",\"gridcolor\":\"white\",\"linecolor\":\"white\",\"minorgridcolor\":\"white\",\"startlinecolor\":\"#2a3f5f\"},\"baxis\":{\"endlinecolor\":\"#2a3f5f\",\"gridcolor\":\"white\",\"linecolor\":\"white\",\"minorgridcolor\":\"white\",\"startlinecolor\":\"#2a3f5f\"},\"type\":\"carpet\"}],\"choropleth\":[{\"colorbar\":{\"outlinewidth\":0,\"ticks\":\"\"},\"type\":\"choropleth\"}],\"contour\":[{\"colorbar\":{\"outlinewidth\":0,\"ticks\":\"\"},\"colorscale\":[[0.0,\"#0d0887\"],[0.1111111111111111,\"#46039f\"],[0.2222222222222222,\"#7201a8\"],[0.3333333333333333,\"#9c179e\"],[0.4444444444444444,\"#bd3786\"],[0.5555555555555556,\"#d8576b\"],[0.6666666666666666,\"#ed7953\"],[0.7777777777777778,\"#fb9f3a\"],[0.8888888888888888,\"#fdca26\"],[1.0,\"#f0f921\"]],\"type\":\"contour\"}],\"contourcarpet\":[{\"colorbar\":{\"outlinewidth\":0,\"ticks\":\"\"},\"type\":\"contourcarpet\"}],\"heatmap\":[{\"colorbar\":{\"outlinewidth\":0,\"ticks\":\"\"},\"colorscale\":[[0.0,\"#0d0887\"],[0.1111111111111111,\"#46039f\"],[0.2222222222222222,\"#7201a8\"],[0.3333333333333333,\"#9c179e\"],[0.4444444444444444,\"#bd3786\"],[0.5555555555555556,\"#d8576b\"],[0.6666666666666666,\"#ed7953\"],[0.7777777777777778,\"#fb9f3a\"],[0.8888888888888888,\"#fdca26\"],[1.0,\"#f0f921\"]],\"type\":\"heatmap\"}],\"heatmapgl\":[{\"colorbar\":{\"outlinewidth\":0,\"ticks\":\"\"},\"colorscale\":[[0.0,\"#0d0887\"],[0.1111111111111111,\"#46039f\"],[0.2222222222222222,\"#7201a8\"],[0.3333333333333333,\"#9c179e\"],[0.4444444444444444,\"#bd3786\"],[0.5555555555555556,\"#d8576b\"],[0.6666666666666666,\"#ed7953\"],[0.7777777777777778,\"#fb9f3a\"],[0.8888888888888888,\"#fdca26\"],[1.0,\"#f0f921\"]],\"type\":\"heatmapgl\"}],\"histogram\":[{\"marker\":{\"pattern\":{\"fillmode\":\"overlay\",\"size\":10,\"solidity\":0.2}},\"type\":\"histogram\"}],\"histogram2d\":[{\"colorbar\":{\"outlinewidth\":0,\"ticks\":\"\"},\"colorscale\":[[0.0,\"#0d0887\"],[0.1111111111111111,\"#46039f\"],[0.2222222222222222,\"#7201a8\"],[0.3333333333333333,\"#9c179e\"],[0.4444444444444444,\"#bd3786\"],[0.5555555555555556,\"#d8576b\"],[0.6666666666666666,\"#ed7953\"],[0.7777777777777778,\"#fb9f3a\"],[0.8888888888888888,\"#fdca26\"],[1.0,\"#f0f921\"]],\"type\":\"histogram2d\"}],\"histogram2dcontour\":[{\"colorbar\":{\"outlinewidth\":0,\"ticks\":\"\"},\"colorscale\":[[0.0,\"#0d0887\"],[0.1111111111111111,\"#46039f\"],[0.2222222222222222,\"#7201a8\"],[0.3333333333333333,\"#9c179e\"],[0.4444444444444444,\"#bd3786\"],[0.5555555555555556,\"#d8576b\"],[0.6666666666666666,\"#ed7953\"],[0.7777777777777778,\"#fb9f3a\"],[0.8888888888888888,\"#fdca26\"],[1.0,\"#f0f921\"]],\"type\":\"histogram2dcontour\"}],\"mesh3d\":[{\"colorbar\":{\"outlinewidth\":0,\"ticks\":\"\"},\"type\":\"mesh3d\"}],\"parcoords\":[{\"line\":{\"colorbar\":{\"outlinewidth\":0,\"ticks\":\"\"}},\"type\":\"parcoords\"}],\"pie\":[{\"automargin\":true,\"type\":\"pie\"}],\"scatter\":[{\"marker\":{\"colorbar\":{\"outlinewidth\":0,\"ticks\":\"\"}},\"type\":\"scatter\"}],\"scatter3d\":[{\"line\":{\"colorbar\":{\"outlinewidth\":0,\"ticks\":\"\"}},\"marker\":{\"colorbar\":{\"outlinewidth\":0,\"ticks\":\"\"}},\"type\":\"scatter3d\"}],\"scattercarpet\":[{\"marker\":{\"colorbar\":{\"outlinewidth\":0,\"ticks\":\"\"}},\"type\":\"scattercarpet\"}],\"scattergeo\":[{\"marker\":{\"colorbar\":{\"outlinewidth\":0,\"ticks\":\"\"}},\"type\":\"scattergeo\"}],\"scattergl\":[{\"marker\":{\"colorbar\":{\"outlinewidth\":0,\"ticks\":\"\"}},\"type\":\"scattergl\"}],\"scattermapbox\":[{\"marker\":{\"colorbar\":{\"outlinewidth\":0,\"ticks\":\"\"}},\"type\":\"scattermapbox\"}],\"scatterpolar\":[{\"marker\":{\"colorbar\":{\"outlinewidth\":0,\"ticks\":\"\"}},\"type\":\"scatterpolar\"}],\"scatterpolargl\":[{\"marker\":{\"colorbar\":{\"outlinewidth\":0,\"ticks\":\"\"}},\"type\":\"scatterpolargl\"}],\"scatterternary\":[{\"marker\":{\"colorbar\":{\"outlinewidth\":0,\"ticks\":\"\"}},\"type\":\"scatterternary\"}],\"surface\":[{\"colorbar\":{\"outlinewidth\":0,\"ticks\":\"\"},\"colorscale\":[[0.0,\"#0d0887\"],[0.1111111111111111,\"#46039f\"],[0.2222222222222222,\"#7201a8\"],[0.3333333333333333,\"#9c179e\"],[0.4444444444444444,\"#bd3786\"],[0.5555555555555556,\"#d8576b\"],[0.6666666666666666,\"#ed7953\"],[0.7777777777777778,\"#fb9f3a\"],[0.8888888888888888,\"#fdca26\"],[1.0,\"#f0f921\"]],\"type\":\"surface\"}],\"table\":[{\"cells\":{\"fill\":{\"color\":\"#EBF0F8\"},\"line\":{\"color\":\"white\"}},\"header\":{\"fill\":{\"color\":\"#C8D4E3\"},\"line\":{\"color\":\"white\"}},\"type\":\"table\"}]},\"layout\":{\"annotationdefaults\":{\"arrowcolor\":\"#2a3f5f\",\"arrowhead\":0,\"arrowwidth\":1},\"autotypenumbers\":\"strict\",\"coloraxis\":{\"colorbar\":{\"outlinewidth\":0,\"ticks\":\"\"}},\"colorscale\":{\"diverging\":[[0,\"#8e0152\"],[0.1,\"#c51b7d\"],[0.2,\"#de77ae\"],[0.3,\"#f1b6da\"],[0.4,\"#fde0ef\"],[0.5,\"#f7f7f7\"],[0.6,\"#e6f5d0\"],[0.7,\"#b8e186\"],[0.8,\"#7fbc41\"],[0.9,\"#4d9221\"],[1,\"#276419\"]],\"sequential\":[[0.0,\"#0d0887\"],[0.1111111111111111,\"#46039f\"],[0.2222222222222222,\"#7201a8\"],[0.3333333333333333,\"#9c179e\"],[0.4444444444444444,\"#bd3786\"],[0.5555555555555556,\"#d8576b\"],[0.6666666666666666,\"#ed7953\"],[0.7777777777777778,\"#fb9f3a\"],[0.8888888888888888,\"#fdca26\"],[1.0,\"#f0f921\"]],\"sequentialminus\":[[0.0,\"#0d0887\"],[0.1111111111111111,\"#46039f\"],[0.2222222222222222,\"#7201a8\"],[0.3333333333333333,\"#9c179e\"],[0.4444444444444444,\"#bd3786\"],[0.5555555555555556,\"#d8576b\"],[0.6666666666666666,\"#ed7953\"],[0.7777777777777778,\"#fb9f3a\"],[0.8888888888888888,\"#fdca26\"],[1.0,\"#f0f921\"]]},\"colorway\":[\"#636efa\",\"#EF553B\",\"#00cc96\",\"#ab63fa\",\"#FFA15A\",\"#19d3f3\",\"#FF6692\",\"#B6E880\",\"#FF97FF\",\"#FECB52\"],\"font\":{\"color\":\"#2a3f5f\"},\"geo\":{\"bgcolor\":\"white\",\"lakecolor\":\"white\",\"landcolor\":\"#E5ECF6\",\"showlakes\":true,\"showland\":true,\"subunitcolor\":\"white\"},\"hoverlabel\":{\"align\":\"left\"},\"hovermode\":\"closest\",\"mapbox\":{\"style\":\"light\"},\"paper_bgcolor\":\"white\",\"plot_bgcolor\":\"#E5ECF6\",\"polar\":{\"angularaxis\":{\"gridcolor\":\"white\",\"linecolor\":\"white\",\"ticks\":\"\"},\"bgcolor\":\"#E5ECF6\",\"radialaxis\":{\"gridcolor\":\"white\",\"linecolor\":\"white\",\"ticks\":\"\"}},\"scene\":{\"xaxis\":{\"backgroundcolor\":\"#E5ECF6\",\"gridcolor\":\"white\",\"gridwidth\":2,\"linecolor\":\"white\",\"showbackground\":true,\"ticks\":\"\",\"zerolinecolor\":\"white\"},\"yaxis\":{\"backgroundcolor\":\"#E5ECF6\",\"gridcolor\":\"white\",\"gridwidth\":2,\"linecolor\":\"white\",\"showbackground\":true,\"ticks\":\"\",\"zerolinecolor\":\"white\"},\"zaxis\":{\"backgroundcolor\":\"#E5ECF6\",\"gridcolor\":\"white\",\"gridwidth\":2,\"linecolor\":\"white\",\"showbackground\":true,\"ticks\":\"\",\"zerolinecolor\":\"white\"}},\"shapedefaults\":{\"line\":{\"color\":\"#2a3f5f\"}},\"ternary\":{\"aaxis\":{\"gridcolor\":\"white\",\"linecolor\":\"white\",\"ticks\":\"\"},\"baxis\":{\"gridcolor\":\"white\",\"linecolor\":\"white\",\"ticks\":\"\"},\"bgcolor\":\"#E5ECF6\",\"caxis\":{\"gridcolor\":\"white\",\"linecolor\":\"white\",\"ticks\":\"\"}},\"title\":{\"x\":0.05},\"xaxis\":{\"automargin\":true,\"gridcolor\":\"white\",\"linecolor\":\"white\",\"ticks\":\"\",\"title\":{\"standoff\":15},\"zerolinecolor\":\"white\",\"zerolinewidth\":2},\"yaxis\":{\"automargin\":true,\"gridcolor\":\"white\",\"linecolor\":\"white\",\"ticks\":\"\",\"title\":{\"standoff\":15},\"zerolinecolor\":\"white\",\"zerolinewidth\":2}}},\"xaxis\":{\"anchor\":\"y\",\"domain\":[0.0,1.0],\"title\":{\"text\":\"Matches\"}},\"yaxis\":{\"anchor\":\"x\",\"domain\":[0.0,1.0],\"title\":{\"text\":\"Points\"}}},                        {\"responsive\": true}                    ).then(function(){\n",
       "                            \n",
       "var gd = document.getElementById('b3d5b6e9-2114-41c7-8c1e-54a0e1d2a99e');\n",
       "var x = new MutationObserver(function (mutations, observer) {{\n",
       "        var display = window.getComputedStyle(gd).display;\n",
       "        if (!display || display === 'none') {{\n",
       "            console.log([gd, 'removed!']);\n",
       "            Plotly.purge(gd);\n",
       "            observer.disconnect();\n",
       "        }}\n",
       "}});\n",
       "\n",
       "// Listen for the removal of the full notebook cells\n",
       "var notebookContainer = gd.closest('#notebook-container');\n",
       "if (notebookContainer) {{\n",
       "    x.observe(notebookContainer, {childList: true});\n",
       "}}\n",
       "\n",
       "// Listen for the clearing of the current output cell\n",
       "var outputEl = gd.closest('.output');\n",
       "if (outputEl) {{\n",
       "    x.observe(outputEl, {childList: true});\n",
       "}}\n",
       "\n",
       "                        })                };                });            </script>        </div>"
      ]
     },
     "metadata": {},
     "output_type": "display_data"
    }
   ],
   "source": [
    "px.scatter( cricket_stats_odi_df , x=\"Matches\", y=\"Points\")"
   ]
  },
  {
   "cell_type": "markdown",
   "id": "aac3616a-12dc-4792-bf9a-277fb01b7870",
   "metadata": {},
   "source": [
    "From the graph above we can say that the more number of matches played by a team, more are the points acquired. The relation between the two varibales is not linear but we can see an increasing pattern of points with increase in number of matches played"
   ]
  },
  {
   "cell_type": "markdown",
   "id": "57ae720e-47ab-4d84-9489-8f9ddbb6784a",
   "metadata": {},
   "source": [
    "Plotted soeme bar charts to analyse the perfoermance of the teams"
   ]
  },
  {
   "cell_type": "code",
   "execution_count": 169,
   "id": "86bc1240-c2a0-485e-a0d2-04f621a6839d",
   "metadata": {},
   "outputs": [
    {
     "data": {
      "application/vnd.plotly.v1+json": {
       "config": {
        "plotlyServerURL": "https://plot.ly"
       },
       "data": [
        {
         "alignmentgroup": "True",
         "customdata": [
          [
           2054
          ],
          [
           2945
          ],
          [
           3344
          ],
          [
           3100
          ],
          [
           2137
          ],
          [
           2323
          ],
          [
           2438
          ],
          [
           2222
          ],
          [
           1876
          ],
          [
           1054
          ],
          [
           336
          ],
          [
           897
          ],
          [
           588
          ],
          [
           258
          ],
          [
           240
          ],
          [
           119
          ],
          [
           190
          ],
          [
           97
          ],
          [
           93
          ],
          [
           0
          ]
         ],
         "hovertemplate": "Team=%{x}<br>Rating=%{y}<br>Points=%{customdata[0]}<extra></extra>",
         "legendgroup": "",
         "marker": {
          "color": "#636efa",
          "pattern": {
           "shape": ""
          }
         },
         "name": "",
         "offsetgroup": "",
         "orientation": "v",
         "showlegend": false,
         "textposition": "auto",
         "type": "bar",
         "x": [
          "New Zealand",
          "Australia",
          "India",
          "England",
          "South Africa",
          "Pakistan",
          "Bangladesh",
          "West Indies",
          "Sri Lanka",
          "Afghanistan",
          "Netherlands",
          "Ireland",
          "Zimbabwe",
          "Scotland",
          "Oman",
          "Nepal",
          "UAE",
          "Namibia",
          "United States",
          "Papua New Guinea"
         ],
         "xaxis": "x",
         "y": [
          121,
          118,
          115,
          115,
          107,
          97,
          90,
          82,
          78,
          62,
          48,
          43,
          39,
          37,
          34,
          24,
          21,
          16,
          12,
          0
         ],
         "yaxis": "y"
        }
       ],
       "layout": {
        "autosize": true,
        "barmode": "relative",
        "legend": {
         "tracegroupgap": 0
        },
        "template": {
         "data": {
          "bar": [
           {
            "error_x": {
             "color": "#2a3f5f"
            },
            "error_y": {
             "color": "#2a3f5f"
            },
            "marker": {
             "line": {
              "color": "#E5ECF6",
              "width": 0.5
             },
             "pattern": {
              "fillmode": "overlay",
              "size": 10,
              "solidity": 0.2
             }
            },
            "type": "bar"
           }
          ],
          "barpolar": [
           {
            "marker": {
             "line": {
              "color": "#E5ECF6",
              "width": 0.5
             },
             "pattern": {
              "fillmode": "overlay",
              "size": 10,
              "solidity": 0.2
             }
            },
            "type": "barpolar"
           }
          ],
          "carpet": [
           {
            "aaxis": {
             "endlinecolor": "#2a3f5f",
             "gridcolor": "white",
             "linecolor": "white",
             "minorgridcolor": "white",
             "startlinecolor": "#2a3f5f"
            },
            "baxis": {
             "endlinecolor": "#2a3f5f",
             "gridcolor": "white",
             "linecolor": "white",
             "minorgridcolor": "white",
             "startlinecolor": "#2a3f5f"
            },
            "type": "carpet"
           }
          ],
          "choropleth": [
           {
            "colorbar": {
             "outlinewidth": 0,
             "ticks": ""
            },
            "type": "choropleth"
           }
          ],
          "contour": [
           {
            "colorbar": {
             "outlinewidth": 0,
             "ticks": ""
            },
            "colorscale": [
             [
              0,
              "#0d0887"
             ],
             [
              0.1111111111111111,
              "#46039f"
             ],
             [
              0.2222222222222222,
              "#7201a8"
             ],
             [
              0.3333333333333333,
              "#9c179e"
             ],
             [
              0.4444444444444444,
              "#bd3786"
             ],
             [
              0.5555555555555556,
              "#d8576b"
             ],
             [
              0.6666666666666666,
              "#ed7953"
             ],
             [
              0.7777777777777778,
              "#fb9f3a"
             ],
             [
              0.8888888888888888,
              "#fdca26"
             ],
             [
              1,
              "#f0f921"
             ]
            ],
            "type": "contour"
           }
          ],
          "contourcarpet": [
           {
            "colorbar": {
             "outlinewidth": 0,
             "ticks": ""
            },
            "type": "contourcarpet"
           }
          ],
          "heatmap": [
           {
            "colorbar": {
             "outlinewidth": 0,
             "ticks": ""
            },
            "colorscale": [
             [
              0,
              "#0d0887"
             ],
             [
              0.1111111111111111,
              "#46039f"
             ],
             [
              0.2222222222222222,
              "#7201a8"
             ],
             [
              0.3333333333333333,
              "#9c179e"
             ],
             [
              0.4444444444444444,
              "#bd3786"
             ],
             [
              0.5555555555555556,
              "#d8576b"
             ],
             [
              0.6666666666666666,
              "#ed7953"
             ],
             [
              0.7777777777777778,
              "#fb9f3a"
             ],
             [
              0.8888888888888888,
              "#fdca26"
             ],
             [
              1,
              "#f0f921"
             ]
            ],
            "type": "heatmap"
           }
          ],
          "heatmapgl": [
           {
            "colorbar": {
             "outlinewidth": 0,
             "ticks": ""
            },
            "colorscale": [
             [
              0,
              "#0d0887"
             ],
             [
              0.1111111111111111,
              "#46039f"
             ],
             [
              0.2222222222222222,
              "#7201a8"
             ],
             [
              0.3333333333333333,
              "#9c179e"
             ],
             [
              0.4444444444444444,
              "#bd3786"
             ],
             [
              0.5555555555555556,
              "#d8576b"
             ],
             [
              0.6666666666666666,
              "#ed7953"
             ],
             [
              0.7777777777777778,
              "#fb9f3a"
             ],
             [
              0.8888888888888888,
              "#fdca26"
             ],
             [
              1,
              "#f0f921"
             ]
            ],
            "type": "heatmapgl"
           }
          ],
          "histogram": [
           {
            "marker": {
             "pattern": {
              "fillmode": "overlay",
              "size": 10,
              "solidity": 0.2
             }
            },
            "type": "histogram"
           }
          ],
          "histogram2d": [
           {
            "colorbar": {
             "outlinewidth": 0,
             "ticks": ""
            },
            "colorscale": [
             [
              0,
              "#0d0887"
             ],
             [
              0.1111111111111111,
              "#46039f"
             ],
             [
              0.2222222222222222,
              "#7201a8"
             ],
             [
              0.3333333333333333,
              "#9c179e"
             ],
             [
              0.4444444444444444,
              "#bd3786"
             ],
             [
              0.5555555555555556,
              "#d8576b"
             ],
             [
              0.6666666666666666,
              "#ed7953"
             ],
             [
              0.7777777777777778,
              "#fb9f3a"
             ],
             [
              0.8888888888888888,
              "#fdca26"
             ],
             [
              1,
              "#f0f921"
             ]
            ],
            "type": "histogram2d"
           }
          ],
          "histogram2dcontour": [
           {
            "colorbar": {
             "outlinewidth": 0,
             "ticks": ""
            },
            "colorscale": [
             [
              0,
              "#0d0887"
             ],
             [
              0.1111111111111111,
              "#46039f"
             ],
             [
              0.2222222222222222,
              "#7201a8"
             ],
             [
              0.3333333333333333,
              "#9c179e"
             ],
             [
              0.4444444444444444,
              "#bd3786"
             ],
             [
              0.5555555555555556,
              "#d8576b"
             ],
             [
              0.6666666666666666,
              "#ed7953"
             ],
             [
              0.7777777777777778,
              "#fb9f3a"
             ],
             [
              0.8888888888888888,
              "#fdca26"
             ],
             [
              1,
              "#f0f921"
             ]
            ],
            "type": "histogram2dcontour"
           }
          ],
          "mesh3d": [
           {
            "colorbar": {
             "outlinewidth": 0,
             "ticks": ""
            },
            "type": "mesh3d"
           }
          ],
          "parcoords": [
           {
            "line": {
             "colorbar": {
              "outlinewidth": 0,
              "ticks": ""
             }
            },
            "type": "parcoords"
           }
          ],
          "pie": [
           {
            "automargin": true,
            "type": "pie"
           }
          ],
          "scatter": [
           {
            "marker": {
             "colorbar": {
              "outlinewidth": 0,
              "ticks": ""
             }
            },
            "type": "scatter"
           }
          ],
          "scatter3d": [
           {
            "line": {
             "colorbar": {
              "outlinewidth": 0,
              "ticks": ""
             }
            },
            "marker": {
             "colorbar": {
              "outlinewidth": 0,
              "ticks": ""
             }
            },
            "type": "scatter3d"
           }
          ],
          "scattercarpet": [
           {
            "marker": {
             "colorbar": {
              "outlinewidth": 0,
              "ticks": ""
             }
            },
            "type": "scattercarpet"
           }
          ],
          "scattergeo": [
           {
            "marker": {
             "colorbar": {
              "outlinewidth": 0,
              "ticks": ""
             }
            },
            "type": "scattergeo"
           }
          ],
          "scattergl": [
           {
            "marker": {
             "colorbar": {
              "outlinewidth": 0,
              "ticks": ""
             }
            },
            "type": "scattergl"
           }
          ],
          "scattermapbox": [
           {
            "marker": {
             "colorbar": {
              "outlinewidth": 0,
              "ticks": ""
             }
            },
            "type": "scattermapbox"
           }
          ],
          "scatterpolar": [
           {
            "marker": {
             "colorbar": {
              "outlinewidth": 0,
              "ticks": ""
             }
            },
            "type": "scatterpolar"
           }
          ],
          "scatterpolargl": [
           {
            "marker": {
             "colorbar": {
              "outlinewidth": 0,
              "ticks": ""
             }
            },
            "type": "scatterpolargl"
           }
          ],
          "scatterternary": [
           {
            "marker": {
             "colorbar": {
              "outlinewidth": 0,
              "ticks": ""
             }
            },
            "type": "scatterternary"
           }
          ],
          "surface": [
           {
            "colorbar": {
             "outlinewidth": 0,
             "ticks": ""
            },
            "colorscale": [
             [
              0,
              "#0d0887"
             ],
             [
              0.1111111111111111,
              "#46039f"
             ],
             [
              0.2222222222222222,
              "#7201a8"
             ],
             [
              0.3333333333333333,
              "#9c179e"
             ],
             [
              0.4444444444444444,
              "#bd3786"
             ],
             [
              0.5555555555555556,
              "#d8576b"
             ],
             [
              0.6666666666666666,
              "#ed7953"
             ],
             [
              0.7777777777777778,
              "#fb9f3a"
             ],
             [
              0.8888888888888888,
              "#fdca26"
             ],
             [
              1,
              "#f0f921"
             ]
            ],
            "type": "surface"
           }
          ],
          "table": [
           {
            "cells": {
             "fill": {
              "color": "#EBF0F8"
             },
             "line": {
              "color": "white"
             }
            },
            "header": {
             "fill": {
              "color": "#C8D4E3"
             },
             "line": {
              "color": "white"
             }
            },
            "type": "table"
           }
          ]
         },
         "layout": {
          "annotationdefaults": {
           "arrowcolor": "#2a3f5f",
           "arrowhead": 0,
           "arrowwidth": 1
          },
          "autotypenumbers": "strict",
          "coloraxis": {
           "colorbar": {
            "outlinewidth": 0,
            "ticks": ""
           }
          },
          "colorscale": {
           "diverging": [
            [
             0,
             "#8e0152"
            ],
            [
             0.1,
             "#c51b7d"
            ],
            [
             0.2,
             "#de77ae"
            ],
            [
             0.3,
             "#f1b6da"
            ],
            [
             0.4,
             "#fde0ef"
            ],
            [
             0.5,
             "#f7f7f7"
            ],
            [
             0.6,
             "#e6f5d0"
            ],
            [
             0.7,
             "#b8e186"
            ],
            [
             0.8,
             "#7fbc41"
            ],
            [
             0.9,
             "#4d9221"
            ],
            [
             1,
             "#276419"
            ]
           ],
           "sequential": [
            [
             0,
             "#0d0887"
            ],
            [
             0.1111111111111111,
             "#46039f"
            ],
            [
             0.2222222222222222,
             "#7201a8"
            ],
            [
             0.3333333333333333,
             "#9c179e"
            ],
            [
             0.4444444444444444,
             "#bd3786"
            ],
            [
             0.5555555555555556,
             "#d8576b"
            ],
            [
             0.6666666666666666,
             "#ed7953"
            ],
            [
             0.7777777777777778,
             "#fb9f3a"
            ],
            [
             0.8888888888888888,
             "#fdca26"
            ],
            [
             1,
             "#f0f921"
            ]
           ],
           "sequentialminus": [
            [
             0,
             "#0d0887"
            ],
            [
             0.1111111111111111,
             "#46039f"
            ],
            [
             0.2222222222222222,
             "#7201a8"
            ],
            [
             0.3333333333333333,
             "#9c179e"
            ],
            [
             0.4444444444444444,
             "#bd3786"
            ],
            [
             0.5555555555555556,
             "#d8576b"
            ],
            [
             0.6666666666666666,
             "#ed7953"
            ],
            [
             0.7777777777777778,
             "#fb9f3a"
            ],
            [
             0.8888888888888888,
             "#fdca26"
            ],
            [
             1,
             "#f0f921"
            ]
           ]
          },
          "colorway": [
           "#636efa",
           "#EF553B",
           "#00cc96",
           "#ab63fa",
           "#FFA15A",
           "#19d3f3",
           "#FF6692",
           "#B6E880",
           "#FF97FF",
           "#FECB52"
          ],
          "font": {
           "color": "#2a3f5f"
          },
          "geo": {
           "bgcolor": "white",
           "lakecolor": "white",
           "landcolor": "#E5ECF6",
           "showlakes": true,
           "showland": true,
           "subunitcolor": "white"
          },
          "hoverlabel": {
           "align": "left"
          },
          "hovermode": "closest",
          "mapbox": {
           "style": "light"
          },
          "paper_bgcolor": "white",
          "plot_bgcolor": "#E5ECF6",
          "polar": {
           "angularaxis": {
            "gridcolor": "white",
            "linecolor": "white",
            "ticks": ""
           },
           "bgcolor": "#E5ECF6",
           "radialaxis": {
            "gridcolor": "white",
            "linecolor": "white",
            "ticks": ""
           }
          },
          "scene": {
           "xaxis": {
            "backgroundcolor": "#E5ECF6",
            "gridcolor": "white",
            "gridwidth": 2,
            "linecolor": "white",
            "showbackground": true,
            "ticks": "",
            "zerolinecolor": "white"
           },
           "yaxis": {
            "backgroundcolor": "#E5ECF6",
            "gridcolor": "white",
            "gridwidth": 2,
            "linecolor": "white",
            "showbackground": true,
            "ticks": "",
            "zerolinecolor": "white"
           },
           "zaxis": {
            "backgroundcolor": "#E5ECF6",
            "gridcolor": "white",
            "gridwidth": 2,
            "linecolor": "white",
            "showbackground": true,
            "ticks": "",
            "zerolinecolor": "white"
           }
          },
          "shapedefaults": {
           "line": {
            "color": "#2a3f5f"
           }
          },
          "ternary": {
           "aaxis": {
            "gridcolor": "white",
            "linecolor": "white",
            "ticks": ""
           },
           "baxis": {
            "gridcolor": "white",
            "linecolor": "white",
            "ticks": ""
           },
           "bgcolor": "#E5ECF6",
           "caxis": {
            "gridcolor": "white",
            "linecolor": "white",
            "ticks": ""
           }
          },
          "title": {
           "x": 0.05
          },
          "xaxis": {
           "automargin": true,
           "gridcolor": "white",
           "linecolor": "white",
           "ticks": "",
           "title": {
            "standoff": 15
           },
           "zerolinecolor": "white",
           "zerolinewidth": 2
          },
          "yaxis": {
           "automargin": true,
           "gridcolor": "white",
           "linecolor": "white",
           "ticks": "",
           "title": {
            "standoff": 15
           },
           "zerolinecolor": "white",
           "zerolinewidth": 2
          }
         }
        },
        "title": {
         "text": "Team Rating by Country"
        },
        "xaxis": {
         "anchor": "y",
         "autorange": true,
         "domain": [
          0,
          1
         ],
         "range": [
          -0.5,
          19.5
         ],
         "title": {
          "text": "Team"
         },
         "type": "category"
        },
        "yaxis": {
         "anchor": "x",
         "autorange": true,
         "domain": [
          0,
          1
         ],
         "range": [
          0,
          127.36842105263158
         ],
         "title": {
          "text": "Rating"
         },
         "type": "linear"
        }
       }
      },
      "image/png": "[encoded data removed]",
      "text/html": [
       "<div>                            <div id=\"70626137-788a-494f-a3d4-47006ffc67ae\" class=\"plotly-graph-div\" style=\"height:525px; width:100%;\"></div>            <script type=\"text/javascript\">                require([\"plotly\"], function(Plotly) {                    window.PLOTLYENV=window.PLOTLYENV || {};                                    if (document.getElementById(\"70626137-788a-494f-a3d4-47006ffc67ae\")) {                    Plotly.newPlot(                        \"70626137-788a-494f-a3d4-47006ffc67ae\",                        [{\"alignmentgroup\":\"True\",\"customdata\":[[2054.0],[2945.0],[3344.0],[3100.0],[2137.0],[2323.0],[2438.0],[2222.0],[1876.0],[1054.0],[336.0],[897.0],[588.0],[258.0],[240.0],[119.0],[190.0],[97.0],[93.0],[0.0]],\"hovertemplate\":\"Team=%{x}<br>Rating=%{y}<br>Points=%{customdata[0]}<extra></extra>\",\"legendgroup\":\"\",\"marker\":{\"color\":\"#636efa\",\"pattern\":{\"shape\":\"\"}},\"name\":\"\",\"offsetgroup\":\"\",\"orientation\":\"v\",\"showlegend\":false,\"textposition\":\"auto\",\"type\":\"bar\",\"x\":[\"New Zealand\",\"Australia\",\"India\",\"England\",\"South Africa\",\"Pakistan\",\"Bangladesh\",\"West Indies\",\"Sri Lanka\",\"Afghanistan\",\"Netherlands\",\"Ireland\",\"Zimbabwe\",\"Scotland\",\"Oman\",\"Nepal\",\"UAE\",\"Namibia\",\"United States\",\"Papua New Guinea\"],\"xaxis\":\"x\",\"y\":[121,118,115,115,107,97,90,82,78,62,48,43,39,37,34,24,21,16,12,0],\"yaxis\":\"y\"}],                        {\"barmode\":\"relative\",\"legend\":{\"tracegroupgap\":0},\"template\":{\"data\":{\"bar\":[{\"error_x\":{\"color\":\"#2a3f5f\"},\"error_y\":{\"color\":\"#2a3f5f\"},\"marker\":{\"line\":{\"color\":\"#E5ECF6\",\"width\":0.5},\"pattern\":{\"fillmode\":\"overlay\",\"size\":10,\"solidity\":0.2}},\"type\":\"bar\"}],\"barpolar\":[{\"marker\":{\"line\":{\"color\":\"#E5ECF6\",\"width\":0.5},\"pattern\":{\"fillmode\":\"overlay\",\"size\":10,\"solidity\":0.2}},\"type\":\"barpolar\"}],\"carpet\":[{\"aaxis\":{\"endlinecolor\":\"#2a3f5f\",\"gridcolor\":\"white\",\"linecolor\":\"white\",\"minorgridcolor\":\"white\",\"startlinecolor\":\"#2a3f5f\"},\"baxis\":{\"endlinecolor\":\"#2a3f5f\",\"gridcolor\":\"white\",\"linecolor\":\"white\",\"minorgridcolor\":\"white\",\"startlinecolor\":\"#2a3f5f\"},\"type\":\"carpet\"}],\"choropleth\":[{\"colorbar\":{\"outlinewidth\":0,\"ticks\":\"\"},\"type\":\"choropleth\"}],\"contour\":[{\"colorbar\":{\"outlinewidth\":0,\"ticks\":\"\"},\"colorscale\":[[0.0,\"#0d0887\"],[0.1111111111111111,\"#46039f\"],[0.2222222222222222,\"#7201a8\"],[0.3333333333333333,\"#9c179e\"],[0.4444444444444444,\"#bd3786\"],[0.5555555555555556,\"#d8576b\"],[0.6666666666666666,\"#ed7953\"],[0.7777777777777778,\"#fb9f3a\"],[0.8888888888888888,\"#fdca26\"],[1.0,\"#f0f921\"]],\"type\":\"contour\"}],\"contourcarpet\":[{\"colorbar\":{\"outlinewidth\":0,\"ticks\":\"\"},\"type\":\"contourcarpet\"}],\"heatmap\":[{\"colorbar\":{\"outlinewidth\":0,\"ticks\":\"\"},\"colorscale\":[[0.0,\"#0d0887\"],[0.1111111111111111,\"#46039f\"],[0.2222222222222222,\"#7201a8\"],[0.3333333333333333,\"#9c179e\"],[0.4444444444444444,\"#bd3786\"],[0.5555555555555556,\"#d8576b\"],[0.6666666666666666,\"#ed7953\"],[0.7777777777777778,\"#fb9f3a\"],[0.8888888888888888,\"#fdca26\"],[1.0,\"#f0f921\"]],\"type\":\"heatmap\"}],\"heatmapgl\":[{\"colorbar\":{\"outlinewidth\":0,\"ticks\":\"\"},\"colorscale\":[[0.0,\"#0d0887\"],[0.1111111111111111,\"#46039f\"],[0.2222222222222222,\"#7201a8\"],[0.3333333333333333,\"#9c179e\"],[0.4444444444444444,\"#bd3786\"],[0.5555555555555556,\"#d8576b\"],[0.6666666666666666,\"#ed7953\"],[0.7777777777777778,\"#fb9f3a\"],[0.8888888888888888,\"#fdca26\"],[1.0,\"#f0f921\"]],\"type\":\"heatmapgl\"}],\"histogram\":[{\"marker\":{\"pattern\":{\"fillmode\":\"overlay\",\"size\":10,\"solidity\":0.2}},\"type\":\"histogram\"}],\"histogram2d\":[{\"colorbar\":{\"outlinewidth\":0,\"ticks\":\"\"},\"colorscale\":[[0.0,\"#0d0887\"],[0.1111111111111111,\"#46039f\"],[0.2222222222222222,\"#7201a8\"],[0.3333333333333333,\"#9c179e\"],[0.4444444444444444,\"#bd3786\"],[0.5555555555555556,\"#d8576b\"],[0.6666666666666666,\"#ed7953\"],[0.7777777777777778,\"#fb9f3a\"],[0.8888888888888888,\"#fdca26\"],[1.0,\"#f0f921\"]],\"type\":\"histogram2d\"}],\"histogram2dcontour\":[{\"colorbar\":{\"outlinewidth\":0,\"ticks\":\"\"},\"colorscale\":[[0.0,\"#0d0887\"],[0.1111111111111111,\"#46039f\"],[0.2222222222222222,\"#7201a8\"],[0.3333333333333333,\"#9c179e\"],[0.4444444444444444,\"#bd3786\"],[0.5555555555555556,\"#d8576b\"],[0.6666666666666666,\"#ed7953\"],[0.7777777777777778,\"#fb9f3a\"],[0.8888888888888888,\"#fdca26\"],[1.0,\"#f0f921\"]],\"type\":\"histogram2dcontour\"}],\"mesh3d\":[{\"colorbar\":{\"outlinewidth\":0,\"ticks\":\"\"},\"type\":\"mesh3d\"}],\"parcoords\":[{\"line\":{\"colorbar\":{\"outlinewidth\":0,\"ticks\":\"\"}},\"type\":\"parcoords\"}],\"pie\":[{\"automargin\":true,\"type\":\"pie\"}],\"scatter\":[{\"marker\":{\"colorbar\":{\"outlinewidth\":0,\"ticks\":\"\"}},\"type\":\"scatter\"}],\"scatter3d\":[{\"line\":{\"colorbar\":{\"outlinewidth\":0,\"ticks\":\"\"}},\"marker\":{\"colorbar\":{\"outlinewidth\":0,\"ticks\":\"\"}},\"type\":\"scatter3d\"}],\"scattercarpet\":[{\"marker\":{\"colorbar\":{\"outlinewidth\":0,\"ticks\":\"\"}},\"type\":\"scattercarpet\"}],\"scattergeo\":[{\"marker\":{\"colorbar\":{\"outlinewidth\":0,\"ticks\":\"\"}},\"type\":\"scattergeo\"}],\"scattergl\":[{\"marker\":{\"colorbar\":{\"outlinewidth\":0,\"ticks\":\"\"}},\"type\":\"scattergl\"}],\"scattermapbox\":[{\"marker\":{\"colorbar\":{\"outlinewidth\":0,\"ticks\":\"\"}},\"type\":\"scattermapbox\"}],\"scatterpolar\":[{\"marker\":{\"colorbar\":{\"outlinewidth\":0,\"ticks\":\"\"}},\"type\":\"scatterpolar\"}],\"scatterpolargl\":[{\"marker\":{\"colorbar\":{\"outlinewidth\":0,\"ticks\":\"\"}},\"type\":\"scatterpolargl\"}],\"scatterternary\":[{\"marker\":{\"colorbar\":{\"outlinewidth\":0,\"ticks\":\"\"}},\"type\":\"scatterternary\"}],\"surface\":[{\"colorbar\":{\"outlinewidth\":0,\"ticks\":\"\"},\"colorscale\":[[0.0,\"#0d0887\"],[0.1111111111111111,\"#46039f\"],[0.2222222222222222,\"#7201a8\"],[0.3333333333333333,\"#9c179e\"],[0.4444444444444444,\"#bd3786\"],[0.5555555555555556,\"#d8576b\"],[0.6666666666666666,\"#ed7953\"],[0.7777777777777778,\"#fb9f3a\"],[0.8888888888888888,\"#fdca26\"],[1.0,\"#f0f921\"]],\"type\":\"surface\"}],\"table\":[{\"cells\":{\"fill\":{\"color\":\"#EBF0F8\"},\"line\":{\"color\":\"white\"}},\"header\":{\"fill\":{\"color\":\"#C8D4E3\"},\"line\":{\"color\":\"white\"}},\"type\":\"table\"}]},\"layout\":{\"annotationdefaults\":{\"arrowcolor\":\"#2a3f5f\",\"arrowhead\":0,\"arrowwidth\":1},\"autotypenumbers\":\"strict\",\"coloraxis\":{\"colorbar\":{\"outlinewidth\":0,\"ticks\":\"\"}},\"colorscale\":{\"diverging\":[[0,\"#8e0152\"],[0.1,\"#c51b7d\"],[0.2,\"#de77ae\"],[0.3,\"#f1b6da\"],[0.4,\"#fde0ef\"],[0.5,\"#f7f7f7\"],[0.6,\"#e6f5d0\"],[0.7,\"#b8e186\"],[0.8,\"#7fbc41\"],[0.9,\"#4d9221\"],[1,\"#276419\"]],\"sequential\":[[0.0,\"#0d0887\"],[0.1111111111111111,\"#46039f\"],[0.2222222222222222,\"#7201a8\"],[0.3333333333333333,\"#9c179e\"],[0.4444444444444444,\"#bd3786\"],[0.5555555555555556,\"#d8576b\"],[0.6666666666666666,\"#ed7953\"],[0.7777777777777778,\"#fb9f3a\"],[0.8888888888888888,\"#fdca26\"],[1.0,\"#f0f921\"]],\"sequentialminus\":[[0.0,\"#0d0887\"],[0.1111111111111111,\"#46039f\"],[0.2222222222222222,\"#7201a8\"],[0.3333333333333333,\"#9c179e\"],[0.4444444444444444,\"#bd3786\"],[0.5555555555555556,\"#d8576b\"],[0.6666666666666666,\"#ed7953\"],[0.7777777777777778,\"#fb9f3a\"],[0.8888888888888888,\"#fdca26\"],[1.0,\"#f0f921\"]]},\"colorway\":[\"#636efa\",\"#EF553B\",\"#00cc96\",\"#ab63fa\",\"#FFA15A\",\"#19d3f3\",\"#FF6692\",\"#B6E880\",\"#FF97FF\",\"#FECB52\"],\"font\":{\"color\":\"#2a3f5f\"},\"geo\":{\"bgcolor\":\"white\",\"lakecolor\":\"white\",\"landcolor\":\"#E5ECF6\",\"showlakes\":true,\"showland\":true,\"subunitcolor\":\"white\"},\"hoverlabel\":{\"align\":\"left\"},\"hovermode\":\"closest\",\"mapbox\":{\"style\":\"light\"},\"paper_bgcolor\":\"white\",\"plot_bgcolor\":\"#E5ECF6\",\"polar\":{\"angularaxis\":{\"gridcolor\":\"white\",\"linecolor\":\"white\",\"ticks\":\"\"},\"bgcolor\":\"#E5ECF6\",\"radialaxis\":{\"gridcolor\":\"white\",\"linecolor\":\"white\",\"ticks\":\"\"}},\"scene\":{\"xaxis\":{\"backgroundcolor\":\"#E5ECF6\",\"gridcolor\":\"white\",\"gridwidth\":2,\"linecolor\":\"white\",\"showbackground\":true,\"ticks\":\"\",\"zerolinecolor\":\"white\"},\"yaxis\":{\"backgroundcolor\":\"#E5ECF6\",\"gridcolor\":\"white\",\"gridwidth\":2,\"linecolor\":\"white\",\"showbackground\":true,\"ticks\":\"\",\"zerolinecolor\":\"white\"},\"zaxis\":{\"backgroundcolor\":\"#E5ECF6\",\"gridcolor\":\"white\",\"gridwidth\":2,\"linecolor\":\"white\",\"showbackground\":true,\"ticks\":\"\",\"zerolinecolor\":\"white\"}},\"shapedefaults\":{\"line\":{\"color\":\"#2a3f5f\"}},\"ternary\":{\"aaxis\":{\"gridcolor\":\"white\",\"linecolor\":\"white\",\"ticks\":\"\"},\"baxis\":{\"gridcolor\":\"white\",\"linecolor\":\"white\",\"ticks\":\"\"},\"bgcolor\":\"#E5ECF6\",\"caxis\":{\"gridcolor\":\"white\",\"linecolor\":\"white\",\"ticks\":\"\"}},\"title\":{\"x\":0.05},\"xaxis\":{\"automargin\":true,\"gridcolor\":\"white\",\"linecolor\":\"white\",\"ticks\":\"\",\"title\":{\"standoff\":15},\"zerolinecolor\":\"white\",\"zerolinewidth\":2},\"yaxis\":{\"automargin\":true,\"gridcolor\":\"white\",\"linecolor\":\"white\",\"ticks\":\"\",\"title\":{\"standoff\":15},\"zerolinecolor\":\"white\",\"zerolinewidth\":2}}},\"title\":{\"text\":\"Team Rating by Country\"},\"xaxis\":{\"anchor\":\"y\",\"domain\":[0.0,1.0],\"title\":{\"text\":\"Team\"}},\"yaxis\":{\"anchor\":\"x\",\"domain\":[0.0,1.0],\"title\":{\"text\":\"Rating\"}}},                        {\"responsive\": true}                    ).then(function(){\n",
       "                            \n",
       "var gd = document.getElementById('70626137-788a-494f-a3d4-47006ffc67ae');\n",
       "var x = new MutationObserver(function (mutations, observer) {{\n",
       "        var display = window.getComputedStyle(gd).display;\n",
       "        if (!display || display === 'none') {{\n",
       "            console.log([gd, 'removed!']);\n",
       "            Plotly.purge(gd);\n",
       "            observer.disconnect();\n",
       "        }}\n",
       "}});\n",
       "\n",
       "// Listen for the removal of the full notebook cells\n",
       "var notebookContainer = gd.closest('#notebook-container');\n",
       "if (notebookContainer) {{\n",
       "    x.observe(notebookContainer, {childList: true});\n",
       "}}\n",
       "\n",
       "// Listen for the clearing of the current output cell\n",
       "var outputEl = gd.closest('.output');\n",
       "if (outputEl) {{\n",
       "    x.observe(outputEl, {childList: true});\n",
       "}}\n",
       "\n",
       "                        })                };                });            </script>        </div>"
      ]
     },
     "metadata": {},
     "output_type": "display_data"
    }
   ],
   "source": [
    "px.bar(cricket_stats_odi_df, x='Team', y='Rating',title = \"Team Rating by Country\" ,hover_data=['Points'])"
   ]
  },
  {
   "cell_type": "code",
   "execution_count": 170,
   "id": "aead6947-da93-4107-b4be-398508d4a7d7",
   "metadata": {},
   "outputs": [
    {
     "data": {
      "application/vnd.plotly.v1+json": {
       "config": {
        "plotlyServerURL": "https://plot.ly"
       },
       "data": [
        {
         "alignmentgroup": "True",
         "customdata": [
          [
           17
          ],
          [
           25
          ],
          [
           29
          ],
          [
           27
          ],
          [
           20
          ],
          [
           24
          ],
          [
           27
          ],
          [
           27
          ],
          [
           24
          ],
          [
           17
          ],
          [
           7
          ],
          [
           21
          ],
          [
           15
          ],
          [
           7
          ],
          [
           7
          ],
          [
           5
          ],
          [
           9
          ],
          [
           6
          ],
          [
           8
          ],
          [
           5
          ]
         ],
         "hovertemplate": "Team=%{x}<br>Points=%{y}<br>Matches=%{customdata[0]}<extra></extra>",
         "legendgroup": "",
         "marker": {
          "color": "#636efa",
          "pattern": {
           "shape": ""
          }
         },
         "name": "",
         "offsetgroup": "",
         "orientation": "v",
         "showlegend": false,
         "textposition": "auto",
         "type": "bar",
         "x": [
          "New Zealand",
          "Australia",
          "India",
          "England",
          "South Africa",
          "Pakistan",
          "Bangladesh",
          "West Indies",
          "Sri Lanka",
          "Afghanistan",
          "Netherlands",
          "Ireland",
          "Zimbabwe",
          "Scotland",
          "Oman",
          "Nepal",
          "UAE",
          "Namibia",
          "United States",
          "Papua New Guinea"
         ],
         "xaxis": "x",
         "y": [
          2054,
          2945,
          3344,
          3100,
          2137,
          2323,
          2438,
          2222,
          1876,
          1054,
          336,
          897,
          588,
          258,
          240,
          119,
          190,
          97,
          93,
          0
         ],
         "yaxis": "y"
        }
       ],
       "layout": {
        "autosize": true,
        "barmode": "relative",
        "legend": {
         "tracegroupgap": 0
        },
        "template": {
         "data": {
          "bar": [
           {
            "error_x": {
             "color": "#2a3f5f"
            },
            "error_y": {
             "color": "#2a3f5f"
            },
            "marker": {
             "line": {
              "color": "#E5ECF6",
              "width": 0.5
             },
             "pattern": {
              "fillmode": "overlay",
              "size": 10,
              "solidity": 0.2
             }
            },
            "type": "bar"
           }
          ],
          "barpolar": [
           {
            "marker": {
             "line": {
              "color": "#E5ECF6",
              "width": 0.5
             },
             "pattern": {
              "fillmode": "overlay",
              "size": 10,
              "solidity": 0.2
             }
            },
            "type": "barpolar"
           }
          ],
          "carpet": [
           {
            "aaxis": {
             "endlinecolor": "#2a3f5f",
             "gridcolor": "white",
             "linecolor": "white",
             "minorgridcolor": "white",
             "startlinecolor": "#2a3f5f"
            },
            "baxis": {
             "endlinecolor": "#2a3f5f",
             "gridcolor": "white",
             "linecolor": "white",
             "minorgridcolor": "white",
             "startlinecolor": "#2a3f5f"
            },
            "type": "carpet"
           }
          ],
          "choropleth": [
           {
            "colorbar": {
             "outlinewidth": 0,
             "ticks": ""
            },
            "type": "choropleth"
           }
          ],
          "contour": [
           {
            "colorbar": {
             "outlinewidth": 0,
             "ticks": ""
            },
            "colorscale": [
             [
              0,
              "#0d0887"
             ],
             [
              0.1111111111111111,
              "#46039f"
             ],
             [
              0.2222222222222222,
              "#7201a8"
             ],
             [
              0.3333333333333333,
              "#9c179e"
             ],
             [
              0.4444444444444444,
              "#bd3786"
             ],
             [
              0.5555555555555556,
              "#d8576b"
             ],
             [
              0.6666666666666666,
              "#ed7953"
             ],
             [
              0.7777777777777778,
              "#fb9f3a"
             ],
             [
              0.8888888888888888,
              "#fdca26"
             ],
             [
              1,
              "#f0f921"
             ]
            ],
            "type": "contour"
           }
          ],
          "contourcarpet": [
           {
            "colorbar": {
             "outlinewidth": 0,
             "ticks": ""
            },
            "type": "contourcarpet"
           }
          ],
          "heatmap": [
           {
            "colorbar": {
             "outlinewidth": 0,
             "ticks": ""
            },
            "colorscale": [
             [
              0,
              "#0d0887"
             ],
             [
              0.1111111111111111,
              "#46039f"
             ],
             [
              0.2222222222222222,
              "#7201a8"
             ],
             [
              0.3333333333333333,
              "#9c179e"
             ],
             [
              0.4444444444444444,
              "#bd3786"
             ],
             [
              0.5555555555555556,
              "#d8576b"
             ],
             [
              0.6666666666666666,
              "#ed7953"
             ],
             [
              0.7777777777777778,
              "#fb9f3a"
             ],
             [
              0.8888888888888888,
              "#fdca26"
             ],
             [
              1,
              "#f0f921"
             ]
            ],
            "type": "heatmap"
           }
          ],
          "heatmapgl": [
           {
            "colorbar": {
             "outlinewidth": 0,
             "ticks": ""
            },
            "colorscale": [
             [
              0,
              "#0d0887"
             ],
             [
              0.1111111111111111,
              "#46039f"
             ],
             [
              0.2222222222222222,
              "#7201a8"
             ],
             [
              0.3333333333333333,
              "#9c179e"
             ],
             [
              0.4444444444444444,
              "#bd3786"
             ],
             [
              0.5555555555555556,
              "#d8576b"
             ],
             [
              0.6666666666666666,
              "#ed7953"
             ],
             [
              0.7777777777777778,
              "#fb9f3a"
             ],
             [
              0.8888888888888888,
              "#fdca26"
             ],
             [
              1,
              "#f0f921"
             ]
            ],
            "type": "heatmapgl"
           }
          ],
          "histogram": [
           {
            "marker": {
             "pattern": {
              "fillmode": "overlay",
              "size": 10,
              "solidity": 0.2
             }
            },
            "type": "histogram"
           }
          ],
          "histogram2d": [
           {
            "colorbar": {
             "outlinewidth": 0,
             "ticks": ""
            },
            "colorscale": [
             [
              0,
              "#0d0887"
             ],
             [
              0.1111111111111111,
              "#46039f"
             ],
             [
              0.2222222222222222,
              "#7201a8"
             ],
             [
              0.3333333333333333,
              "#9c179e"
             ],
             [
              0.4444444444444444,
              "#bd3786"
             ],
             [
              0.5555555555555556,
              "#d8576b"
             ],
             [
              0.6666666666666666,
              "#ed7953"
             ],
             [
              0.7777777777777778,
              "#fb9f3a"
             ],
             [
              0.8888888888888888,
              "#fdca26"
             ],
             [
              1,
              "#f0f921"
             ]
            ],
            "type": "histogram2d"
           }
          ],
          "histogram2dcontour": [
           {
            "colorbar": {
             "outlinewidth": 0,
             "ticks": ""
            },
            "colorscale": [
             [
              0,
              "#0d0887"
             ],
             [
              0.1111111111111111,
              "#46039f"
             ],
             [
              0.2222222222222222,
              "#7201a8"
             ],
             [
              0.3333333333333333,
              "#9c179e"
             ],
             [
              0.4444444444444444,
              "#bd3786"
             ],
             [
              0.5555555555555556,
              "#d8576b"
             ],
             [
              0.6666666666666666,
              "#ed7953"
             ],
             [
              0.7777777777777778,
              "#fb9f3a"
             ],
             [
              0.8888888888888888,
              "#fdca26"
             ],
             [
              1,
              "#f0f921"
             ]
            ],
            "type": "histogram2dcontour"
           }
          ],
          "mesh3d": [
           {
            "colorbar": {
             "outlinewidth": 0,
             "ticks": ""
            },
            "type": "mesh3d"
           }
          ],
          "parcoords": [
           {
            "line": {
             "colorbar": {
              "outlinewidth": 0,
              "ticks": ""
             }
            },
            "type": "parcoords"
           }
          ],
          "pie": [
           {
            "automargin": true,
            "type": "pie"
           }
          ],
          "scatter": [
           {
            "marker": {
             "colorbar": {
              "outlinewidth": 0,
              "ticks": ""
             }
            },
            "type": "scatter"
           }
          ],
          "scatter3d": [
           {
            "line": {
             "colorbar": {
              "outlinewidth": 0,
              "ticks": ""
             }
            },
            "marker": {
             "colorbar": {
              "outlinewidth": 0,
              "ticks": ""
             }
            },
            "type": "scatter3d"
           }
          ],
          "scattercarpet": [
           {
            "marker": {
             "colorbar": {
              "outlinewidth": 0,
              "ticks": ""
             }
            },
            "type": "scattercarpet"
           }
          ],
          "scattergeo": [
           {
            "marker": {
             "colorbar": {
              "outlinewidth": 0,
              "ticks": ""
             }
            },
            "type": "scattergeo"
           }
          ],
          "scattergl": [
           {
            "marker": {
             "colorbar": {
              "outlinewidth": 0,
              "ticks": ""
             }
            },
            "type": "scattergl"
           }
          ],
          "scattermapbox": [
           {
            "marker": {
             "colorbar": {
              "outlinewidth": 0,
              "ticks": ""
             }
            },
            "type": "scattermapbox"
           }
          ],
          "scatterpolar": [
           {
            "marker": {
             "colorbar": {
              "outlinewidth": 0,
              "ticks": ""
             }
            },
            "type": "scatterpolar"
           }
          ],
          "scatterpolargl": [
           {
            "marker": {
             "colorbar": {
              "outlinewidth": 0,
              "ticks": ""
             }
            },
            "type": "scatterpolargl"
           }
          ],
          "scatterternary": [
           {
            "marker": {
             "colorbar": {
              "outlinewidth": 0,
              "ticks": ""
             }
            },
            "type": "scatterternary"
           }
          ],
          "surface": [
           {
            "colorbar": {
             "outlinewidth": 0,
             "ticks": ""
            },
            "colorscale": [
             [
              0,
              "#0d0887"
             ],
             [
              0.1111111111111111,
              "#46039f"
             ],
             [
              0.2222222222222222,
              "#7201a8"
             ],
             [
              0.3333333333333333,
              "#9c179e"
             ],
             [
              0.4444444444444444,
              "#bd3786"
             ],
             [
              0.5555555555555556,
              "#d8576b"
             ],
             [
              0.6666666666666666,
              "#ed7953"
             ],
             [
              0.7777777777777778,
              "#fb9f3a"
             ],
             [
              0.8888888888888888,
              "#fdca26"
             ],
             [
              1,
              "#f0f921"
             ]
            ],
            "type": "surface"
           }
          ],
          "table": [
           {
            "cells": {
             "fill": {
              "color": "#EBF0F8"
             },
             "line": {
              "color": "white"
             }
            },
            "header": {
             "fill": {
              "color": "#C8D4E3"
             },
             "line": {
              "color": "white"
             }
            },
            "type": "table"
           }
          ]
         },
         "layout": {
          "annotationdefaults": {
           "arrowcolor": "#2a3f5f",
           "arrowhead": 0,
           "arrowwidth": 1
          },
          "autotypenumbers": "strict",
          "coloraxis": {
           "colorbar": {
            "outlinewidth": 0,
            "ticks": ""
           }
          },
          "colorscale": {
           "diverging": [
            [
             0,
             "#8e0152"
            ],
            [
             0.1,
             "#c51b7d"
            ],
            [
             0.2,
             "#de77ae"
            ],
            [
             0.3,
             "#f1b6da"
            ],
            [
             0.4,
             "#fde0ef"
            ],
            [
             0.5,
             "#f7f7f7"
            ],
            [
             0.6,
             "#e6f5d0"
            ],
            [
             0.7,
             "#b8e186"
            ],
            [
             0.8,
             "#7fbc41"
            ],
            [
             0.9,
             "#4d9221"
            ],
            [
             1,
             "#276419"
            ]
           ],
           "sequential": [
            [
             0,
             "#0d0887"
            ],
            [
             0.1111111111111111,
             "#46039f"
            ],
            [
             0.2222222222222222,
             "#7201a8"
            ],
            [
             0.3333333333333333,
             "#9c179e"
            ],
            [
             0.4444444444444444,
             "#bd3786"
            ],
            [
             0.5555555555555556,
             "#d8576b"
            ],
            [
             0.6666666666666666,
             "#ed7953"
            ],
            [
             0.7777777777777778,
             "#fb9f3a"
            ],
            [
             0.8888888888888888,
             "#fdca26"
            ],
            [
             1,
             "#f0f921"
            ]
           ],
           "sequentialminus": [
            [
             0,
             "#0d0887"
            ],
            [
             0.1111111111111111,
             "#46039f"
            ],
            [
             0.2222222222222222,
             "#7201a8"
            ],
            [
             0.3333333333333333,
             "#9c179e"
            ],
            [
             0.4444444444444444,
             "#bd3786"
            ],
            [
             0.5555555555555556,
             "#d8576b"
            ],
            [
             0.6666666666666666,
             "#ed7953"
            ],
            [
             0.7777777777777778,
             "#fb9f3a"
            ],
            [
             0.8888888888888888,
             "#fdca26"
            ],
            [
             1,
             "#f0f921"
            ]
           ]
          },
          "colorway": [
           "#636efa",
           "#EF553B",
           "#00cc96",
           "#ab63fa",
           "#FFA15A",
           "#19d3f3",
           "#FF6692",
           "#B6E880",
           "#FF97FF",
           "#FECB52"
          ],
          "font": {
           "color": "#2a3f5f"
          },
          "geo": {
           "bgcolor": "white",
           "lakecolor": "white",
           "landcolor": "#E5ECF6",
           "showlakes": true,
           "showland": true,
           "subunitcolor": "white"
          },
          "hoverlabel": {
           "align": "left"
          },
          "hovermode": "closest",
          "mapbox": {
           "style": "light"
          },
          "paper_bgcolor": "white",
          "plot_bgcolor": "#E5ECF6",
          "polar": {
           "angularaxis": {
            "gridcolor": "white",
            "linecolor": "white",
            "ticks": ""
           },
           "bgcolor": "#E5ECF6",
           "radialaxis": {
            "gridcolor": "white",
            "linecolor": "white",
            "ticks": ""
           }
          },
          "scene": {
           "xaxis": {
            "backgroundcolor": "#E5ECF6",
            "gridcolor": "white",
            "gridwidth": 2,
            "linecolor": "white",
            "showbackground": true,
            "ticks": "",
            "zerolinecolor": "white"
           },
           "yaxis": {
            "backgroundcolor": "#E5ECF6",
            "gridcolor": "white",
            "gridwidth": 2,
            "linecolor": "white",
            "showbackground": true,
            "ticks": "",
            "zerolinecolor": "white"
           },
           "zaxis": {
            "backgroundcolor": "#E5ECF6",
            "gridcolor": "white",
            "gridwidth": 2,
            "linecolor": "white",
            "showbackground": true,
            "ticks": "",
            "zerolinecolor": "white"
           }
          },
          "shapedefaults": {
           "line": {
            "color": "#2a3f5f"
           }
          },
          "ternary": {
           "aaxis": {
            "gridcolor": "white",
            "linecolor": "white",
            "ticks": ""
           },
           "baxis": {
            "gridcolor": "white",
            "linecolor": "white",
            "ticks": ""
           },
           "bgcolor": "#E5ECF6",
           "caxis": {
            "gridcolor": "white",
            "linecolor": "white",
            "ticks": ""
           }
          },
          "title": {
           "x": 0.05
          },
          "xaxis": {
           "automargin": true,
           "gridcolor": "white",
           "linecolor": "white",
           "ticks": "",
           "title": {
            "standoff": 15
           },
           "zerolinecolor": "white",
           "zerolinewidth": 2
          },
          "yaxis": {
           "automargin": true,
           "gridcolor": "white",
           "linecolor": "white",
           "ticks": "",
           "title": {
            "standoff": 15
           },
           "zerolinecolor": "white",
           "zerolinewidth": 2
          }
         }
        },
        "title": {
         "text": "Team Rating by Country"
        },
        "xaxis": {
         "anchor": "y",
         "autorange": true,
         "domain": [
          0,
          1
         ],
         "range": [
          -0.5,
          19.5
         ],
         "title": {
          "text": "Team"
         },
         "type": "category"
        },
        "yaxis": {
         "anchor": "x",
         "autorange": true,
         "domain": [
          0,
          1
         ],
         "range": [
          0,
          3520
         ],
         "title": {
          "text": "Points"
         },
         "type": "linear"
        }
       }
      },
      "image/png": "[encoded data removed]",
      "text/html": [
       "<div>                            <div id=\"ee5c914e-9b8d-4c4e-9951-a9d1ca5aa8d8\" class=\"plotly-graph-div\" style=\"height:525px; width:100%;\"></div>            <script type=\"text/javascript\">                require([\"plotly\"], function(Plotly) {                    window.PLOTLYENV=window.PLOTLYENV || {};                                    if (document.getElementById(\"ee5c914e-9b8d-4c4e-9951-a9d1ca5aa8d8\")) {                    Plotly.newPlot(                        \"ee5c914e-9b8d-4c4e-9951-a9d1ca5aa8d8\",                        [{\"alignmentgroup\":\"True\",\"customdata\":[[17],[25],[29],[27],[20],[24],[27],[27],[24],[17],[7],[21],[15],[7],[7],[5],[9],[6],[8],[5]],\"hovertemplate\":\"Team=%{x}<br>Points=%{y}<br>Matches=%{customdata[0]}<extra></extra>\",\"legendgroup\":\"\",\"marker\":{\"color\":\"#636efa\",\"pattern\":{\"shape\":\"\"}},\"name\":\"\",\"offsetgroup\":\"\",\"orientation\":\"v\",\"showlegend\":false,\"textposition\":\"auto\",\"type\":\"bar\",\"x\":[\"New Zealand\",\"Australia\",\"India\",\"England\",\"South Africa\",\"Pakistan\",\"Bangladesh\",\"West Indies\",\"Sri Lanka\",\"Afghanistan\",\"Netherlands\",\"Ireland\",\"Zimbabwe\",\"Scotland\",\"Oman\",\"Nepal\",\"UAE\",\"Namibia\",\"United States\",\"Papua New Guinea\"],\"xaxis\":\"x\",\"y\":[2054.0,2945.0,3344.0,3100.0,2137.0,2323.0,2438.0,2222.0,1876.0,1054.0,336.0,897.0,588.0,258.0,240.0,119.0,190.0,97.0,93.0,0.0],\"yaxis\":\"y\"}],                        {\"barmode\":\"relative\",\"legend\":{\"tracegroupgap\":0},\"template\":{\"data\":{\"bar\":[{\"error_x\":{\"color\":\"#2a3f5f\"},\"error_y\":{\"color\":\"#2a3f5f\"},\"marker\":{\"line\":{\"color\":\"#E5ECF6\",\"width\":0.5},\"pattern\":{\"fillmode\":\"overlay\",\"size\":10,\"solidity\":0.2}},\"type\":\"bar\"}],\"barpolar\":[{\"marker\":{\"line\":{\"color\":\"#E5ECF6\",\"width\":0.5},\"pattern\":{\"fillmode\":\"overlay\",\"size\":10,\"solidity\":0.2}},\"type\":\"barpolar\"}],\"carpet\":[{\"aaxis\":{\"endlinecolor\":\"#2a3f5f\",\"gridcolor\":\"white\",\"linecolor\":\"white\",\"minorgridcolor\":\"white\",\"startlinecolor\":\"#2a3f5f\"},\"baxis\":{\"endlinecolor\":\"#2a3f5f\",\"gridcolor\":\"white\",\"linecolor\":\"white\",\"minorgridcolor\":\"white\",\"startlinecolor\":\"#2a3f5f\"},\"type\":\"carpet\"}],\"choropleth\":[{\"colorbar\":{\"outlinewidth\":0,\"ticks\":\"\"},\"type\":\"choropleth\"}],\"contour\":[{\"colorbar\":{\"outlinewidth\":0,\"ticks\":\"\"},\"colorscale\":[[0.0,\"#0d0887\"],[0.1111111111111111,\"#46039f\"],[0.2222222222222222,\"#7201a8\"],[0.3333333333333333,\"#9c179e\"],[0.4444444444444444,\"#bd3786\"],[0.5555555555555556,\"#d8576b\"],[0.6666666666666666,\"#ed7953\"],[0.7777777777777778,\"#fb9f3a\"],[0.8888888888888888,\"#fdca26\"],[1.0,\"#f0f921\"]],\"type\":\"contour\"}],\"contourcarpet\":[{\"colorbar\":{\"outlinewidth\":0,\"ticks\":\"\"},\"type\":\"contourcarpet\"}],\"heatmap\":[{\"colorbar\":{\"outlinewidth\":0,\"ticks\":\"\"},\"colorscale\":[[0.0,\"#0d0887\"],[0.1111111111111111,\"#46039f\"],[0.2222222222222222,\"#7201a8\"],[0.3333333333333333,\"#9c179e\"],[0.4444444444444444,\"#bd3786\"],[0.5555555555555556,\"#d8576b\"],[0.6666666666666666,\"#ed7953\"],[0.7777777777777778,\"#fb9f3a\"],[0.8888888888888888,\"#fdca26\"],[1.0,\"#f0f921\"]],\"type\":\"heatmap\"}],\"heatmapgl\":[{\"colorbar\":{\"outlinewidth\":0,\"ticks\":\"\"},\"colorscale\":[[0.0,\"#0d0887\"],[0.1111111111111111,\"#46039f\"],[0.2222222222222222,\"#7201a8\"],[0.3333333333333333,\"#9c179e\"],[0.4444444444444444,\"#bd3786\"],[0.5555555555555556,\"#d8576b\"],[0.6666666666666666,\"#ed7953\"],[0.7777777777777778,\"#fb9f3a\"],[0.8888888888888888,\"#fdca26\"],[1.0,\"#f0f921\"]],\"type\":\"heatmapgl\"}],\"histogram\":[{\"marker\":{\"pattern\":{\"fillmode\":\"overlay\",\"size\":10,\"solidity\":0.2}},\"type\":\"histogram\"}],\"histogram2d\":[{\"colorbar\":{\"outlinewidth\":0,\"ticks\":\"\"},\"colorscale\":[[0.0,\"#0d0887\"],[0.1111111111111111,\"#46039f\"],[0.2222222222222222,\"#7201a8\"],[0.3333333333333333,\"#9c179e\"],[0.4444444444444444,\"#bd3786\"],[0.5555555555555556,\"#d8576b\"],[0.6666666666666666,\"#ed7953\"],[0.7777777777777778,\"#fb9f3a\"],[0.8888888888888888,\"#fdca26\"],[1.0,\"#f0f921\"]],\"type\":\"histogram2d\"}],\"histogram2dcontour\":[{\"colorbar\":{\"outlinewidth\":0,\"ticks\":\"\"},\"colorscale\":[[0.0,\"#0d0887\"],[0.1111111111111111,\"#46039f\"],[0.2222222222222222,\"#7201a8\"],[0.3333333333333333,\"#9c179e\"],[0.4444444444444444,\"#bd3786\"],[0.5555555555555556,\"#d8576b\"],[0.6666666666666666,\"#ed7953\"],[0.7777777777777778,\"#fb9f3a\"],[0.8888888888888888,\"#fdca26\"],[1.0,\"#f0f921\"]],\"type\":\"histogram2dcontour\"}],\"mesh3d\":[{\"colorbar\":{\"outlinewidth\":0,\"ticks\":\"\"},\"type\":\"mesh3d\"}],\"parcoords\":[{\"line\":{\"colorbar\":{\"outlinewidth\":0,\"ticks\":\"\"}},\"type\":\"parcoords\"}],\"pie\":[{\"automargin\":true,\"type\":\"pie\"}],\"scatter\":[{\"marker\":{\"colorbar\":{\"outlinewidth\":0,\"ticks\":\"\"}},\"type\":\"scatter\"}],\"scatter3d\":[{\"line\":{\"colorbar\":{\"outlinewidth\":0,\"ticks\":\"\"}},\"marker\":{\"colorbar\":{\"outlinewidth\":0,\"ticks\":\"\"}},\"type\":\"scatter3d\"}],\"scattercarpet\":[{\"marker\":{\"colorbar\":{\"outlinewidth\":0,\"ticks\":\"\"}},\"type\":\"scattercarpet\"}],\"scattergeo\":[{\"marker\":{\"colorbar\":{\"outlinewidth\":0,\"ticks\":\"\"}},\"type\":\"scattergeo\"}],\"scattergl\":[{\"marker\":{\"colorbar\":{\"outlinewidth\":0,\"ticks\":\"\"}},\"type\":\"scattergl\"}],\"scattermapbox\":[{\"marker\":{\"colorbar\":{\"outlinewidth\":0,\"ticks\":\"\"}},\"type\":\"scattermapbox\"}],\"scatterpolar\":[{\"marker\":{\"colorbar\":{\"outlinewidth\":0,\"ticks\":\"\"}},\"type\":\"scatterpolar\"}],\"scatterpolargl\":[{\"marker\":{\"colorbar\":{\"outlinewidth\":0,\"ticks\":\"\"}},\"type\":\"scatterpolargl\"}],\"scatterternary\":[{\"marker\":{\"colorbar\":{\"outlinewidth\":0,\"ticks\":\"\"}},\"type\":\"scatterternary\"}],\"surface\":[{\"colorbar\":{\"outlinewidth\":0,\"ticks\":\"\"},\"colorscale\":[[0.0,\"#0d0887\"],[0.1111111111111111,\"#46039f\"],[0.2222222222222222,\"#7201a8\"],[0.3333333333333333,\"#9c179e\"],[0.4444444444444444,\"#bd3786\"],[0.5555555555555556,\"#d8576b\"],[0.6666666666666666,\"#ed7953\"],[0.7777777777777778,\"#fb9f3a\"],[0.8888888888888888,\"#fdca26\"],[1.0,\"#f0f921\"]],\"type\":\"surface\"}],\"table\":[{\"cells\":{\"fill\":{\"color\":\"#EBF0F8\"},\"line\":{\"color\":\"white\"}},\"header\":{\"fill\":{\"color\":\"#C8D4E3\"},\"line\":{\"color\":\"white\"}},\"type\":\"table\"}]},\"layout\":{\"annotationdefaults\":{\"arrowcolor\":\"#2a3f5f\",\"arrowhead\":0,\"arrowwidth\":1},\"autotypenumbers\":\"strict\",\"coloraxis\":{\"colorbar\":{\"outlinewidth\":0,\"ticks\":\"\"}},\"colorscale\":{\"diverging\":[[0,\"#8e0152\"],[0.1,\"#c51b7d\"],[0.2,\"#de77ae\"],[0.3,\"#f1b6da\"],[0.4,\"#fde0ef\"],[0.5,\"#f7f7f7\"],[0.6,\"#e6f5d0\"],[0.7,\"#b8e186\"],[0.8,\"#7fbc41\"],[0.9,\"#4d9221\"],[1,\"#276419\"]],\"sequential\":[[0.0,\"#0d0887\"],[0.1111111111111111,\"#46039f\"],[0.2222222222222222,\"#7201a8\"],[0.3333333333333333,\"#9c179e\"],[0.4444444444444444,\"#bd3786\"],[0.5555555555555556,\"#d8576b\"],[0.6666666666666666,\"#ed7953\"],[0.7777777777777778,\"#fb9f3a\"],[0.8888888888888888,\"#fdca26\"],[1.0,\"#f0f921\"]],\"sequentialminus\":[[0.0,\"#0d0887\"],[0.1111111111111111,\"#46039f\"],[0.2222222222222222,\"#7201a8\"],[0.3333333333333333,\"#9c179e\"],[0.4444444444444444,\"#bd3786\"],[0.5555555555555556,\"#d8576b\"],[0.6666666666666666,\"#ed7953\"],[0.7777777777777778,\"#fb9f3a\"],[0.8888888888888888,\"#fdca26\"],[1.0,\"#f0f921\"]]},\"colorway\":[\"#636efa\",\"#EF553B\",\"#00cc96\",\"#ab63fa\",\"#FFA15A\",\"#19d3f3\",\"#FF6692\",\"#B6E880\",\"#FF97FF\",\"#FECB52\"],\"font\":{\"color\":\"#2a3f5f\"},\"geo\":{\"bgcolor\":\"white\",\"lakecolor\":\"white\",\"landcolor\":\"#E5ECF6\",\"showlakes\":true,\"showland\":true,\"subunitcolor\":\"white\"},\"hoverlabel\":{\"align\":\"left\"},\"hovermode\":\"closest\",\"mapbox\":{\"style\":\"light\"},\"paper_bgcolor\":\"white\",\"plot_bgcolor\":\"#E5ECF6\",\"polar\":{\"angularaxis\":{\"gridcolor\":\"white\",\"linecolor\":\"white\",\"ticks\":\"\"},\"bgcolor\":\"#E5ECF6\",\"radialaxis\":{\"gridcolor\":\"white\",\"linecolor\":\"white\",\"ticks\":\"\"}},\"scene\":{\"xaxis\":{\"backgroundcolor\":\"#E5ECF6\",\"gridcolor\":\"white\",\"gridwidth\":2,\"linecolor\":\"white\",\"showbackground\":true,\"ticks\":\"\",\"zerolinecolor\":\"white\"},\"yaxis\":{\"backgroundcolor\":\"#E5ECF6\",\"gridcolor\":\"white\",\"gridwidth\":2,\"linecolor\":\"white\",\"showbackground\":true,\"ticks\":\"\",\"zerolinecolor\":\"white\"},\"zaxis\":{\"backgroundcolor\":\"#E5ECF6\",\"gridcolor\":\"white\",\"gridwidth\":2,\"linecolor\":\"white\",\"showbackground\":true,\"ticks\":\"\",\"zerolinecolor\":\"white\"}},\"shapedefaults\":{\"line\":{\"color\":\"#2a3f5f\"}},\"ternary\":{\"aaxis\":{\"gridcolor\":\"white\",\"linecolor\":\"white\",\"ticks\":\"\"},\"baxis\":{\"gridcolor\":\"white\",\"linecolor\":\"white\",\"ticks\":\"\"},\"bgcolor\":\"#E5ECF6\",\"caxis\":{\"gridcolor\":\"white\",\"linecolor\":\"white\",\"ticks\":\"\"}},\"title\":{\"x\":0.05},\"xaxis\":{\"automargin\":true,\"gridcolor\":\"white\",\"linecolor\":\"white\",\"ticks\":\"\",\"title\":{\"standoff\":15},\"zerolinecolor\":\"white\",\"zerolinewidth\":2},\"yaxis\":{\"automargin\":true,\"gridcolor\":\"white\",\"linecolor\":\"white\",\"ticks\":\"\",\"title\":{\"standoff\":15},\"zerolinecolor\":\"white\",\"zerolinewidth\":2}}},\"title\":{\"text\":\"Team Rating by Country\"},\"xaxis\":{\"anchor\":\"y\",\"domain\":[0.0,1.0],\"title\":{\"text\":\"Team\"}},\"yaxis\":{\"anchor\":\"x\",\"domain\":[0.0,1.0],\"title\":{\"text\":\"Points\"}}},                        {\"responsive\": true}                    ).then(function(){\n",
       "                            \n",
       "var gd = document.getElementById('ee5c914e-9b8d-4c4e-9951-a9d1ca5aa8d8');\n",
       "var x = new MutationObserver(function (mutations, observer) {{\n",
       "        var display = window.getComputedStyle(gd).display;\n",
       "        if (!display || display === 'none') {{\n",
       "            console.log([gd, 'removed!']);\n",
       "            Plotly.purge(gd);\n",
       "            observer.disconnect();\n",
       "        }}\n",
       "}});\n",
       "\n",
       "// Listen for the removal of the full notebook cells\n",
       "var notebookContainer = gd.closest('#notebook-container');\n",
       "if (notebookContainer) {{\n",
       "    x.observe(notebookContainer, {childList: true});\n",
       "}}\n",
       "\n",
       "// Listen for the clearing of the current output cell\n",
       "var outputEl = gd.closest('.output');\n",
       "if (outputEl) {{\n",
       "    x.observe(outputEl, {childList: true});\n",
       "}}\n",
       "\n",
       "                        })                };                });            </script>        </div>"
      ]
     },
     "metadata": {},
     "output_type": "display_data"
    }
   ],
   "source": [
    "px.bar(cricket_stats_odi_df, x='Team', y='Points',title = \"Team Rating by Country\" ,hover_data=['Matches'])"
   ]
  },
  {
   "cell_type": "markdown",
   "id": "6b643e2e-a449-4085-a2d7-630ee6e9affd",
   "metadata": {},
   "source": [
    "From the graphs above we can say that Team NewZealand has a better rating when compared to other teams, but India stands at the top for number of points acquired by a team. There are many points that are considered while calculating the final ratings of the team like their scores in a match, if the game was away or home and the margin with which the opposition was conquered."
   ]
  },
  {
   "cell_type": "markdown",
   "id": "461c87c7-df0c-4224-a928-4a35dafc3d3c",
   "metadata": {},
   "source": [
    "### Conclusion - "
   ]
  },
  {
   "cell_type": "markdown",
   "id": "66d0c323-f0ef-4f9a-b195-7ad052577615",
   "metadata": {},
   "source": [
    "In this notebook I have extracted data from a html link, imported it into a dataframe and then analyzed the data using data visualization techniques."
   ]
  }
 ],
 "metadata": {
  "kernelspec": {
   "display_name": "Python 3",
   "language": "python",
   "name": "python3"
  },
  "language_info": {
   "codemirror_mode": {
    "name": "ipython",
    "version": 3
   },
   "file_extension": ".py",
   "mimetype": "text/x-python",
   "name": "python",
   "nbconvert_exporter": "python",
   "pygments_lexer": "ipython3",
   "version": "3.7.10"
  }
 },
 "nbformat": 4,
 "nbformat_minor": 5
}
